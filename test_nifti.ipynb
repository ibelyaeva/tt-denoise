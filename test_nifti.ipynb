{
 "cells": [
  {
   "cell_type": "code",
   "execution_count": 54,
   "metadata": {},
   "outputs": [],
   "source": [
    "import nibabel as nb\n",
    "import numpy as np\n",
    "from nilearn import plotting, image\n",
    "import os\n",
    "import metric_util as mt\n",
    "import data_util as du\n",
    "from scipy import stats\n",
    "import import_util as im\n",
    "from scipy import ndimage\n",
    "from nilearn.masking import apply_mask\n",
    "import carpet_plot\n",
    "\n",
    "import sys\n",
    "from matplotlib import pyplot as plt\n",
    "from scipy.spatial import distance\n",
    "from scipy.cluster import hierarchy\n",
    "import pandas as pd"
   ]
  },
  {
   "cell_type": "code",
   "execution_count": 2,
   "metadata": {},
   "outputs": [
    {
     "name": "stderr",
     "output_type": "stream",
     "text": [
      "/Library/Frameworks/Python.framework/Versions/2.7/lib/python2.7/site-packages/scipy/ndimage/interpolation.py:472: UserWarning: The behaviour of affine_transform with a one-dimensional array supplied for the matrix parameter has changed in scipy 0.18.0.\n",
      "  \"The behaviour of affine_transform with a one-dimensional \"\n"
     ]
    }
   ],
   "source": [
    "template_folder = \"/work/scratch/tensor_completion/4D/noise/template\"\n",
    "gm_prob_file_name =\"mni_icbm152_gm_tal_nlin_asym_09c.nii\"\n",
    "csf_prob_file_name= \"mni_icbm152_wm_tal_nlin_asym_09c.nii\"\n",
    "wm_prob_file_name = \"mni_icbm152_wm_tal_nlin_asym_09c.nii\"\n",
    "icbm_file_name = \"mni_icbm152_t1_tal_nlin_asym_09c.nii\"\n",
    "\n",
    "gm_prob_path = os.path.join(template_folder, gm_prob_file_name)\n",
    "csf_prob_path = os.path.join(template_folder, csf_prob_file_name)\n",
    "wm_prob_path = os.path.join(template_folder, wm_prob_file_name)\n",
    "icbm_file_path = os.path.join(template_folder, icbm_file_name)\n",
    "\n",
    "mask_gm_path = os.path.join(template_folder, \"gm_mask.nii\")\n",
    "subject_img_data_gm_path = \"/work/scratch/tensor_completion/4D/noise/mask/subject_gm_mask.nii\"\n",
    "\n",
    "subject_scan_path = du.get_full_path_subject1()\n",
    "subject_img = mt.read_image_abs_path(subject_scan_path)\n",
    "\n",
    "gm_prob_img = mt.read_image_abs_path(gm_prob_path)\n",
    "csf_prob_img = mt.read_image_abs_path(csf_prob_path)\n",
    "wm_prob_img = mt.read_image_abs_path(wm_prob_path)\n",
    "icmb_prob_img = mt.read_image_abs_path(icbm_file_path)\n",
    "\n",
    "mask_gm = image.resample_to_img(gm_prob_img, subject_img, interpolation='nearest').get_data()\n",
    "mask_wm = image.resample_to_img(wm_prob_img, subject_img, interpolation='nearest').get_data()\n",
    "mask_csf = image.resample_to_img(csf_prob_img, subject_img, interpolation='nearest').get_data()\n",
    "mask_icmb = image.resample_to_img(icmb_prob_img, subject_img, interpolation='nearest').get_data()\n",
    "subject_img_data = np.array(subject_img.get_data())"
   ]
  },
  {
   "cell_type": "code",
   "execution_count": 3,
   "metadata": {},
   "outputs": [
    {
     "name": "stdout",
     "output_type": "stream",
     "text": [
      "Unfolded 193x229x193 mask matrix using Fortran ordering\n"
     ]
    }
   ],
   "source": [
    "tissue,dimsTs = im.import_nifti(icbm_file_path)"
   ]
  },
  {
   "cell_type": "code",
   "execution_count": 4,
   "metadata": {},
   "outputs": [],
   "source": [
    "subject_img_data_gm = subject_img_data[mask_gm>0.5]"
   ]
  },
  {
   "cell_type": "code",
   "execution_count": 5,
   "metadata": {},
   "outputs": [
    {
     "data": {
      "text/plain": [
       "(36346, 144)"
      ]
     },
     "execution_count": 5,
     "metadata": {},
     "output_type": "execute_result"
    }
   ],
   "source": [
    "subject_img_data_gm.shape"
   ]
  },
  {
   "cell_type": "code",
   "execution_count": 6,
   "metadata": {},
   "outputs": [],
   "source": [
    "subject_img_data_gm = subject_img_data_gm[subject_img_data_gm.std(axis=-1)!=0]"
   ]
  },
  {
   "cell_type": "code",
   "execution_count": 7,
   "metadata": {},
   "outputs": [],
   "source": [
    "mask_gm[mask_gm <0.5] = 0.0"
   ]
  },
  {
   "cell_type": "code",
   "execution_count": 8,
   "metadata": {},
   "outputs": [],
   "source": [
    "z_scored_data = np.nan_to_num(stats.zscore(subject_img_data, axis=-1))"
   ]
  },
  {
   "cell_type": "code",
   "execution_count": 9,
   "metadata": {},
   "outputs": [],
   "source": [
    "def get_gm_mask(infile, treshold = 0.2):\n",
    " gm_img = mt.read_image_abs_path(infile)\n",
    " gm_data = np.array(gm_img.get_data())\n",
    " gm_mask = (gm_data > 0.2)\n",
    " gm_mask = ndimage.binary_closing(gm_mask, iterations=2)\n",
    " gm_mask_img = image.new_img_like(gm_img, gm_mask)\n",
    " return gm_mask_img"
   ]
  },
  {
   "cell_type": "code",
   "execution_count": 10,
   "metadata": {},
   "outputs": [],
   "source": [
    "def get_wm_mask(infile, treshold = 0.2):\n",
    " wm_img = mt.read_image_abs_path(infile)\n",
    " wm_data = np.array(wm_img.get_data())\n",
    " wm_mask = (wm_data > 0.2)\n",
    " wm_mask = ndimage.binary_closing(wm_mask, iterations=2)\n",
    " wm_mask_img = image.new_img_like(wm_img, wm_mask)\n",
    " return wm_mask_img"
   ]
  },
  {
   "cell_type": "code",
   "execution_count": 11,
   "metadata": {},
   "outputs": [],
   "source": [
    "gm_img = get_wm_mask(wm_prob_path)"
   ]
  },
  {
   "cell_type": "code",
   "execution_count": 12,
   "metadata": {},
   "outputs": [],
   "source": [
    "def get_csf_mask(infile, treshold = 0.2):\n",
    " cf_img = mt.read_image_abs_path(infile)\n",
    " cf_data = np.array(cf_img.get_data())\n",
    " cf_mask = (cf_data > 0.2)\n",
    " cf_mask = ndimage.binary_closing(cf_mask, iterations=2)\n",
    " cf_mask_img = image.new_img_like(cf_img, cf_mask)\n",
    " return cf_mask_img"
   ]
  },
  {
   "cell_type": "code",
   "execution_count": 13,
   "metadata": {},
   "outputs": [],
   "source": [
    "xx = get_csf_mask(csf_prob_path)"
   ]
  },
  {
   "cell_type": "code",
   "execution_count": 18,
   "metadata": {},
   "outputs": [],
   "source": [
    "\n",
    "x_miss_path = \"/work/scratch/tensor_completion/4D/noise/corrupted_subjects/artifacts/45/x_miss_45.nii\"\n",
    "x_miss_img = mt.read_image_abs_path(x_miss_path)"
   ]
  },
  {
   "cell_type": "code",
   "execution_count": 33,
   "metadata": {},
   "outputs": [],
   "source": [
    "def resample_mask(src_img, target_img):\n",
    "    resampled_img = image.resample_to_img(src_img, target_img, interpolation='continuous')\n",
    "    data = resampled_img.get_data()\n",
    "    data = (data > 0).astype('float32')\n",
    "    return data"
   ]
  },
  {
   "cell_type": "code",
   "execution_count": 34,
   "metadata": {},
   "outputs": [],
   "source": [
    "gm_mask = resample_mask(gm_img, subject_img)"
   ]
  },
  {
   "cell_type": "code",
   "execution_count": 35,
   "metadata": {},
   "outputs": [],
   "source": [
    "subject_img_data = subject_img.get_data()"
   ]
  },
  {
   "cell_type": "code",
   "execution_count": 49,
   "metadata": {},
   "outputs": [],
   "source": [
    "ntsteps = subject_img_data.shape[-1]\n",
    "X_ts = subject_img_data.reshape(-1, ntsteps)"
   ]
  },
  {
   "cell_type": "code",
   "execution_count": 39,
   "metadata": {},
   "outputs": [],
   "source": [
    "CF_ind = 1\n",
    "GM_ind = 2\n",
    "WM_ind = 3\n",
    "ordering = []"
   ]
  },
  {
   "cell_type": "code",
   "execution_count": 42,
   "metadata": {},
   "outputs": [],
   "source": [
    "def reorderMatrixRows(X,distanceMetric='euclidean',linkageMethod='average',doOptimalLeaf=False):\n",
    "    \"Get reordering of rows of a matrix by clustering\"\n",
    "\n",
    "    # Find (and exclude) constant voxels:\n",
    "    isConstant = (np.std(X,axis=1,ddof=1)==0)\n",
    "    if np.any(isConstant):\n",
    "        X = X[~isConstant,:]\n",
    "        print('%u constant voxels ignored' % np.sum(isConstant))\n",
    "\n",
    "    # z-score the remaining voxels:\n",
    "    X = stats.zscore(X,axis=1,ddof=1)\n",
    "\n",
    "    print('Filtered to %u x %u time series' % (X.shape[0],X.shape[1]))\n",
    "\n",
    "    # Compute condensed pairwise distance matrix:\n",
    "    # DataFrame.corr(method='Pearson',min_periods=1)\n",
    "    dij = distance.pdist(X,metric=distanceMetric)\n",
    "    print('%u %s distances computed!' %(dij.shape[0],distanceMetric))\n",
    "\n",
    "    # Check D is well-behaved:\n",
    "    if not np.isfinite(dij).all():\n",
    "        raise ValueError('Distance matrix contains non-finite values...')\n",
    "\n",
    "    # Compute hierarchical linkage structure:\n",
    "    Z = hierarchy.linkage(dij,method=linkageMethod,optimal_ordering=doOptimalLeaf)\n",
    "    print('%u objects agglomerated using average linkage clustering!' %(X.shape[0]))\n",
    "\n",
    "    # Get voxel ordering vector:\n",
    "    if np.any(isConstant):\n",
    "        # Extend to the full size\n",
    "        nodeOrdering = np.zeros_like(isConstant,dtype=int)\n",
    "        nodeOrdering[~isConstant] = hierarchy.leaves_list(Z)\n",
    "    else:\n",
    "        nodeOrdering = hierarchy.leaves_list(Z)\n",
    "    return nodeOrdering"
   ]
  },
  {
   "cell_type": "code",
   "execution_count": 41,
   "metadata": {},
   "outputs": [
    {
     "data": {
      "text/plain": [
       "(153594, 144)"
      ]
     },
     "execution_count": 41,
     "metadata": {},
     "output_type": "execute_result"
    }
   ],
   "source": [
    "X_ts.shape"
   ]
  },
  {
   "cell_type": "code",
   "execution_count": 55,
   "metadata": {},
   "outputs": [],
   "source": [
    "distanceMetric='euclidean'\n",
    "linkageMethod='average'\n",
    "doOptimalLeaf=False"
   ]
  },
  {
   "cell_type": "code",
   "execution_count": 52,
   "metadata": {},
   "outputs": [],
   "source": [
    "X_ts_gm = subject_img_data[gm_mask==1]"
   ]
  },
  {
   "cell_type": "code",
   "execution_count": null,
   "metadata": {},
   "outputs": [
    {
     "name": "stdout",
     "output_type": "stream",
     "text": [
      "Filtered to 94314 x 144 time series\n"
     ]
    }
   ],
   "source": [
    "nodeOrdering = reorderMatrixRows(X_ts_gm,distanceMetric=distanceMetric,\n",
    "                            linkageMethod=linkageMethod,doOptimalLeaf=doOptimalLeaf)"
   ]
  },
  {
   "cell_type": "code",
   "execution_count": null,
   "metadata": {},
   "outputs": [],
   "source": []
  },
  {
   "cell_type": "code",
   "execution_count": 45,
   "metadata": {},
   "outputs": [
    {
     "data": {
      "text/plain": [
       "(53, 63, 46)"
      ]
     },
     "execution_count": 45,
     "metadata": {},
     "output_type": "execute_result"
    }
   ],
   "source": []
  },
  {
   "cell_type": "code",
   "execution_count": null,
   "metadata": {},
   "outputs": [],
   "source": []
  }
 ],
 "metadata": {
  "kernelspec": {
   "display_name": "Python 2",
   "language": "python",
   "name": "python2"
  },
  "language_info": {
   "codemirror_mode": {
    "name": "ipython",
    "version": 2
   },
   "file_extension": ".py",
   "mimetype": "text/x-python",
   "name": "python",
   "nbconvert_exporter": "python",
   "pygments_lexer": "ipython2",
   "version": "2.7.13"
  }
 },
 "nbformat": 4,
 "nbformat_minor": 2
}
