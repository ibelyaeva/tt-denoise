{
 "cells": [
  {
   "cell_type": "code",
   "execution_count": 1,
   "metadata": {},
   "outputs": [],
   "source": [
    "import texfig\n",
    "import matplotlib.pyplot as plt\n",
    "import tensorflow as tf\n",
    "import numpy as np\n",
    "import t3f\n",
    "tf.set_random_seed(0)\n",
    "np.random.seed(0)\n",
    "%matplotlib inline\n",
    "import matplotlib.pyplot as plt\n",
    "import metric_util as mt\n",
    "import data_util as du\n",
    "from t3f import shapes\n",
    "from nilearn import image\n",
    "from tensorflow.python.util import nest\n",
    "import copy\n",
    "from nilearn import plotting\n",
    "from t3f import ops\n",
    "import mri_draw_utils as mrd\n",
    "from t3f import initializers\n",
    "from t3f import approximate\n",
    "from scipy import optimize \n",
    "from nilearn.masking import compute_background_mask\n",
    "from nilearn.masking import compute_epi_mask\n",
    "from collections import OrderedDict\n",
    "import pandas as pd\n",
    "from scipy import stats\n",
    "from nilearn.image import math_img\n",
    "from t3f import initializers\n",
    "import numpy.testing as nps\n",
    "from dipy.sims.voxel import add_noise\n",
    "import nibabel as nib\n",
    "import noise_util as nu\n",
    "import draw_utils as dr\n",
    "import os"
   ]
  },
  {
   "cell_type": "code",
   "execution_count": 2,
   "metadata": {},
   "outputs": [
    {
     "name": "stdout",
     "output_type": "stream",
     "text": [
      "Subject Path: /work/pl/sch/analysis/data/COBRE001/swaAMAYER+cobre01_63001+M87100944+20110309at135133+RSTpre_V01_R01+CM.nii\n"
     ]
    }
   ],
   "source": [
    "subject_scan_path = du.get_full_path_subject1()\n",
    "print \"Subject Path: \" + str(subject_scan_path)\n",
    "x_true_org = mt.read_image_abs_path(subject_scan_path)\n",
    "ground_truth = np.array(x_true_org.get_data()).astype('float32')\n",
    "ten_ones = np.ones_like(ground_truth).astype('float32')\n",
    "ten_zeros = np.zeros_like(ground_truth).astype('float32')"
   ]
  },
  {
   "cell_type": "code",
   "execution_count": 3,
   "metadata": {},
   "outputs": [],
   "source": [
    "def init_random(x):\n",
    "    init = (2*np.random.random_sample(x.shape) - 1).astype('float32')\n",
    "    return init"
   ]
  },
  {
   "cell_type": "code",
   "execution_count": 4,
   "metadata": {},
   "outputs": [],
   "source": [
    "def cost_with_treshold(x, thresh = 0.000212633):\n",
    "    res = tf.abs(t3f.full(x))\n",
    "    zeros = tf.zeros_like(res)\n",
    "    masked = tf.greater(res, thresh)\n",
    "    new_tensor = tf.where(masked, t3f.full(x), zeros)\n",
    "    return t3f.to_tt_tensor(new_tensor, max_tt_rank=63)"
   ]
  },
  {
   "cell_type": "code",
   "execution_count": 5,
   "metadata": {},
   "outputs": [],
   "source": [
    "#Initialize variables"
   ]
  },
  {
   "cell_type": "code",
   "execution_count": null,
   "metadata": {},
   "outputs": [],
   "source": []
  },
  {
   "cell_type": "code",
   "execution_count": 6,
   "metadata": {},
   "outputs": [],
   "source": [
    "x_init = copy.deepcopy(ground_truth)\n",
    "x_init_bk = copy.deepcopy(x_init)\n",
    "norm_ground_x_init = np.linalg.norm(x_init)\n",
    "x_init = x_init * (1./norm_ground_x_init)\n",
    "x_init_img = mt.reconstruct_image_affine(x_true_org, x_init)\n",
    "signal_w_noise = nu.add_richian_noise(x_init_img, x_init, 30)\n",
    "signal_w_noise_img = mt.reconstruct_image_affine(x_true_org, signal_w_noise)\n",
    "norm_ground_noise = np.linalg.norm(signal_w_noise)\n",
    "signal_w_noise = signal_w_noise * (1./norm_ground_noise)\n",
    "x_init = signal_w_noise.astype('float32')\n",
    "#tf_ten_zeros = t3f.to_tt_tensor(ten_zeros, max_tt_rank=63)\n",
    "#tf_ten_ones = t3f.to_tt_tensor(ten_ones, max_tt_rank=63)"
   ]
  },
  {
   "cell_type": "code",
   "execution_count": 7,
   "metadata": {},
   "outputs": [
    {
     "data": {
      "image/png": "[encoded data removed]",
      "text/plain": [
       "<matplotlib.figure.Figure at 0x1067a29d0>"
      ]
     },
     "metadata": {},
     "output_type": "display_data"
    }
   ],
   "source": [
    "x_hat_img = mt.reconstruct_image_affine(x_true_org, signal_w_noise)\n",
    "x_hat = image.index_img(x_hat_img,1)\n",
    "recovered_image = plotting.plot_epi(x_hat, bg_img=None,black_bg=True, cmap='jet', cut_coords=None)"
   ]
  },
  {
   "cell_type": "code",
   "execution_count": 8,
   "metadata": {},
   "outputs": [
    {
     "name": "stdout",
     "output_type": "stream",
     "text": [
      "[1, 53, 1, 1, 1] 0 (1, 53, 53)\n",
      "[1, 53, 63, 1, 1] 1 (53, 63, 63)\n",
      "[1, 53, 63, 63, 1] 2 (63, 46, 63)\n",
      "ranks: [1, 53, 63, 63, 1]\n",
      "[1, 53, 1, 1, 1] 0 (1, 53, 53)\n",
      "[1, 53, 63, 1, 1] 1 (53, 63, 63)\n",
      "[1, 53, 63, 63, 1] 2 (63, 46, 63)\n",
      "ranks: [1, 53, 63, 63, 1]\n"
     ]
    }
   ],
   "source": [
    "ground_truth_tf = t3f.to_tt_tensor(x_init, max_tt_rank=63)\n",
    "#tf_zeros = t3f.get_variable('tf_zeros', initializer=tf_ten_zeros, trainable=False)\n",
    "#tf_ones = t3f.get_variable('tf_ones', initializer=tf_ten_ones, trainable=False)\n",
    "X = t3f.get_variable('X', initializer=ground_truth_tf, trainable=False)\n",
    "L = t3f.get_variable('L', initializer=ground_truth_tf)\n",
    "s_init = init_random(x_init)\n",
    "s_init.fill(0)\n",
    "s_init_tf = t3f.to_tt_tensor(s_init, max_tt_rank=63)\n",
    "S = t3f.get_variable('S',initializer=s_init_tf)\n",
    "\n",
    "#Sold = t3f.get_variable('Sold', initializer=tf_ten_zeros)\n",
    "#G = t3f.get_variable('G', initializer=tf_ten_zeros)\n"
   ]
  },
  {
   "cell_type": "code",
   "execution_count": 9,
   "metadata": {},
   "outputs": [
    {
     "name": "stdout",
     "output_type": "stream",
     "text": [
      "A Tensor Train variable of shape (53, 63, 46, 144), TT-ranks: (1, 53, 63, 63, 1)\n"
     ]
    }
   ],
   "source": [
    "print S\n",
    "#Initialize Gradienst"
   ]
  },
  {
   "cell_type": "code",
   "execution_count": null,
   "metadata": {},
   "outputs": [],
   "source": []
  },
  {
   "cell_type": "code",
   "execution_count": 10,
   "metadata": {},
   "outputs": [
    {
     "data": {
      "text/plain": [
       "array([1.])"
      ]
     },
     "execution_count": 10,
     "metadata": {},
     "output_type": "execute_result"
    }
   ],
   "source": [
    "zero1 = np.array([1.0])\n",
    "zero1"
   ]
  },
  {
   "cell_type": "code",
   "execution_count": 11,
   "metadata": {},
   "outputs": [
    {
     "name": "stdout",
     "output_type": "stream",
     "text": [
      "[1, 53, 1, 1, 1] 0 (1, 53, 53)\n",
      "[1, 53, 63, 1, 1] 1 (53, 63, 63)\n",
      "[1, 53, 63, 63, 1] 2 (63, 46, 63)\n",
      "ranks: [1, 53, 63, 63, 1]\n",
      "Max_TT rank63\n",
      "[1, 53, 63, 63, 1]\n",
      "Max_TT rank63\n",
      "[1, 53, 63, 63, 1]\n"
     ]
    }
   ],
   "source": [
    "alpha = 0.01\n",
    "mu = 0.3\n",
    "\n",
    "gradSt3f = cost_with_treshold(X - L)\n",
    "rimGradS = t3f.riemannian.project(gradSt3f,S)\n",
    "#train_step_tensor_s = t3f.assign(S, gradSt3f)\n",
    "train_step_tensor_s = gradSt3f\n",
    "gradLt3f = 1.0/(1.0 + mu)*(X - train_step_tensor_s)\n",
    "rimGradL = t3f.riemannian.project(gradLt3f,L)\n",
    "train_step_tensor_l = t3f.assign(L, t3f.round(L + alpha * rimGradL, max_tt_rank=63))\n",
    "low_rank_update_op = t3f.assign(S, t3f.round(X - train_step_tensor_l,  max_tt_rank=63))\n",
    "normGradS = t3f.frobenius_norm(rimGradS)\n",
    "normGradL = t3f.frobenius_norm(rimGradL)\n",
    "total_grad = rimGradS + rimGradL\n",
    "total_grad_norm = t3f.frobenius_norm(total_grad)\n",
    "\n"
   ]
  },
  {
   "cell_type": "code",
   "execution_count": 12,
   "metadata": {},
   "outputs": [],
   "source": [
    "loss = 0.5 * t3f.frobenius_norm_squared(L + S - X)\n",
    "normL_S = t3f.frobenius_norm(L + S - X)"
   ]
  },
  {
   "cell_type": "code",
   "execution_count": 13,
   "metadata": {},
   "outputs": [],
   "source": [
    "def solution_stopping_criterion(ll,ss,xx):\n",
    "    return (np.linalg.norm(ll + ss - xx)**2)/(np.linalg.norm(xx)**2)"
   ]
  },
  {
   "cell_type": "code",
   "execution_count": 14,
   "metadata": {},
   "outputs": [],
   "source": [
    "def relative_convergence_error(solution, k):\n",
    "    return np.linalg.norm(solution[k] - solution[k-1])/np.linalg.norm(solution[k-1])"
   ]
  },
  {
   "cell_type": "code",
   "execution_count": 15,
   "metadata": {},
   "outputs": [],
   "source": [
    "solution_S = []\n",
    "solution_L = []\n",
    "solution_L_S = []\n",
    "\n",
    "cost_S = []\n",
    "cost_L = []"
   ]
  },
  {
   "cell_type": "code",
   "execution_count": 16,
   "metadata": {},
   "outputs": [],
   "source": [
    "sess = tf.Session()\n",
    "sess.run(tf.global_variables_initializer())"
   ]
  },
  {
   "cell_type": "code",
   "execution_count": 17,
   "metadata": {},
   "outputs": [
    {
     "name": "stdout",
     "output_type": "stream",
     "text": [
      "Iteration#: 0; loss: 3.5468642e-11; norm_gradL: 0.76903325; norm_gradS: 0.0031622776\n",
      "Residual Norm: 0.0031622888\n",
      "Gradient Norm: 0.7690353\n",
      "Solution Tolerance: 0.000533050515742837\n",
      "Iteration#: 1; loss: 1.9423438e-10; norm_gradL: 0.7690327; norm_gradS: 0.0031622776\n",
      "Residual Norm: 0.003162339\n",
      "Gradient Norm: 0.76903415\n"
     ]
    },
    {
     "name": "stderr",
     "output_type": "stream",
     "text": [
      "/Library/Frameworks/Python.framework/Versions/2.7/lib/python2.7/site-packages/ipykernel_launcher.py:2: RuntimeWarning: divide by zero encountered in float_scalars\n",
      "  \n"
     ]
    },
    {
     "name": "stdout",
     "output_type": "stream",
     "text": [
      "S Relative Error: inf; L Relative Error: 0.0076920874\n",
      "Total Solution Relative Error: 1.5903486e-05\n",
      "Solution Tolerance: 0.0005330495695051332\n",
      "Iteration#: 2; loss: 1.8349072e-10; norm_gradL: 0.76903266; norm_gradS: 0.0031622776\n",
      "Residual Norm: 0.0031623356\n",
      "Gradient Norm: 0.7690348\n",
      "S Relative Error: 0.9991572; L Relative Error: 0.00763442\n",
      "Total Solution Relative Error: 1.1043912e-06\n",
      "Solution Tolerance: 0.0005330495695051332\n",
      "Iteration#: 3; loss: 2.124888e-10; norm_gradL: 0.7690337; norm_gradS: 0.0031622776\n",
      "Residual Norm: 0.0031623447\n",
      "Gradient Norm: 0.7690349\n",
      "S Relative Error: 0.49974966; L Relative Error: 0.007576199\n",
      "Total Solution Relative Error: 2.8714205e-06\n",
      "Solution Tolerance: 0.0005330497415482896\n",
      "Iteration#: 4; loss: 2.2698508e-10; norm_gradL: 0.769033; norm_gradS: 0.0031622776\n",
      "Residual Norm: 0.0031623493\n",
      "Gradient Norm: 0.76903427\n",
      "S Relative Error: 0.33326358; L Relative Error: 0.0075193867\n",
      "Total Solution Relative Error: 1.4725191e-06\n",
      "Solution Tolerance: 0.000533049655526708\n"
     ]
    }
   ],
   "source": [
    "for i in range (5):\n",
    "    S_val, norm_gradS_val,loss_val, L_val, norm_gradL_val, normL_S_val,total_grad_norm_val,_,_,_ = sess.run([t3f.full(S), normGradS, loss, t3f.full(L), normGradL, normL_S, total_grad_norm, train_step_tensor_s.op, train_step_tensor_l.op, low_rank_update_op.op])\n",
    "    #loss_val, L_val, norm_gradL_val, normL_S_val,_ = sess.run([loss, t3f.full(L), normGradL, normL_S, train_step_tensor_l.op])\n",
    "    print \"Iteration#: \" + str(i) + \"; loss: \" + str(loss_val) + \"; norm_gradL: \" + str(norm_gradL_val) + \"; norm_gradS: \" + str(norm_gradS_val)\n",
    "    print \"Residual Norm: \" + str(normL_S_val)\n",
    "    print \"Gradient Norm: \" + str(total_grad_norm_val)\n",
    "    solution_S.append(S_val)\n",
    "    solution_L.append(L_val)\n",
    "    solution_L_S.append(normL_S_val)\n",
    "    \n",
    "    solution_tolerance = solution_stopping_criterion(L_val, S_val, x_init)\n",
    "    \n",
    "    if i >= 1:\n",
    "        cost_s_sol = relative_convergence_error(solution_S, i)\n",
    "        cost_l_sol = relative_convergence_error(solution_L, i)\n",
    "        cost_ls_sol = relative_convergence_error(solution_L_S, i)\n",
    "        print \"S Relative Error: \" + str(cost_s_sol) + \"; L Relative Error: \" + str(cost_l_sol)\n",
    "        print \"Total Solution Relative Error: \" + str(cost_ls_sol)\n",
    "        \n",
    "    print \"Solution Tolerance: \" + str(solution_tolerance)\n",
    "        \n",
    "    "
   ]
  },
  {
   "cell_type": "code",
   "execution_count": 18,
   "metadata": {},
   "outputs": [],
   "source": [
    "G = x_init - L_val - S_val"
   ]
  },
  {
   "cell_type": "code",
   "execution_count": 19,
   "metadata": {},
   "outputs": [
    {
     "data": {
      "image/png": "[encoded data removed]",
      "text/plain": [
       "<matplotlib.figure.Figure at 0x168aef250>"
      ]
     },
     "metadata": {},
     "output_type": "display_data"
    }
   ],
   "source": [
    "x_hat_img = mt.reconstruct_image_affine(x_true_org, x_init)\n",
    "x_hat = image.index_img(x_hat_img,1)\n",
    "recovered_image = plotting.plot_epi(x_hat, bg_img=None,black_bg=True, cmap='jet', cut_coords=None)"
   ]
  },
  {
   "cell_type": "code",
   "execution_count": 20,
   "metadata": {},
   "outputs": [
    {
     "data": {
      "image/png": "[encoded data removed]",
      "text/plain": [
       "<matplotlib.figure.Figure at 0x168aef4d0>"
      ]
     },
     "metadata": {},
     "output_type": "display_data"
    }
   ],
   "source": [
    "x_hat_img = mt.reconstruct_image_affine(x_true_org, x_init_bk)\n",
    "x_hat = image.index_img(x_hat_img,1)\n",
    "recovered_image = plotting.plot_epi(x_hat, bg_img=None,black_bg=True, cmap='jet', cut_coords=None)"
   ]
  },
  {
   "cell_type": "code",
   "execution_count": 30,
   "metadata": {},
   "outputs": [
    {
     "data": {
      "image/png": "[encoded data removed]",
      "text/plain": [
       "<matplotlib.figure.Figure at 0x1572b65d0>"
      ]
     },
     "metadata": {},
     "output_type": "display_data"
    }
   ],
   "source": [
    "x_hat_img_l = mt.reconstruct_image_affine(x_true_org, L_val)\n",
    "x_hat = image.index_img(x_hat_img_l,1)\n",
    "recovered_image = plotting.plot_epi(x_hat, bg_img=None,black_bg=True, cmap='jet', cut_coords=None)"
   ]
  },
  {
   "cell_type": "code",
   "execution_count": 22,
   "metadata": {},
   "outputs": [],
   "source": [
    "diff_img =  x_init - S_val"
   ]
  },
  {
   "cell_type": "code",
   "execution_count": 23,
   "metadata": {},
   "outputs": [
    {
     "data": {
      "image/png": "[encoded data removed]",
      "text/plain": [
       "<matplotlib.figure.Figure at 0x165006390>"
      ]
     },
     "metadata": {},
     "output_type": "display_data"
    }
   ],
   "source": [
    "x_hat_img = mt.reconstruct_image_affine(x_true_org, diff_img)\n",
    "x_hat = image.index_img(x_hat_img,1)\n",
    "recovered_image = plotting.plot_epi(x_hat, bg_img=None,black_bg=True, cmap='jet', cut_coords=None)"
   ]
  },
  {
   "cell_type": "code",
   "execution_count": 24,
   "metadata": {},
   "outputs": [
    {
     "data": {
      "image/png": "[encoded data removed]",
      "text/plain": [
       "<matplotlib.figure.Figure at 0x157720dd0>"
      ]
     },
     "metadata": {},
     "output_type": "display_data"
    }
   ],
   "source": [
    "x_hat_img = mt.reconstruct_image_affine(x_true_org, S_val)\n",
    "x_hat = image.index_img(x_hat_img,1)\n",
    "recovered_image = plotting.plot_epi(x_hat, bg_img=None,black_bg=True, cmap='jet', cut_coords=None)"
   ]
  },
  {
   "cell_type": "code",
   "execution_count": 25,
   "metadata": {},
   "outputs": [
    {
     "data": {
      "image/png": "[encoded data removed]",
      "text/plain": [
       "<matplotlib.figure.Figure at 0x1067d02d0>"
      ]
     },
     "metadata": {},
     "output_type": "display_data"
    }
   ],
   "source": [
    "x_hat_img = mt.reconstruct_image_affine(x_true_org, G)\n",
    "x_hat = image.index_img(x_hat_img,1)\n",
    "recovered_image = plotting.plot_epi(x_hat, bg_img=None,black_bg=True, cmap='jet', cut_coords=None)"
   ]
  },
  {
   "cell_type": "code",
   "execution_count": 80,
   "metadata": {},
   "outputs": [],
   "source": [
    "def save_fig_pdf(fig_id, tight_layout=True):\n",
    "        path_pdf = os.path.join(fig_id + \".pdf\")\n",
    "        print(\"Saving figure\", path_pdf)\n",
    "        print(\"Called from draw utils\")\n",
    "        plt.savefig(path_pdf, format='pdf', facecolor='k', edgecolor='k', dpi=1000)\n",
    "        plt.close()"
   ]
  },
  {
   "cell_type": "code",
   "execution_count": 65,
   "metadata": {},
   "outputs": [],
   "source": [
    "tex_width = 4.78853 # in inches"
   ]
  },
  {
   "cell_type": "code",
   "execution_count": 81,
   "metadata": {},
   "outputs": [],
   "source": [
    "def draw_image1(img, folder, fig_id, plot_title):\n",
    "    \n",
    "    fig = plt.figure(frameon = False)\n",
    "    \n",
    "    plt.clf()\n",
    "    ax = plt.gca()\n",
    "    fig, (main_ax, ax1, ax2) = plt.subplots(width=tex_width, pad = 0, nrows=1, ncols=3, sharex=True, sharey=False)\n",
    "    main_ax.set_facecolor(\"blue\")\n",
    "    main_ax.set_title('Noise Free fMRI Images', color=fg_color, fontweight='normal', fontsize=8)  \n",
    "    main_ax.set_aspect('equal')\n",
    "    \n",
    "    scan_image = plotting.plot_epi(img, annotate=True, draw_cross=False, bg_img=None,black_bg=True, figure= fig, axes = main_ax, cmap='jet', cut_coords=1)     \n",
    "    \n",
    "    fg_color = 'white'\n",
    "    bg_color = 'black'\n",
    "   \n",
    "    fig.suptitle(plot_title, color=fg_color, fontweight='normal', fontsize=10)\n",
    "      \n",
    "    fig_path = os.path.join(folder, fig_id)\n",
    "    \n",
    "    print (\"Figure Path: \" + fig_path)\n",
    "    \n",
    "    save_fig_pdf(fig_path)"
   ]
  },
  {
   "cell_type": "code",
   "execution_count": 34,
   "metadata": {},
   "outputs": [],
   "source": [
    "folder = \"/work/scratch/alternate_minimation/richian/run_2018-12-05_22_38_47/d4/richian/images\""
   ]
  },
  {
   "cell_type": "code",
   "execution_count": 40,
   "metadata": {},
   "outputs": [],
   "source": [
    "fig_id = \"x_low_rank_\" + \"snr_\" + str(30) + \"_\" + str(\"Richian1\")"
   ]
  },
  {
   "cell_type": "code",
   "execution_count": 61,
   "metadata": {},
   "outputs": [],
   "source": [
    "title = \"fMRI Denoising\" + \" SNR = \" + str(30) + \" Noise Type: \" + \"Richian\""
   ]
  },
  {
   "cell_type": "code",
   "execution_count": 83,
   "metadata": {},
   "outputs": [
    {
     "name": "stdout",
     "output_type": "stream",
     "text": [
      "Figure Path: /work/scratch/alternate_minimation/richian/run_2018-12-05_22_38_47/d4/richian/images/x_low_rank_snr_30_Richian1\n",
      "('Saving figure', '/work/scratch/alternate_minimation/richian/run_2018-12-05_22_38_47/d4/richian/images/x_low_rank_snr_30_Richian1.pdf')\n",
      "Called from draw utils\n"
     ]
    }
   ],
   "source": [
    "\n",
    "draw_image1(image.index_img(x_hat_img_l,1), folder, fig_id, title)"
   ]
  },
  {
   "cell_type": "code",
   "execution_count": 26,
   "metadata": {},
   "outputs": [],
   "source": [
    "solution_tolerance = solution_stopping_criterion(L_val, S_val, x_init)"
   ]
  },
  {
   "cell_type": "code",
   "execution_count": 27,
   "metadata": {},
   "outputs": [
    {
     "data": {
      "text/plain": [
       "0.000533049655526708"
      ]
     },
     "execution_count": 27,
     "metadata": {},
     "output_type": "execute_result"
    }
   ],
   "source": [
    "solution_tolerance"
   ]
  },
  {
   "cell_type": "code",
   "execution_count": 28,
   "metadata": {},
   "outputs": [],
   "source": [
    "total = S_val + L_val + G"
   ]
  },
  {
   "cell_type": "code",
   "execution_count": 29,
   "metadata": {},
   "outputs": [
    {
     "data": {
      "text/plain": [
       "array([[[[1.79876915e-05, 9.28705049e-06, 1.27394051e-05, ...,\n",
       "          8.82795212e-06, 1.07621745e-05, 1.06715379e-05],\n",
       "         [2.02137835e-05, 1.23802347e-05, 3.19343962e-06, ...,\n",
       "          1.13893620e-05, 1.16920637e-05, 1.63600853e-05],\n",
       "         [1.35905757e-05, 1.56459755e-05, 6.33018135e-06, ...,\n",
       "          1.10574219e-05, 1.46361199e-05, 8.18510671e-06],\n",
       "         ...,\n",
       "         [6.68377470e-06, 3.47195783e-06, 1.21519624e-05, ...,\n",
       "          5.15978536e-06, 8.12777216e-06, 1.09182620e-05],\n",
       "         [1.33974481e-05, 5.23484050e-06, 6.91266177e-06, ...,\n",
       "          6.77533171e-06, 1.21211815e-06, 9.99104304e-06],\n",
       "         [2.25280019e-06, 4.72332977e-06, 4.58635805e-06, ...,\n",
       "          5.69812255e-06, 5.34875653e-06, 7.10340828e-06]],\n",
       "\n",
       "        [[9.87520980e-06, 3.01999171e-06, 1.75129317e-05, ...,\n",
       "          5.65948721e-06, 1.02645718e-05, 1.33849135e-05],\n",
       "         [1.39898730e-05, 1.13581555e-05, 1.37293064e-05, ...,\n",
       "          1.20634541e-05, 1.64811972e-05, 1.36685740e-05],\n",
       "         [1.23628997e-05, 1.19102260e-05, 1.00434372e-05, ...,\n",
       "          1.45432678e-05, 7.38468952e-06, 1.51366330e-05],\n",
       "         ...,\n",
       "         [2.29145007e-06, 5.33280581e-06, 1.68937695e-05, ...,\n",
       "          1.06776988e-05, 8.65847505e-06, 5.26252188e-06],\n",
       "         [1.25700735e-05, 6.02750151e-06, 8.76623744e-06, ...,\n",
       "          5.78371328e-06, 1.46744060e-06, 8.12400867e-06],\n",
       "         [9.42223596e-06, 7.99939698e-06, 9.18392652e-06, ...,\n",
       "          4.29437569e-06, 8.38048618e-06, 5.29602403e-06]],\n",
       "\n",
       "        [[6.99690645e-06, 6.90880915e-06, 1.56319438e-05, ...,\n",
       "          2.04765256e-05, 9.38608355e-06, 7.28938176e-06],\n",
       "         [1.37309617e-05, 1.18546886e-05, 1.18711177e-05, ...,\n",
       "          1.20272598e-05, 1.41950986e-05, 1.80179923e-05],\n",
       "         [2.10459111e-05, 2.10644066e-05, 1.35983064e-05, ...,\n",
       "          1.71561915e-05, 1.05315339e-05, 1.86923280e-05],\n",
       "         ...,\n",
       "         [3.88931221e-06, 5.29971112e-06, 2.03951640e-06, ...,\n",
       "          5.53076643e-06, 7.37221126e-06, 1.28089523e-05],\n",
       "         [5.58018291e-06, 7.09540473e-07, 5.49511969e-06, ...,\n",
       "          7.71501436e-06, 1.20163859e-05, 2.87085641e-06],\n",
       "         [1.48738491e-05, 8.39013410e-06, 2.02174306e-06, ...,\n",
       "          8.04055708e-06, 7.11136454e-06, 3.05022877e-06]],\n",
       "\n",
       "        ...,\n",
       "\n",
       "        [[1.16938554e-05, 4.17868068e-06, 7.92051833e-06, ...,\n",
       "          4.88845762e-06, 1.87488058e-05, 1.01829664e-05],\n",
       "         [1.06297666e-05, 6.06121830e-06, 7.97303801e-06, ...,\n",
       "          5.36886728e-06, 7.29843669e-06, 1.13412170e-06],\n",
       "         [3.33215576e-06, 7.38490598e-06, 4.15973773e-06, ...,\n",
       "          1.40513293e-06, 6.81800157e-06, 6.91682362e-06],\n",
       "         ...,\n",
       "         [1.28688116e-05, 8.59719876e-07, 5.62634159e-06, ...,\n",
       "          4.66566780e-06, 1.14390241e-05, 7.08051630e-06],\n",
       "         [8.87820715e-06, 1.29326145e-06, 7.87901445e-06, ...,\n",
       "          8.75155092e-06, 4.06454637e-06, 7.74758882e-06],\n",
       "         [2.64667324e-06, 6.49097092e-06, 5.22800838e-06, ...,\n",
       "          3.20224717e-06, 5.64884613e-06, 8.25981442e-06]],\n",
       "\n",
       "        [[3.83591032e-06, 1.09490356e-05, 1.46533821e-05, ...,\n",
       "          1.56396873e-05, 5.29134195e-06, 1.13998976e-05],\n",
       "         [7.68093741e-06, 4.50407970e-06, 5.74930527e-06, ...,\n",
       "          3.83262886e-06, 4.69643783e-06, 1.39213480e-05],\n",
       "         [1.17971067e-05, 5.12674524e-06, 1.44187288e-06, ...,\n",
       "          1.01276237e-05, 4.02913065e-06, 9.58080273e-06],\n",
       "         ...,\n",
       "         [1.08362547e-05, 8.08791810e-07, 3.75871969e-06, ...,\n",
       "          7.79467155e-06, 3.36232188e-06, 8.44614624e-06],\n",
       "         [2.68571603e-06, 1.48496474e-05, 7.37814480e-06, ...,\n",
       "          5.41991903e-06, 9.49473906e-06, 5.83831934e-06],\n",
       "         [3.12190605e-06, 4.24196878e-06, 4.05550236e-06, ...,\n",
       "          2.71839417e-06, 7.12545261e-06, 7.10882887e-06]],\n",
       "\n",
       "        [[4.67815698e-06, 1.34618531e-05, 2.96308281e-06, ...,\n",
       "          8.08074219e-06, 4.62981734e-06, 5.98866427e-06],\n",
       "         [6.49455069e-06, 4.61530362e-06, 1.39273616e-05, ...,\n",
       "          2.42439637e-06, 6.85001578e-06, 9.71032023e-06],\n",
       "         [1.85964745e-06, 8.53460369e-06, 5.57743078e-06, ...,\n",
       "          2.02316951e-05, 4.54243491e-06, 1.24637882e-06],\n",
       "         ...,\n",
       "         [1.17963518e-05, 3.50672963e-06, 1.86142279e-06, ...,\n",
       "          9.32803960e-06, 5.32039485e-06, 5.63501089e-06],\n",
       "         [4.13151793e-06, 6.15534736e-06, 6.54092037e-06, ...,\n",
       "          4.39529686e-06, 5.10850805e-06, 1.07887208e-05],\n",
       "         [1.28972351e-05, 4.73156979e-06, 7.21308970e-06, ...,\n",
       "          5.11188409e-06, 3.35237200e-06, 2.00803697e-06]]],\n",
       "\n",
       "\n",
       "       [[[1.86401994e-05, 1.47747960e-05, 1.24621038e-05, ...,\n",
       "          4.84671909e-06, 1.15672337e-05, 3.79153789e-06],\n",
       "         [1.40709963e-05, 6.32988304e-06, 1.19655851e-05, ...,\n",
       "          1.62951292e-05, 1.45884005e-05, 1.32752029e-05],\n",
       "         [1.65138335e-05, 1.73498411e-05, 1.28268330e-05, ...,\n",
       "          1.38111900e-05, 1.82064286e-05, 1.70944040e-05],\n",
       "         ...,\n",
       "         [6.16209218e-06, 1.12000707e-05, 5.21346374e-06, ...,\n",
       "          3.95642201e-06, 1.77048059e-06, 2.41407906e-06],\n",
       "         [7.39615643e-07, 5.45925104e-06, 9.44739986e-06, ...,\n",
       "          5.88997136e-06, 7.71004488e-06, 7.63442586e-06],\n",
       "         [1.03595212e-05, 5.98243969e-06, 4.17922456e-06, ...,\n",
       "          1.12953330e-05, 1.01503010e-05, 5.16757245e-06]],\n",
       "\n",
       "        [[1.57955219e-05, 9.22798426e-06, 1.77402435e-05, ...,\n",
       "          2.19642352e-05, 1.18490243e-05, 3.69392365e-06],\n",
       "         [1.61365388e-05, 1.08296081e-05, 9.56018630e-06, ...,\n",
       "          1.68038387e-05, 1.19223769e-05, 1.14075592e-05],\n",
       "         [1.91259605e-05, 2.17513589e-05, 1.74598317e-05, ...,\n",
       "          2.21919108e-05, 1.22967176e-05, 2.16093067e-05],\n",
       "         ...,\n",
       "         [5.27804877e-06, 6.56451812e-06, 6.08693335e-06, ...,\n",
       "          6.37341327e-06, 2.59278750e-06, 1.32054302e-05],\n",
       "         [5.05252683e-06, 6.60435398e-06, 6.63882020e-06, ...,\n",
       "          1.08903259e-05, 4.96651774e-06, 2.42193710e-06],\n",
       "         [1.91907384e-06, 9.07483081e-06, 2.39018846e-07, ...,\n",
       "          8.23724986e-06, 4.49373692e-06, 7.69823237e-06]],\n",
       "\n",
       "        [[8.14582017e-06, 1.04552455e-05, 9.79054312e-06, ...,\n",
       "          1.68288097e-05, 1.93403976e-05, 1.96058827e-05],\n",
       "         [2.26067423e-05, 2.05922697e-05, 1.65342790e-05, ...,\n",
       "          1.80694551e-05, 1.04072096e-05, 1.18609532e-05],\n",
       "         [2.11272491e-05, 2.38623034e-05, 1.73476947e-05, ...,\n",
       "          1.92240550e-05, 8.08882032e-06, 1.40170814e-05],\n",
       "         ...,\n",
       "         [1.83122756e-06, 8.33565718e-06, 1.24974158e-05, ...,\n",
       "          6.44475222e-06, 2.83455302e-06, 6.54836549e-06],\n",
       "         [5.56578561e-06, 8.38395135e-06, 1.03758503e-05, ...,\n",
       "          4.53722532e-06, 1.36451927e-05, 1.02116683e-05],\n",
       "         [2.06534787e-06, 1.15043076e-05, 1.73310400e-06, ...,\n",
       "          1.06367843e-05, 2.14194006e-06, 1.93216329e-06]],\n",
       "\n",
       "        ...,\n",
       "\n",
       "        [[1.48709387e-05, 9.16093632e-06, 4.44411489e-06, ...,\n",
       "          1.45522026e-05, 9.20465391e-06, 2.52447353e-06],\n",
       "         [1.21361263e-05, 1.18792304e-05, 1.13124079e-05, ...,\n",
       "          1.40070915e-06, 5.68115865e-06, 6.95859853e-06],\n",
       "         [1.09348402e-05, 1.14949908e-05, 1.26522427e-05, ...,\n",
       "          1.72147320e-05, 3.41961277e-06, 4.10405119e-06],\n",
       "         ...,\n",
       "         [6.50123184e-06, 1.99068945e-05, 9.52746268e-06, ...,\n",
       "          6.69192741e-06, 1.37230654e-05, 6.66735650e-06],\n",
       "         [6.45161344e-06, 5.89086267e-06, 6.08334449e-06, ...,\n",
       "          3.17236845e-06, 3.50970731e-06, 8.47167757e-06],\n",
       "         [9.15810961e-06, 7.88649777e-06, 6.80362064e-06, ...,\n",
       "          1.41401142e-05, 1.05183626e-05, 4.78778202e-06]],\n",
       "\n",
       "        [[1.44205114e-05, 7.20926255e-06, 8.21057256e-06, ...,\n",
       "          8.92881508e-06, 1.49354128e-05, 4.48353967e-06],\n",
       "         [4.44861143e-06, 4.77148205e-06, 8.42684676e-06, ...,\n",
       "          7.94664811e-06, 9.86542727e-06, 4.62885873e-06],\n",
       "         [9.09809387e-06, 1.54908048e-06, 2.09522477e-06, ...,\n",
       "          9.42249244e-06, 6.08398113e-06, 6.90879097e-06],\n",
       "         ...,\n",
       "         [9.43001578e-06, 8.62508386e-06, 8.77902858e-06, ...,\n",
       "          1.77779657e-06, 1.29203472e-05, 9.73736678e-06],\n",
       "         [8.33673039e-06, 1.21723078e-05, 4.81475217e-06, ...,\n",
       "          8.47062074e-06, 9.41805592e-06, 8.19633351e-06],\n",
       "         [4.56301859e-06, 7.51941116e-07, 2.17244815e-06, ...,\n",
       "          7.23781886e-06, 2.21671871e-06, 1.03918501e-05]],\n",
       "\n",
       "        [[1.19998476e-05, 8.61113040e-06, 1.17341806e-05, ...,\n",
       "          1.04496758e-05, 1.02909289e-05, 5.13282612e-06],\n",
       "         [9.83814971e-06, 5.24394454e-06, 3.52614370e-06, ...,\n",
       "          7.55027213e-06, 3.77907418e-06, 2.53335384e-06],\n",
       "         [1.34208240e-05, 6.74190051e-06, 1.36430790e-05, ...,\n",
       "          9.67205597e-06, 5.25787982e-06, 2.99281601e-06],\n",
       "         ...,\n",
       "         [3.27996531e-06, 6.27158079e-06, 4.75650813e-06, ...,\n",
       "          1.35864666e-05, 2.80457607e-06, 5.59126784e-06],\n",
       "         [8.73084718e-06, 1.93864616e-06, 7.88294346e-06, ...,\n",
       "          7.19161835e-06, 8.24093513e-06, 7.97505345e-06],\n",
       "         [6.66517917e-06, 5.64332549e-06, 4.32510751e-06, ...,\n",
       "          4.91158062e-06, 3.72060458e-06, 9.61108162e-06]]],\n",
       "\n",
       "\n",
       "       [[[1.81929427e-05, 1.50087108e-05, 1.63845361e-05, ...,\n",
       "          7.91101411e-06, 1.14504983e-05, 8.38844062e-06],\n",
       "         [7.75867738e-06, 4.84156044e-06, 8.83830580e-06, ...,\n",
       "          5.57003659e-06, 8.04122101e-06, 1.27835010e-05],\n",
       "         [1.51798922e-05, 8.29785131e-06, 1.09726316e-05, ...,\n",
       "          1.64260782e-05, 1.42858189e-05, 1.53562141e-05],\n",
       "         ...,\n",
       "         [1.75707100e-06, 1.07163669e-05, 2.10875987e-06, ...,\n",
       "          4.43913450e-06, 1.12386188e-05, 6.65306106e-06],\n",
       "         [3.56158853e-06, 7.59366412e-06, 1.10432411e-05, ...,\n",
       "          2.51437814e-06, 9.24441338e-06, 5.31925980e-06],\n",
       "         [2.96339931e-06, 9.47664012e-06, 4.89574450e-06, ...,\n",
       "          2.98229133e-06, 7.36013135e-06, 8.95076846e-06]],\n",
       "\n",
       "        [[2.12219347e-05, 1.36152012e-05, 1.56186215e-05, ...,\n",
       "          1.56690148e-05, 1.40878401e-05, 1.49278676e-05],\n",
       "         [2.10244907e-05, 9.59722092e-06, 2.10937069e-05, ...,\n",
       "          1.40567354e-05, 1.14823997e-05, 1.53106012e-05],\n",
       "         [1.93086162e-05, 2.12846935e-05, 1.04485152e-05, ...,\n",
       "          2.29728030e-05, 1.83451120e-05, 6.29669375e-06],\n",
       "         ...,\n",
       "         [2.74855483e-06, 5.22716800e-06, 4.42641976e-06, ...,\n",
       "          1.15825751e-05, 8.61506305e-06, 8.57357372e-06],\n",
       "         [1.38099094e-05, 2.16232729e-06, 5.18803427e-06, ...,\n",
       "          1.16122355e-05, 1.60055170e-05, 1.09405300e-06],\n",
       "         [5.85103953e-06, 1.11503141e-05, 2.82065412e-06, ...,\n",
       "          9.85751649e-06, 6.32145930e-06, 3.79596349e-06]],\n",
       "\n",
       "        [[1.79438139e-05, 1.67952530e-05, 2.01518269e-05, ...,\n",
       "          1.07460073e-05, 2.34092149e-05, 1.01752230e-05],\n",
       "         [2.70790479e-05, 1.46305974e-05, 2.05636898e-05, ...,\n",
       "          1.69276827e-05, 2.21888040e-05, 1.53462170e-05],\n",
       "         [1.68261467e-05, 2.64062255e-05, 1.31025954e-05, ...,\n",
       "          1.94247114e-05, 1.19871111e-05, 2.49447112e-05],\n",
       "         ...,\n",
       "         [3.36007724e-06, 9.71922782e-06, 5.09954407e-06, ...,\n",
       "          8.47123738e-06, 1.03646707e-05, 1.79269500e-05],\n",
       "         [1.16928495e-05, 8.86195267e-06, 8.21158392e-06, ...,\n",
       "          1.14563882e-05, 5.02411058e-06, 8.82198219e-06],\n",
       "         [7.07966865e-06, 6.05817149e-06, 4.00355566e-06, ...,\n",
       "          1.08830500e-06, 9.24613414e-06, 4.45196747e-06]],\n",
       "\n",
       "        ...,\n",
       "\n",
       "        [[6.46835178e-06, 1.13885835e-05, 1.37317693e-05, ...,\n",
       "          1.72764594e-05, 1.84722594e-05, 7.41579061e-06],\n",
       "         [1.04773753e-05, 2.21118389e-05, 5.03523916e-06, ...,\n",
       "          8.29203782e-06, 1.51250024e-05, 1.36669369e-05],\n",
       "         [2.58738874e-06, 1.13609931e-05, 6.62343882e-06, ...,\n",
       "          1.18276548e-05, 1.14202849e-05, 4.52465611e-06],\n",
       "         ...,\n",
       "         [2.53660619e-06, 1.22678721e-05, 4.04568891e-06, ...,\n",
       "          4.47922321e-06, 1.28359789e-05, 7.18516640e-06],\n",
       "         [7.18374577e-06, 2.27714554e-06, 4.09959830e-06, ...,\n",
       "          7.82803909e-06, 2.34863182e-06, 7.02268881e-06],\n",
       "         [9.47181252e-06, 5.65321534e-06, 1.53131696e-05, ...,\n",
       "          6.45379077e-06, 1.26276555e-05, 1.35785012e-06]],\n",
       "\n",
       "        [[8.25969255e-06, 1.52420216e-05, 1.28758293e-05, ...,\n",
       "          1.24720173e-05, 1.50397063e-05, 3.60927515e-06],\n",
       "         [7.08110019e-06, 1.14230170e-05, 1.56891329e-05, ...,\n",
       "          1.72266336e-05, 4.60369847e-06, 1.00538127e-05],\n",
       "         [2.66969073e-06, 1.24914586e-05, 7.77430978e-06, ...,\n",
       "          6.78245124e-06, 1.55507696e-05, 1.51800632e-05],\n",
       "         ...,\n",
       "         [5.13855048e-06, 8.71370685e-06, 4.46059857e-06, ...,\n",
       "          6.73981413e-06, 4.53322355e-06, 1.22196325e-05],\n",
       "         [6.06523827e-06, 5.73070793e-06, 1.12577836e-05, ...,\n",
       "          7.75459921e-06, 4.14780880e-06, 5.25807627e-06],\n",
       "         [4.96155917e-06, 6.11307951e-06, 8.31692523e-06, ...,\n",
       "          7.63606840e-06, 8.88783870e-06, 1.03883594e-05]],\n",
       "\n",
       "        [[5.98768020e-06, 1.60695108e-05, 3.06739457e-06, ...,\n",
       "          8.79838262e-06, 1.51441272e-05, 1.08910863e-05],\n",
       "         [1.42261160e-05, 7.64618380e-06, 9.82182246e-06, ...,\n",
       "          6.01265856e-06, 1.20029908e-05, 3.05363574e-06],\n",
       "         [5.27005614e-06, 1.12814814e-05, 5.09527672e-06, ...,\n",
       "          3.46798333e-06, 4.88026490e-06, 4.06756226e-06],\n",
       "         ...,\n",
       "         [1.96063047e-06, 5.37090091e-06, 5.90453601e-06, ...,\n",
       "          5.55597944e-06, 1.49363768e-06, 2.81720349e-06],\n",
       "         [1.05811650e-05, 6.23383676e-06, 5.37632513e-06, ...,\n",
       "          3.74957381e-06, 2.54239785e-06, 6.85833220e-06],\n",
       "         [5.47627496e-06, 4.04485399e-06, 8.75989281e-06, ...,\n",
       "          9.51421134e-06, 4.87876241e-06, 6.08262962e-06]]],\n",
       "\n",
       "\n",
       "       ...,\n",
       "\n",
       "\n",
       "       [[[2.53807593e-06, 8.54732207e-07, 1.27134590e-05, ...,\n",
       "          1.44855767e-05, 1.00942634e-05, 9.29304224e-06],\n",
       "         [8.89393777e-06, 1.06526495e-05, 1.03984203e-05, ...,\n",
       "          1.77648471e-05, 1.30513399e-05, 1.71581196e-05],\n",
       "         [1.15788280e-05, 1.76553076e-05, 1.69574269e-05, ...,\n",
       "          1.93958185e-05, 2.08540150e-05, 2.14835309e-05],\n",
       "         ...,\n",
       "         [8.93124889e-06, 8.07059951e-06, 4.51671622e-06, ...,\n",
       "          5.57385829e-06, 4.43718091e-06, 2.38752182e-06],\n",
       "         [2.62331014e-06, 7.23343328e-06, 1.92072184e-06, ...,\n",
       "          1.49575135e-06, 6.75602132e-06, 4.85837518e-06],\n",
       "         [7.29677231e-06, 5.22533992e-06, 4.93794323e-06, ...,\n",
       "          3.94144263e-06, 3.01085311e-06, 1.65933125e-06]],\n",
       "\n",
       "        [[9.95057053e-06, 1.36556773e-05, 1.65852616e-05, ...,\n",
       "          1.08328313e-05, 2.11841252e-05, 1.23491773e-05],\n",
       "         [2.09371065e-05, 1.74377274e-05, 1.88506237e-05, ...,\n",
       "          1.97502377e-05, 2.53507314e-05, 1.19098986e-05],\n",
       "         [2.50287339e-05, 2.17240886e-05, 1.91496438e-05, ...,\n",
       "          2.57215943e-05, 3.60456033e-05, 1.78936389e-05],\n",
       "         ...,\n",
       "         [8.40916255e-06, 7.86329838e-06, 6.31274997e-06, ...,\n",
       "          3.64752123e-06, 8.42451482e-06, 6.83761027e-06],\n",
       "         [1.20019613e-05, 7.65536606e-06, 5.91202115e-06, ...,\n",
       "          3.55952943e-06, 3.97109761e-06, 7.20100434e-06],\n",
       "         [1.09218381e-05, 1.34559741e-05, 8.63309469e-06, ...,\n",
       "          4.15138857e-06, 1.09619759e-05, 6.89080662e-06]],\n",
       "\n",
       "        [[3.14650169e-05, 1.91763611e-05, 1.99192000e-05, ...,\n",
       "          1.90935170e-05, 2.48790529e-05, 2.07539269e-05],\n",
       "         [3.09964162e-05, 2.20598158e-05, 2.55330815e-05, ...,\n",
       "          2.84577545e-05, 2.21353257e-05, 3.28164751e-05],\n",
       "         [3.79964549e-05, 2.82635738e-05, 2.77688669e-05, ...,\n",
       "          3.51794588e-05, 3.91268986e-05, 3.24768625e-05],\n",
       "         ...,\n",
       "         [4.67680002e-06, 4.30134060e-06, 2.44039984e-06, ...,\n",
       "          9.94193761e-06, 9.79526521e-06, 5.36727748e-06],\n",
       "         [7.09892993e-06, 7.83754876e-06, 1.42137324e-05, ...,\n",
       "          7.52021515e-06, 5.35745494e-06, 1.39246495e-05],\n",
       "         [4.43690078e-06, 9.76002048e-06, 1.04323062e-05, ...,\n",
       "          1.59402407e-06, 9.90579065e-06, 1.02622489e-05]],\n",
       "\n",
       "        ...,\n",
       "\n",
       "        [[1.24378239e-05, 1.09380853e-05, 1.45481827e-05, ...,\n",
       "          8.63835885e-06, 1.16893752e-05, 4.50041989e-06],\n",
       "         [9.49527384e-06, 5.48609387e-06, 1.37936659e-05, ...,\n",
       "          1.14717623e-05, 1.39144358e-05, 1.63625446e-05],\n",
       "         [8.76942431e-06, 1.34901056e-05, 1.53863293e-05, ...,\n",
       "          1.26250925e-05, 1.31853376e-05, 1.23847021e-05],\n",
       "         ...,\n",
       "         [4.49310028e-06, 5.06212564e-06, 6.59717625e-06, ...,\n",
       "          5.57101157e-06, 3.77948527e-06, 1.20255609e-05],\n",
       "         [4.44042962e-06, 5.22040864e-06, 1.08889690e-05, ...,\n",
       "          8.64914182e-06, 1.15211587e-05, 1.03202947e-05],\n",
       "         [6.63041101e-06, 1.43056623e-05, 1.02983468e-05, ...,\n",
       "          6.49603135e-06, 9.80205732e-06, 1.08597796e-05]],\n",
       "\n",
       "        [[1.04867831e-05, 1.12779708e-05, 9.62755439e-06, ...,\n",
       "          1.16254305e-05, 7.88063335e-06, 9.84679355e-06],\n",
       "         [1.29465188e-05, 5.59932596e-06, 3.68908877e-06, ...,\n",
       "          2.27643759e-05, 1.41152923e-05, 1.28112915e-05],\n",
       "         [3.47557943e-06, 5.22030678e-06, 1.48311119e-05, ...,\n",
       "          1.23518694e-05, 1.14885443e-05, 1.18166972e-05],\n",
       "         ...,\n",
       "         [8.25505413e-06, 9.42835322e-06, 1.09279990e-05, ...,\n",
       "          8.00877933e-06, 1.36734052e-05, 1.12730559e-05],\n",
       "         [4.46816193e-06, 7.39961069e-06, 6.78825018e-06, ...,\n",
       "          2.04798562e-06, 9.09750088e-06, 3.64070365e-06],\n",
       "         [1.53278415e-06, 8.73151657e-06, 8.24003291e-06, ...,\n",
       "          9.25692075e-06, 1.29289292e-05, 4.82877658e-06]],\n",
       "\n",
       "        [[4.43752651e-06, 5.63933281e-06, 1.27467429e-05, ...,\n",
       "          1.29421387e-05, 1.36466042e-05, 1.61965181e-05],\n",
       "         [8.32224032e-06, 1.02624836e-05, 8.00606358e-06, ...,\n",
       "          1.69950436e-05, 1.34368456e-05, 6.04958768e-06],\n",
       "         [6.39097561e-06, 8.10396523e-06, 1.15102630e-05, ...,\n",
       "          1.07047381e-05, 8.75949627e-06, 5.94626908e-06],\n",
       "         ...,\n",
       "         [6.19020830e-06, 5.39458779e-06, 6.16237230e-06, ...,\n",
       "          7.19142372e-06, 6.74788316e-06, 1.23718601e-05],\n",
       "         [8.82111635e-06, 9.65329673e-06, 3.00101601e-06, ...,\n",
       "          7.36775473e-06, 4.18755735e-06, 8.12741928e-06],\n",
       "         [5.86990791e-06, 4.17081355e-06, 1.37664028e-06, ...,\n",
       "          8.56154111e-06, 5.86781971e-06, 4.74283297e-07]]],\n",
       "\n",
       "\n",
       "       [[[1.31348279e-05, 1.08636668e-05, 1.16817828e-05, ...,\n",
       "          1.60393101e-05, 1.22587626e-05, 1.26848317e-05],\n",
       "         [9.59551471e-06, 1.08782660e-05, 1.64011981e-05, ...,\n",
       "          8.42270674e-06, 2.76225110e-05, 1.34485308e-05],\n",
       "         [1.50606429e-05, 1.56984970e-05, 2.23762218e-05, ...,\n",
       "          1.59010524e-05, 1.70253115e-05, 1.41574747e-05],\n",
       "         ...,\n",
       "         [4.58144859e-06, 5.78168692e-06, 1.37374554e-05, ...,\n",
       "          1.52873381e-05, 4.69707447e-06, 7.96729364e-06],\n",
       "         [1.18280423e-05, 7.46038131e-06, 1.49386942e-05, ...,\n",
       "          6.74990770e-06, 3.86951433e-06, 5.30534453e-06],\n",
       "         [6.62951788e-06, 2.74755257e-06, 4.93335756e-06, ...,\n",
       "          7.91771527e-07, 6.20125502e-06, 5.79258813e-06]],\n",
       "\n",
       "        [[1.51619824e-05, 1.07464439e-05, 1.64638332e-05, ...,\n",
       "          1.84039163e-05, 1.41642886e-05, 1.25264633e-05],\n",
       "         [2.75099737e-05, 1.91444415e-05, 1.92424559e-05, ...,\n",
       "          3.15289071e-05, 1.76916437e-05, 2.20779330e-05],\n",
       "         [2.60753295e-05, 1.67744729e-05, 2.14573447e-05, ...,\n",
       "          2.10626531e-05, 2.23863171e-05, 3.19893734e-05],\n",
       "         ...,\n",
       "         [7.80389746e-06, 4.25670805e-06, 8.76061131e-06, ...,\n",
       "          3.30200055e-06, 3.05222420e-06, 2.41463567e-06],\n",
       "         [6.81123856e-06, 4.02979640e-06, 7.63676508e-06, ...,\n",
       "          1.80023562e-06, 1.00104771e-05, 1.36185190e-06],\n",
       "         [7.33296838e-06, 6.45377986e-06, 2.55933264e-06, ...,\n",
       "          5.07618097e-06, 8.08830373e-06, 3.67766916e-06]],\n",
       "\n",
       "        [[1.71567008e-05, 2.17339839e-05, 1.87011974e-05, ...,\n",
       "          1.80401912e-05, 2.30822188e-05, 1.26593222e-05],\n",
       "         [2.20416041e-05, 2.07352787e-05, 2.92122204e-05, ...,\n",
       "          3.74777010e-05, 2.49966761e-05, 3.43500287e-05],\n",
       "         [2.47821008e-05, 3.00122847e-05, 2.41583039e-05, ...,\n",
       "          3.92637594e-05, 3.15861398e-05, 3.15892248e-05],\n",
       "         ...,\n",
       "         [4.16869079e-06, 8.20197602e-06, 2.44755574e-06, ...,\n",
       "          1.05344807e-05, 1.45661925e-05, 2.08773417e-06],\n",
       "         [5.92346260e-06, 4.85956480e-06, 2.48450306e-06, ...,\n",
       "          4.30995715e-06, 1.48775871e-06, 3.54801523e-06],\n",
       "         [9.02197644e-06, 3.67895882e-06, 4.75437264e-06, ...,\n",
       "          7.59263094e-06, 8.73822137e-06, 2.72589932e-06]],\n",
       "\n",
       "        ...,\n",
       "\n",
       "        [[1.09000466e-05, 1.31721099e-05, 1.00063189e-05, ...,\n",
       "          9.08531001e-06, 7.96276436e-06, 1.36879607e-05],\n",
       "         [1.39657641e-05, 1.51434615e-05, 6.40633516e-06, ...,\n",
       "          1.04794381e-05, 1.00631623e-05, 8.12063445e-06],\n",
       "         [7.45294165e-06, 1.16216252e-05, 9.03872569e-06, ...,\n",
       "          8.38403867e-06, 1.39308358e-05, 1.97316076e-05],\n",
       "         ...,\n",
       "         [8.80091466e-06, 2.84500129e-06, 1.03010207e-05, ...,\n",
       "          6.81403617e-06, 1.44692203e-05, 1.35845439e-05],\n",
       "         [7.59011527e-06, 7.40059659e-06, 1.56234455e-06, ...,\n",
       "          8.31331272e-06, 1.08598088e-05, 1.06701991e-05],\n",
       "         [9.06284731e-06, 9.94563197e-06, 8.55341023e-06, ...,\n",
       "          1.07116157e-05, 8.93282231e-06, 3.01280306e-06]],\n",
       "\n",
       "        [[1.06391162e-05, 1.03526290e-05, 1.04175124e-05, ...,\n",
       "          6.83638063e-06, 3.29269824e-06, 1.39806180e-05],\n",
       "         [5.59784166e-06, 1.33792892e-05, 5.36704465e-06, ...,\n",
       "          6.24712629e-06, 1.85231293e-05, 1.02212143e-05],\n",
       "         [1.10541660e-05, 7.99791087e-06, 1.10354085e-05, ...,\n",
       "          1.90528954e-05, 2.14397878e-05, 1.21318262e-05],\n",
       "         ...,\n",
       "         [8.94501136e-06, 3.70723137e-06, 7.43958481e-06, ...,\n",
       "          7.34382775e-06, 7.36402581e-06, 1.88761624e-06],\n",
       "         [3.74979936e-06, 1.30026929e-05, 9.35919161e-06, ...,\n",
       "          3.27989983e-06, 1.00862926e-05, 3.14338104e-06],\n",
       "         [6.64018444e-07, 3.81991413e-06, 6.63989522e-06, ...,\n",
       "          6.17961450e-06, 6.85390660e-06, 9.87274871e-06]],\n",
       "\n",
       "        [[1.58082694e-05, 1.46046368e-05, 9.35967910e-06, ...,\n",
       "          6.00198473e-06, 1.56875212e-05, 6.27526970e-06],\n",
       "         [1.27979947e-05, 5.97072722e-06, 7.66188168e-06, ...,\n",
       "          2.50221638e-06, 6.40326107e-06, 8.57071791e-06],\n",
       "         [1.35388145e-05, 6.84519910e-06, 8.39958011e-06, ...,\n",
       "          2.38491702e-06, 4.68856524e-06, 1.35861246e-05],\n",
       "         ...,\n",
       "         [8.11281097e-06, 6.65681182e-06, 1.75692385e-05, ...,\n",
       "          6.85123268e-06, 8.60111686e-06, 3.22506457e-06],\n",
       "         [5.30539182e-06, 6.72536771e-06, 1.51650511e-05, ...,\n",
       "          5.80400592e-06, 4.97310793e-06, 5.91680873e-08],\n",
       "         [2.76074024e-06, 1.01211190e-05, 5.35012987e-06, ...,\n",
       "          3.74213414e-06, 5.41558620e-06, 7.00473720e-06]]],\n",
       "\n",
       "\n",
       "       [[[1.34143047e-05, 4.74402623e-06, 5.03533738e-06, ...,\n",
       "          9.17560101e-06, 1.07685773e-05, 1.01396254e-05],\n",
       "         [1.72551008e-05, 1.31252818e-05, 1.10178335e-05, ...,\n",
       "          1.07994929e-05, 9.16950012e-06, 7.89816841e-06],\n",
       "         [1.12840062e-05, 1.01946825e-05, 1.56601272e-05, ...,\n",
       "          1.18202443e-05, 7.10831227e-06, 1.14097747e-05],\n",
       "         ...,\n",
       "         [1.99666101e-06, 8.71028897e-06, 4.54610199e-06, ...,\n",
       "          4.27827763e-06, 3.99513010e-06, 6.47692286e-06],\n",
       "         [7.10718814e-06, 3.46129673e-06, 9.68932363e-06, ...,\n",
       "          5.06516517e-06, 5.35354775e-06, 9.64898936e-06],\n",
       "         [5.61298293e-06, 6.77165190e-06, 7.90317063e-06, ...,\n",
       "          9.36357537e-06, 8.02712748e-07, 6.25673056e-06]],\n",
       "\n",
       "        [[1.72573600e-05, 9.65276195e-06, 2.01322400e-05, ...,\n",
       "          1.09999237e-05, 1.32853602e-05, 7.61253614e-06],\n",
       "         [2.11842780e-05, 1.20264376e-05, 1.44206351e-05, ...,\n",
       "          1.98390262e-05, 1.69409177e-05, 1.91257277e-05],\n",
       "         [1.66926693e-05, 1.88368285e-05, 2.10936196e-05, ...,\n",
       "          1.65555539e-05, 2.08218626e-05, 2.10356375e-05],\n",
       "         ...,\n",
       "         [1.18547705e-05, 6.73653449e-06, 2.91555625e-06, ...,\n",
       "          5.47507443e-06, 1.09659231e-05, 8.95365156e-06],\n",
       "         [4.98578083e-06, 3.48378671e-06, 4.99776070e-06, ...,\n",
       "          1.20739987e-05, 3.12887278e-06, 1.51320273e-06],\n",
       "         [4.35984475e-06, 4.04005914e-06, 3.55311204e-06, ...,\n",
       "          1.05269737e-05, 9.43790110e-06, 6.68177017e-06]],\n",
       "\n",
       "        [[1.31486231e-05, 1.67141116e-05, 1.35828886e-05, ...,\n",
       "          1.49194311e-05, 2.30721635e-05, 1.71877691e-05],\n",
       "         [2.42414535e-05, 2.44854891e-05, 2.26016782e-05, ...,\n",
       "          2.38383873e-05, 1.58715193e-05, 1.64934172e-05],\n",
       "         [2.49573859e-05, 1.68163315e-05, 2.57584179e-05, ...,\n",
       "          2.81291868e-05, 2.62952381e-05, 2.85930219e-05],\n",
       "         ...,\n",
       "         [6.65476364e-06, 3.04537389e-06, 1.62479409e-06, ...,\n",
       "          9.26843859e-06, 1.02865233e-05, 3.38366590e-06],\n",
       "         [6.44940883e-06, 1.95278517e-06, 1.25552906e-05, ...,\n",
       "          1.27499115e-05, 7.23498488e-06, 5.69944314e-06],\n",
       "         [4.04124512e-06, 1.08276072e-06, 1.12519192e-05, ...,\n",
       "          3.30390685e-06, 5.60145418e-06, 2.00813702e-06]],\n",
       "\n",
       "        ...,\n",
       "\n",
       "        [[1.91836498e-05, 8.30706267e-06, 3.95497045e-06, ...,\n",
       "          1.26310406e-05, 5.29518002e-06, 2.77105937e-06],\n",
       "         [3.28183160e-06, 5.70069460e-06, 1.32707282e-06, ...,\n",
       "          1.32767600e-05, 1.31542802e-05, 9.46521686e-06],\n",
       "         [4.88739897e-06, 3.88674016e-06, 1.26251398e-05, ...,\n",
       "          7.98230030e-06, 1.13650021e-05, 6.67018321e-06],\n",
       "         ...,\n",
       "         [5.53623249e-06, 5.69847361e-06, 2.47032222e-06, ...,\n",
       "          5.40480687e-06, 7.13216286e-06, 8.01882197e-06],\n",
       "         [3.26267764e-06, 8.30406861e-06, 3.27985254e-06, ...,\n",
       "          7.47670128e-06, 7.10384666e-06, 7.04377089e-06],\n",
       "         [7.51845073e-06, 3.02303852e-06, 2.98459418e-06, ...,\n",
       "          6.09894960e-06, 3.29481190e-06, 2.16847111e-05]],\n",
       "\n",
       "        [[4.79596201e-06, 9.99406984e-06, 8.11737482e-06, ...,\n",
       "          7.23055928e-06, 7.43010241e-06, 6.39873178e-06],\n",
       "         [1.72896580e-05, 9.64069477e-06, 1.11106929e-05, ...,\n",
       "          6.79663572e-06, 7.71016857e-06, 1.10467990e-05],\n",
       "         [6.27102418e-06, 9.64645005e-06, 3.25663859e-06, ...,\n",
       "          1.27839230e-05, 2.39642759e-06, 1.07193737e-05],\n",
       "         ...,\n",
       "         [6.14805322e-06, 6.67645691e-06, 7.01620047e-06, ...,\n",
       "          9.18452497e-06, 4.86249337e-06, 3.74571573e-06],\n",
       "         [4.98513691e-06, 7.48041566e-06, 5.88131297e-06, ...,\n",
       "          5.38425229e-06, 6.62106322e-06, 4.85129203e-06],\n",
       "         [8.64059621e-06, 9.89727050e-06, 5.92717333e-06, ...,\n",
       "          1.24269864e-05, 1.01436926e-05, 1.03059938e-05]],\n",
       "\n",
       "        [[5.92262222e-06, 6.78103970e-06, 1.54560512e-05, ...,\n",
       "          8.03238800e-06, 6.45286491e-06, 1.09393259e-05],\n",
       "         [1.30805875e-05, 1.14340328e-05, 7.15390706e-06, ...,\n",
       "          7.24100755e-06, 1.31404668e-05, 1.31382731e-05],\n",
       "         [1.22122838e-05, 6.39113932e-06, 3.80851998e-06, ...,\n",
       "          9.30930037e-06, 2.75421553e-06, 1.17509953e-05],\n",
       "         ...,\n",
       "         [6.86169005e-06, 6.66802043e-06, 3.62022547e-06, ...,\n",
       "          5.17497028e-06, 1.71359716e-06, 5.83728252e-07],\n",
       "         [5.64894617e-06, 7.50306754e-06, 7.94151310e-06, ...,\n",
       "          2.85836722e-06, 4.64689219e-06, 9.14121665e-06],\n",
       "         [4.77660069e-06, 9.57118937e-06, 6.92813956e-06, ...,\n",
       "          3.03214256e-06, 2.92537516e-06, 5.72464887e-06]]]],\n",
       "      dtype=float32)"
      ]
     },
     "execution_count": 29,
     "metadata": {},
     "output_type": "execute_result"
    }
   ],
   "source": [
    "total"
   ]
  },
  {
   "cell_type": "code",
   "execution_count": 48,
   "metadata": {},
   "outputs": [],
   "source": [
    "nps.assert_allclose(total, x_init, rtol=1e-4, atol=0)"
   ]
  },
  {
   "cell_type": "code",
   "execution_count": null,
   "metadata": {},
   "outputs": [],
   "source": [
    "from skimage.util import random_noise"
   ]
  },
  {
   "cell_type": "code",
   "execution_count": null,
   "metadata": {},
   "outputs": [],
   "source": [
    "noisy = random_noise(x_init, var=0.01)"
   ]
  },
  {
   "cell_type": "code",
   "execution_count": null,
   "metadata": {},
   "outputs": [],
   "source": [
    "noise = np.random.normal(0, 1, x_init.shape)"
   ]
  },
  {
   "cell_type": "code",
   "execution_count": null,
   "metadata": {},
   "outputs": [],
   "source": [
    "noisy = x_init + noise"
   ]
  },
  {
   "cell_type": "code",
   "execution_count": null,
   "metadata": {},
   "outputs": [],
   "source": [
    "from dipy.sims.voxel import add_noise\n",
    "from dipy.denoise.noise_estimate import estimate_sigma"
   ]
  },
  {
   "cell_type": "code",
   "execution_count": null,
   "metadata": {},
   "outputs": [],
   "source": [
    "sigma = estimate_sigma(noisy, N=1)"
   ]
  },
  {
   "cell_type": "code",
   "execution_count": null,
   "metadata": {},
   "outputs": [],
   "source": []
  },
  {
   "cell_type": "code",
   "execution_count": null,
   "metadata": {},
   "outputs": [],
   "source": [
    "from dipy.denoise.nlmeans import nlmeans\n",
    "den = nlmeans(noisy, sigma=sigma, patch_radius= 1, block_radius = 1, rician= False)"
   ]
  },
  {
   "cell_type": "code",
   "execution_count": null,
   "metadata": {},
   "outputs": [],
   "source": []
  },
  {
   "cell_type": "code",
   "execution_count": null,
   "metadata": {},
   "outputs": [],
   "source": [
    "mask_img = compute_epi_mask(x_true_org)\n",
    "mask_img_data = np.array(mask_img.get_data())"
   ]
  },
  {
   "cell_type": "code",
   "execution_count": null,
   "metadata": {},
   "outputs": [],
   "source": [
    "import noise_util"
   ]
  },
  {
   "cell_type": "code",
   "execution_count": null,
   "metadata": {},
   "outputs": [],
   "source": [
    "from dipy.sims.voxel import add_noise"
   ]
  },
  {
   "cell_type": "code",
   "execution_count": null,
   "metadata": {},
   "outputs": [],
   "source": [
    "x_init_copy = copy.deepcopy(x_init)"
   ]
  },
  {
   "cell_type": "code",
   "execution_count": null,
   "metadata": {},
   "outputs": [],
   "source": []
  },
  {
   "cell_type": "code",
   "execution_count": null,
   "metadata": {},
   "outputs": [],
   "source": []
  },
  {
   "cell_type": "code",
   "execution_count": null,
   "metadata": {},
   "outputs": [],
   "source": []
  },
  {
   "cell_type": "code",
   "execution_count": null,
   "metadata": {},
   "outputs": [],
   "source": [
    "signal_w_noise = add_noise(x_init_copy, 100000, 1, noise_type='rician')\n",
    "norm_ground_noise = np.linalg.norm(signal_w_noise)\n",
    "signal_w_noise = signal_w_noise * (1./norm_ground_noise)\n",
    "x_hat_img = mt.reconstruct_image_affine(x_true_org, signal_w_noise)\n",
    "x_hat = image.index_img(x_hat_img,1)\n",
    "recovered_image = plotting.plot_epi(x_hat, bg_img=None,black_bg=True, cmap='jet', cut_coords=None)"
   ]
  },
  {
   "cell_type": "code",
   "execution_count": null,
   "metadata": {},
   "outputs": [],
   "source": [
    "noise_img = mt.reconstruct_image_affine(x_true_org, x_init)"
   ]
  },
  {
   "cell_type": "code",
   "execution_count": null,
   "metadata": {},
   "outputs": [],
   "source": [
    "nib.save(noise_img, 'noise_img.nii')"
   ]
  },
  {
   "cell_type": "code",
   "execution_count": null,
   "metadata": {},
   "outputs": [],
   "source": [
    "#dipy.sims.voxel.add_noise(signal, snr, S0, noise_type='rician')\n",
    "\n",
    "recovered_image = mt.reconstruct_image_affine(x_true_org, L_val)\n",
    "nib.save(recovered_image, 'low-rank-img.nii')"
   ]
  },
  {
   "cell_type": "code",
   "execution_count": 2,
   "metadata": {},
   "outputs": [],
   "source": [
    "from nipype.algorithms import confounds as nac"
   ]
  },
  {
   "cell_type": "code",
   "execution_count": null,
   "metadata": {},
   "outputs": [],
   "source": [
    "tsnr = nac.TSNR()\n",
    "tsnr.inputs.in_file = 'low-rank-img.nii'\n",
    "res = tsnr.run()\n",
    "   "
   ]
  },
  {
   "cell_type": "code",
   "execution_count": 17,
   "metadata": {},
   "outputs": [
    {
     "data": {
      "text/plain": [
       "(53, 63, 46)"
      ]
     },
     "execution_count": 17,
     "metadata": {},
     "output_type": "execute_result"
    }
   ],
   "source": [
    "tsnr_image_data.shape"
   ]
  },
  {
   "cell_type": "code",
   "execution_count": 15,
   "metadata": {},
   "outputs": [],
   "source": [
    "tsnr_path = 'tsnr.nii.gz'\n",
    "tsnr_image = mt.read_image_abs_path(tsnr_path)\n",
    "tsnr_image_data = np.array(tsnr_image.get_data())"
   ]
  },
  {
   "cell_type": "code",
   "execution_count": 24,
   "metadata": {},
   "outputs": [
    {
     "data": {
      "image/png": "[encoded data removed]",
      "text/plain": [
       "<matplotlib.figure.Figure at 0x14367f110>"
      ]
     },
     "metadata": {},
     "output_type": "display_data"
    }
   ],
   "source": [
    "tsnr_img = mt.reconstruct_image_affine(x_true_org, tsnr_image_data)\n",
    "recovered_image = plotting.plot_epi(tsnr_img, bg_img=None,black_bg=True, display_mode='z', cmap='jet', cut_coords = [18])"
   ]
  },
  {
   "cell_type": "code",
   "execution_count": null,
   "metadata": {},
   "outputs": [],
   "source": [
    "mean_path = 'mean.nii.gz'\n",
    "mean_image = mt.read_image_abs_path(mean_path)\n",
    "mean_image_data = np.array(mean_image.get_data())"
   ]
  },
  {
   "cell_type": "code",
   "execution_count": null,
   "metadata": {},
   "outputs": [],
   "source": [
    "x_hat_img = mt.reconstruct_image_affine(x_true_org, mean_image_data)\n",
    "recovered_image = plotting.plot_epi(x_hat_img, bg_img=None,black_bg=True, display_mode='z', cmap='jet', cut_coords = 3)"
   ]
  },
  {
   "cell_type": "code",
   "execution_count": null,
   "metadata": {},
   "outputs": [],
   "source": [
    "stdev_path = 'stdev.nii.gz'\n",
    "stdev_image = mt.read_image_abs_path(stdev_path)\n",
    "stdev_image_data = np.array(stdev_image.get_data())"
   ]
  },
  {
   "cell_type": "code",
   "execution_count": null,
   "metadata": {},
   "outputs": [],
   "source": [
    "x_hat_img = mt.reconstruct_image_affine(x_true_org, stdev_image_data)\n",
    "recovered_image = plotting.plot_epi(x_hat_img, bg_img=None,black_bg=True, display_mode='z', cmap='jet', cut_coords = 3)"
   ]
  },
  {
   "cell_type": "code",
   "execution_count": 11,
   "metadata": {},
   "outputs": [],
   "source": [
    "tsnr = nac.TSNR()\n",
    "tsnr.inputs.in_file = subject_scan_path\n",
    "res = tsnr.run()"
   ]
  },
  {
   "cell_type": "code",
   "execution_count": 14,
   "metadata": {},
   "outputs": [
    {
     "data": {
      "text/plain": [
       "(53, 63, 46)"
      ]
     },
     "execution_count": 14,
     "metadata": {},
     "output_type": "execute_result"
    }
   ],
   "source": [
    "stdev_image_data.shape"
   ]
  },
  {
   "cell_type": "code",
   "execution_count": 12,
   "metadata": {},
   "outputs": [],
   "source": [
    "stdev_path = 'stdev.nii.gz'\n",
    "stdev_image = mt.read_image_abs_path(stdev_path)\n",
    "stdev_image_data = np.array(stdev_image.get_data())"
   ]
  },
  {
   "cell_type": "code",
   "execution_count": 13,
   "metadata": {},
   "outputs": [
    {
     "data": {
      "image/png": "[encoded data removed]",
      "text/plain": [
       "<matplotlib.figure.Figure at 0x128c14f90>"
      ]
     },
     "metadata": {},
     "output_type": "display_data"
    }
   ],
   "source": [
    "x_hat_img = mt.reconstruct_image_affine(x_true_org, stdev_image_data)\n",
    "recovered_image = plotting.plot_epi(x_hat_img, bg_img=None,black_bg=True, display_mode='z', cmap='jet', cut_coords = [3])"
   ]
  },
  {
   "cell_type": "code",
   "execution_count": null,
   "metadata": {},
   "outputs": [],
   "source": [
    "mask_img = compute_epi_mask(x_true_org)"
   ]
  },
  {
   "cell_type": "code",
   "execution_count": null,
   "metadata": {},
   "outputs": [],
   "source": [
    "nib.save(mask_img, 'epi_mask.nii')"
   ]
  },
  {
   "cell_type": "code",
   "execution_count": null,
   "metadata": {},
   "outputs": [],
   "source": [
    "dvars = nac.ComputeDVARS()"
   ]
  },
  {
   "cell_type": "code",
   "execution_count": null,
   "metadata": {},
   "outputs": [],
   "source": [
    "dvars.inputs.in_file = subject_scan_path\n",
    "dvars.inputs.in_mask = 'epi_mask.nii'\n",
    "dvars.inputs.save_all = True\n",
    "dvars.inputs.save_plot = True\n",
    "dvars.inputs.figformat = 'pdf'\n",
    "dvars.run()"
   ]
  },
  {
   "cell_type": "code",
   "execution_count": null,
   "metadata": {},
   "outputs": [],
   "source": []
  },
  {
   "cell_type": "code",
   "execution_count": null,
   "metadata": {},
   "outputs": [],
   "source": [
    "dvars.inputs.in_file = 'low-rank-img.nii'\n",
    "dvars.inputs.in_mask = 'epi_mask.nii'\n",
    "dvars.inputs.save_all = True\n",
    "dvars.inputs.save_plot = True\n",
    "dvars.inputs.figformat = 'pdf'\n",
    "dvars.run()"
   ]
  },
  {
   "cell_type": "code",
   "execution_count": null,
   "metadata": {},
   "outputs": [],
   "source": [
    "comp_corr = nac.CompCor()\n",
    "comp_corr.inputs.realigned_file = subject_scan_path\n",
    "comp_corr.run()"
   ]
  },
  {
   "cell_type": "code",
   "execution_count": null,
   "metadata": {},
   "outputs": [],
   "source": []
  }
 ],
 "metadata": {
  "kernelspec": {
   "display_name": "Python 2",
   "language": "python",
   "name": "python2"
  },
  "language_info": {
   "codemirror_mode": {
    "name": "ipython",
    "version": 2
   },
   "file_extension": ".py",
   "mimetype": "text/x-python",
   "name": "python",
   "nbconvert_exporter": "python",
   "pygments_lexer": "ipython2",
   "version": "2.7.13"
  }
 },
 "nbformat": 4,
 "nbformat_minor": 2
}
