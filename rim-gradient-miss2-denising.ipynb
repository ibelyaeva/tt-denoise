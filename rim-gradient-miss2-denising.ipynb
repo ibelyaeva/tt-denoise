{
 "cells": [
  {
   "cell_type": "code",
   "execution_count": 1,
   "metadata": {},
   "outputs": [
    {
     "name": "stderr",
     "output_type": "stream",
     "text": [
      "/usr/local/lib/python2.7/site-packages/matplotlib/__init__.py:1405: UserWarning: \n",
      "This call to matplotlib.use() has no effect because the backend has already\n",
      "been chosen; matplotlib.use() must be called *before* pylab, matplotlib.pyplot,\n",
      "or matplotlib.backends is imported for the first time.\n",
      "\n",
      "  warnings.warn(_use_error_msg)\n"
     ]
    }
   ],
   "source": [
    "import tensorflow as tf\n",
    "import numpy as np\n",
    "import t3f\n",
    "tf.set_random_seed(0)\n",
    "np.random.seed(0)\n",
    "%matplotlib inline\n",
    "import matplotlib.pyplot as plt\n",
    "import metric_util as mt\n",
    "import data_util as du\n",
    "from t3f import shapes\n",
    "from nilearn import image\n",
    "from skimage.measure import compare_ssim as ssim\n",
    "from tensorflow.python.util import nest\n",
    "import copy\n",
    "from nilearn import plotting\n",
    "from t3f import ops\n",
    "import mri_draw_utils as mrd\n",
    "from t3f import initializers\n",
    "from t3f import approximate\n",
    "from scipy import optimize \n",
    "from nilearn.masking import compute_background_mask\n",
    "from nilearn.masking import compute_epi_mask\n",
    "from collections import OrderedDict\n",
    "import pandas as pd\n",
    "from scipy import stats\n",
    "from nilearn.image import math_img"
   ]
  },
  {
   "cell_type": "code",
   "execution_count": 2,
   "metadata": {},
   "outputs": [],
   "source": [
    "#sess = tf.InteractiveSession()"
   ]
  },
  {
   "cell_type": "code",
   "execution_count": 3,
   "metadata": {},
   "outputs": [],
   "source": [
    "def frobenius_norm_tf_squared(x):\n",
    "    return tf.reduce_sum(x ** 2)"
   ]
  },
  {
   "cell_type": "code",
   "execution_count": 4,
   "metadata": {},
   "outputs": [],
   "source": [
    "def frobenius_norm_tf(x):\n",
    "    return tf.reduce_sum(x ** 2) ** 0.5"
   ]
  },
  {
   "cell_type": "code",
   "execution_count": 5,
   "metadata": {},
   "outputs": [],
   "source": [
    "def relative_error1(x_hat,x_true):\n",
    "    percent_error = frobenius_norm_tf(x_hat - x_true) / frobenius_norm_tf(x_true)\n",
    "    return percent_error"
   ]
  },
  {
   "cell_type": "code",
   "execution_count": 6,
   "metadata": {},
   "outputs": [],
   "source": [
    "def innerProduct(x, y):\n",
    "    result = tf.reduce_sum(tf.multiply(x, y))\n",
    "    return result"
   ]
  },
  {
   "cell_type": "code",
   "execution_count": 7,
   "metadata": {},
   "outputs": [],
   "source": [
    "def compute_step_size(n_omega, grad):\n",
    "    result = -innerProduct(n_omega,grad)/(innerProduct(n_omega, n_omega))\n",
    "    return result"
   ]
  },
  {
   "cell_type": "code",
   "execution_count": 8,
   "metadata": {},
   "outputs": [],
   "source": [
    "def draw(omega, x_true, x_hat, rel_error):\n",
    "    images_folder = \"/work/scratch/tt3\"\n",
    "    ten_ones = np.ones_like(omega)\n",
    "    x_reconstr1 = mt.reconstruct2(x_hat,ground_truth, omega)\n",
    "    x_hat_img = mt.reconstruct_image_affine(x_true_org, x_reconstr1)\n",
    "    x_hat_est = image.index_img(x_hat_img,1)\n",
    "    \n",
    "    x_true_org_img = image.index_img(x_true,1)\n",
    "    x_miss_img = mt.reconstruct_image_affine(x_true_org, x_train)\n",
    "    x_miss = image.index_img(x_miss_img,1)\n",
    "    mrd.draw_original_vs_reconstructed_rim(x_true_org_img,x_hat_est, x_miss, \"Rim Completion\",\n",
    "                                             rel_error, observed_ratio, coord=None, folder=images_folder)"
   ]
  },
  {
   "cell_type": "code",
   "execution_count": 9,
   "metadata": {},
   "outputs": [
    {
     "name": "stdout",
     "output_type": "stream",
     "text": [
      "Subject Path: /work/pl/sch/analysis/data/COBRE001/swaAMAYER+cobre01_63001+M87100944+20110309at135133+RSTpre_V01_R01+CM.nii\n"
     ]
    }
   ],
   "source": [
    "subject_scan_path = du.get_full_path_subject1()\n",
    "print \"Subject Path: \" + str(subject_scan_path)\n",
    "x_true_org = mt.read_image_abs_path(subject_scan_path)\n"
   ]
  },
  {
   "cell_type": "code",
   "execution_count": 10,
   "metadata": {},
   "outputs": [],
   "source": [
    "def get_mask(data, observed_ratio):\n",
    "    \n",
    "    if len(data.shape) == 3:\n",
    "        mask_indices = (np.random.rand(data.shape[0],data.shape[1],data.shape[2]) < observed_ratio).astype('int') \n",
    "    elif len(data.shape) == 4:\n",
    "        mask_indices = (np.random.rand(data.shape[0],data.shape[1],data.shape[2], data.shape[3]) < observed_ratio).astype('int') \n",
    "    elif len(data.shape) == 2:\n",
    "        mask_indices = (np.random.rand(data.shape[0],data.shape[1]) < observed_ratio).astype('int') \n",
    "    \n",
    "    return mask_indices"
   ]
  },
  {
   "cell_type": "code",
   "execution_count": 11,
   "metadata": {},
   "outputs": [],
   "source": [
    "def tsc(x_hat,x_true, ten_ones, mask):\n",
    "    nomin = np.linalg.norm(np.multiply((ten_ones - mask), (x_true - x_hat)))\n",
    "    denom = np.linalg.norm(np.multiply((ten_ones - mask), x_true))\n",
    "    score = nomin/denom\n",
    "    return score "
   ]
  },
  {
   "cell_type": "code",
   "execution_count": 12,
   "metadata": {},
   "outputs": [],
   "source": [
    "x_true_img = np.array(x_true_org.get_data())\n",
    "\n",
    "mask_img = compute_epi_mask(x_true_org)\n",
    "mask_img_data = np.array(mask_img.get_data())\n",
    "\n",
    "observed_ratio = 0.8\n",
    "missing_ratio = 1 - observed_ratio\n",
    "\n",
    "mask_indices = get_mask(x_true_img, observed_ratio)\n",
    "epi_mask = copy.deepcopy(mask_img_data)\n",
    "    \n",
    "mask_indices[epi_mask==0] = 1\n",
    "\n",
    "\n",
    "\n",
    "#x_true_img = np.array(x_true_org.get_data())\n",
    "\n",
    "norm_ground_truth = np.linalg.norm(x_true_img)\n",
    "x_true_img = x_true_img * (1./norm_ground_truth)\n",
    "\n",
    "#mask_indices = (np.random.rand(x_true_img.shape[0],x_true_img.shape[1],x_true_img.shape[2], x_true_img.shape[3]) < observed_ratio).astype('int') \n",
    "ten_ones = np.ones_like(mask_indices)\n",
    "ten_zeros = np.zeros_like(x_true_img)\n",
    "x_train = copy.deepcopy(x_true_img)\n",
    "x_train[mask_indices==0] = 0.0\n",
    "#x_train[mask_indices == 0] = np.mean(x_train[mask_indices == 1])\n",
    "#x_train[mask_indices == 0] = np.mean(x_train[mask_indices == 1])\n",
    "\n",
    "x_init = copy.deepcopy(x_train)\n",
    "#shape = (1, 53, 63, 63, 1)\n",
    "#x_init_tf = t3f.random_tensor(shape, tt_rank=63)\n",
    "\n",
    "\n",
    "ground_truth = copy.deepcopy(x_true_img)\n",
    "ground_truth_x = copy.deepcopy(x_true_img)\n",
    "a_omega = copy.deepcopy(ground_truth)\n",
    "a_omega[mask_indices==0] = 0.0\n",
    "\n",
    "sparse_observation = copy.deepcopy(ground_truth)\n",
    "sparse_observation[mask_indices==0] = 0.0\n",
    "\n",
    "\n",
    "#x_init1 = np.random.rand(53, 63, 46, 144).astype('float32')\n",
    "x_init1 = (2*np.random.random_sample(ground_truth.shape) - 1).astype('float32')\n",
    "#x_init1_img = mt.read_image_abs_path(\"/work/rs1/init/x_hat_img_95.nii\")\n",
    "#x_init1 = np.array(x_init1_img.get_data()).astype('float32')\n",
    "\n",
    "norm_ground_x_init1 = np.linalg.norm(x_init1)\n",
    "x_init_tcs = x_true_img * (1./norm_ground_x_init1)\n",
    "\n",
    "\n",
    "x_init1 = x_init1 * (1./norm_ground_x_init1)\n",
    "\n"
   ]
  },
  {
   "cell_type": "code",
   "execution_count": 13,
   "metadata": {},
   "outputs": [],
   "source": [
    "shape1 = x_init1.shape"
   ]
  },
  {
   "cell_type": "code",
   "execution_count": 14,
   "metadata": {},
   "outputs": [
    {
     "name": "stdout",
     "output_type": "stream",
     "text": [
      "(53, 63, 46, 144)\n"
     ]
    }
   ],
   "source": [
    "print shape1"
   ]
  },
  {
   "cell_type": "code",
   "execution_count": 15,
   "metadata": {},
   "outputs": [
    {
     "data": {
      "text/plain": [
       "74916430.0"
      ]
     },
     "execution_count": 15,
     "metadata": {},
     "output_type": "execute_result"
    }
   ],
   "source": [
    "norm_ground_truth"
   ]
  },
  {
   "cell_type": "code",
   "execution_count": 16,
   "metadata": {},
   "outputs": [],
   "source": [
    "xx = list(shape1)"
   ]
  },
  {
   "cell_type": "code",
   "execution_count": 17,
   "metadata": {},
   "outputs": [],
   "source": [
    "xx1 = xx[0:3]"
   ]
  },
  {
   "cell_type": "code",
   "execution_count": 18,
   "metadata": {},
   "outputs": [
    {
     "data": {
      "text/plain": [
       "[53, 63, 46]"
      ]
     },
     "execution_count": 18,
     "metadata": {},
     "output_type": "execute_result"
    }
   ],
   "source": [
    "xx1"
   ]
  },
  {
   "cell_type": "code",
   "execution_count": 19,
   "metadata": {},
   "outputs": [
    {
     "data": {
      "text/plain": [
       "63"
      ]
     },
     "execution_count": 19,
     "metadata": {},
     "output_type": "execute_result"
    }
   ],
   "source": [
    "np.max(xx1)"
   ]
  },
  {
   "cell_type": "code",
   "execution_count": 20,
   "metadata": {},
   "outputs": [
    {
     "name": "stdout",
     "output_type": "stream",
     "text": [
      "mask_z_indices_count: 687217\n"
     ]
    }
   ],
   "source": [
    "std_img = math_img(\"np.std(img)\", img=x_true_org)\n",
    "mean_img = image.mean_img(x_true_org)\n",
    "z_scored_image = math_img(\"(yt - np.mean(yt))/np.std(yt)\", yt=x_true_org)\n",
    "ground_truth_z_score = stats.zscore(z_scored_image.get_data())\n",
    "mask_z_score_indices = (abs(ground_truth_z_score) > 2).astype('int') \n",
    "mask_z_indices_count = np.count_nonzero(mask_z_score_indices==1)\n",
    "print \"mask_z_indices_count: \" + str(mask_z_indices_count)"
   ]
  },
  {
   "cell_type": "code",
   "execution_count": 21,
   "metadata": {},
   "outputs": [],
   "source": [
    "folder = '/work/rs1/'"
   ]
  },
  {
   "cell_type": "code",
   "execution_count": 22,
   "metadata": {},
   "outputs": [
    {
     "data": {
      "image/png": "[encoded data removed]",
      "text/plain": [
       "<matplotlib.figure.Figure at 0x1280925d0>"
      ]
     },
     "metadata": {},
     "output_type": "display_data"
    }
   ],
   "source": [
    "x_org = mt.reconstruct_image_affine(x_true_org, x_true_img)\n",
    "x_org_img = image.index_img(x_org,1)\n",
    "#x_true_org_img = image.index_img(x_true_org,1)\n",
    "org_image = plotting.plot_epi(x_org_img, bg_img=None,black_bg=True, cmap='jet', cut_coords=None)"
   ]
  },
  {
   "cell_type": "code",
   "execution_count": 23,
   "metadata": {},
   "outputs": [],
   "source": [
    "ten_ones = np.ones_like(mask_indices)\n"
   ]
  },
  {
   "cell_type": "code",
   "execution_count": 24,
   "metadata": {},
   "outputs": [],
   "source": [
    "x_reconstr_init = mt.reconstruct2(x_init_tcs,ground_truth, mask_indices)"
   ]
  },
  {
   "cell_type": "code",
   "execution_count": 25,
   "metadata": {},
   "outputs": [],
   "source": [
    "tsc_score_init = tsc(x_reconstr_init,ground_truth, ten_ones, mask_indices).astype('float32')"
   ]
  },
  {
   "cell_type": "code",
   "execution_count": 26,
   "metadata": {},
   "outputs": [
    {
     "name": "stdout",
     "output_type": "stream",
     "text": [
      "0.9996317\n"
     ]
    }
   ],
   "source": [
    "print tsc_score_init"
   ]
  },
  {
   "cell_type": "code",
   "execution_count": 27,
   "metadata": {},
   "outputs": [
    {
     "name": "stdout",
     "output_type": "stream",
     "text": [
      "0.9044032\n"
     ]
    }
   ],
   "source": [
    "norm_sparse_observation = np.linalg.norm(sparse_observation)\n",
    "print norm_sparse_observation"
   ]
  },
  {
   "cell_type": "code",
   "execution_count": 28,
   "metadata": {},
   "outputs": [],
   "source": [
    "denom_tsc = np.linalg.norm((1.0 - mask_indices) * x_true_img)"
   ]
  },
  {
   "cell_type": "code",
   "execution_count": 29,
   "metadata": {},
   "outputs": [
    {
     "name": "stdout",
     "output_type": "stream",
     "text": [
      "0.4267951503964641\n"
     ]
    }
   ],
   "source": [
    "print denom_tsc"
   ]
  },
  {
   "cell_type": "code",
   "execution_count": 30,
   "metadata": {},
   "outputs": [
    {
     "name": "stdout",
     "output_type": "stream",
     "text": [
      "[1, 53, 1, 1, 1] 0 (1, 53, 53)\n",
      "[1, 53, 63, 1, 1] 1 (53, 63, 63)\n",
      "[1, 53, 63, 63, 1] 2 (63, 46, 63)\n",
      "ranks: [1, 53, 63, 63, 1]\n"
     ]
    }
   ],
   "source": [
    "mask_indices_tf = t3f.to_tt_tensor(mask_indices.astype('float32'), max_tt_rank=63)"
   ]
  },
  {
   "cell_type": "code",
   "execution_count": 31,
   "metadata": {},
   "outputs": [],
   "source": [
    "#x_miss_img = mt.reconstruct_image_affine(x_true_org, x_train*norm_ground_truth)\n",
    "x_miss_img = mt.reconstruct_image_affine(x_true_org, x_train)"
   ]
  },
  {
   "cell_type": "code",
   "execution_count": 32,
   "metadata": {},
   "outputs": [],
   "source": [
    "x_miss = norm_ground_truth*x_train"
   ]
  },
  {
   "cell_type": "code",
   "execution_count": 33,
   "metadata": {},
   "outputs": [],
   "source": [
    "x_miss = image.index_img(x_miss_img,1)"
   ]
  },
  {
   "cell_type": "code",
   "execution_count": 34,
   "metadata": {},
   "outputs": [
    {
     "data": {
      "image/png": "[encoded data removed]",
      "text/plain": [
       "<matplotlib.figure.Figure at 0x174051c10>"
      ]
     },
     "metadata": {},
     "output_type": "display_data"
    }
   ],
   "source": [
    "x_miss_image = plotting.plot_epi(x_miss, bg_img=None,black_bg=True, cmap='jet', cut_coords=[1, -13, 32]) "
   ]
  },
  {
   "cell_type": "code",
   "execution_count": 35,
   "metadata": {},
   "outputs": [
    {
     "name": "stdout",
     "output_type": "stream",
     "text": [
      "('Saving figure', '/work/scratch/tt3/missing_ratio_20.00.png')\n",
      "Called from mrd\n"
     ]
    }
   ],
   "source": [
    "images_folder = \"/work/scratch/tt3\"\n",
    "mrd.draw_original_vs_reconstructed_rim(image.index_img(x_true_org,1),image.index_img(x_miss_img,1), image.index_img(x_miss_img,1), \"Rim Completion\",\n",
    "                                             observed_ratio, observed_ratio, coord=None, folder=images_folder)"
   ]
  },
  {
   "cell_type": "code",
   "execution_count": 36,
   "metadata": {},
   "outputs": [
    {
     "name": "stdout",
     "output_type": "stream",
     "text": [
      "Missing Ratio: 0.2\n",
      "x_true_path:/work/rs1/x_true_img_20\n"
     ]
    }
   ],
   "source": [
    "import nibabel as nib\n",
    "import os\n",
    "\n",
    "suffix = int(round((missing_ratio)*100.0, 0))\n",
    "print \"Missing Ratio: \" + str(missing_ratio)\n",
    "x_true_path = os.path.join(folder,\"x_true_img_\" + str(suffix))\n",
    "x_miss_path = os.path.join(folder,\"x_miss_img_\" + str(suffix))\n",
    "        \n",
    "print(\"x_true_path:\" + str(x_true_path))\n",
    "nib.save(x_true_org, x_true_path)\n",
    "nib.save(x_miss_img, x_miss_path)"
   ]
  },
  {
   "cell_type": "code",
   "execution_count": null,
   "metadata": {},
   "outputs": [],
   "source": []
  },
  {
   "cell_type": "code",
   "execution_count": 37,
   "metadata": {},
   "outputs": [
    {
     "name": "stdout",
     "output_type": "stream",
     "text": [
      "[1, 53, 1, 1, 1] 0 (1, 53, 53)\n",
      "[1, 53, 63, 1, 1] 1 (53, 63, 63)\n",
      "[1, 53, 63, 63, 1] 2 (63, 46, 63)\n",
      "ranks: [1, 53, 63, 63, 1]\n"
     ]
    }
   ],
   "source": [
    "ground_truth_tf = t3f.to_tt_tensor(ground_truth, max_tt_rank=63)"
   ]
  },
  {
   "cell_type": "code",
   "execution_count": 38,
   "metadata": {},
   "outputs": [],
   "source": [
    "A = t3f.get_variable('A', initializer=ground_truth_tf, trainable=False)"
   ]
  },
  {
   "cell_type": "code",
   "execution_count": 39,
   "metadata": {},
   "outputs": [],
   "source": [
    "ground_truth = tf.get_variable('ground_truth', initializer=ground_truth, trainable=False)\n",
    "sparsity_mask = tf.get_variable('sparsity_mask', initializer=mask_indices, trainable=False)\n",
    "sparsity_mask = tf.cast(sparsity_mask,tf.float32)\n",
    "sparse_observation = ground_truth * sparsity_mask"
   ]
  },
  {
   "cell_type": "code",
   "execution_count": null,
   "metadata": {},
   "outputs": [],
   "source": []
  },
  {
   "cell_type": "code",
   "execution_count": 40,
   "metadata": {},
   "outputs": [],
   "source": [
    "#sparsity_mask = t3f.get_variable('sparsity_mask', initializer=mask_indices_tf, trainable=False)\n",
    "#sparsity_mask = t3f.cast(sparsity_mask, tf.float32)\n",
    "#sparse_observation_tf = t3f.to_tt_tensor(sparse_observation, max_tt_rank=63)\n",
    "#sparse_observation_tf3 = t3f.get_variable('sparse_observation_tf', initializer=sparse_observation_tf, trainable=False)"
   ]
  },
  {
   "cell_type": "code",
   "execution_count": 41,
   "metadata": {},
   "outputs": [],
   "source": [
    "shape  =  (53, 63, 46, 144)"
   ]
  },
  {
   "cell_type": "code",
   "execution_count": null,
   "metadata": {},
   "outputs": [],
   "source": [
    "\n"
   ]
  },
  {
   "cell_type": "code",
   "execution_count": 42,
   "metadata": {},
   "outputs": [
    {
     "name": "stdout",
     "output_type": "stream",
     "text": [
      "[1, 53, 1, 1, 1] 0 (1, 53, 53)\n",
      "[1, 53, 63, 1, 1] 1 (53, 63, 63)\n",
      "[1, 53, 63, 63, 1] 2 (63, 46, 63)\n",
      "ranks: [1, 53, 63, 63, 1]\n"
     ]
    }
   ],
   "source": [
    "x_train_tf = t3f.to_tt_tensor(x_init1, max_tt_rank=63)"
   ]
  },
  {
   "cell_type": "code",
   "execution_count": 43,
   "metadata": {},
   "outputs": [],
   "source": [
    "#x_train_tf = t3f.random_tensor(shape, tt_rank=63)"
   ]
  },
  {
   "cell_type": "code",
   "execution_count": 44,
   "metadata": {},
   "outputs": [],
   "source": [
    "normAOmegavar = tf.get_variable('normAOmega', initializer=norm_sparse_observation, trainable=False)"
   ]
  },
  {
   "cell_type": "code",
   "execution_count": 45,
   "metadata": {},
   "outputs": [],
   "source": [
    "X = t3f.get_variable('X', initializer=x_train_tf)"
   ]
  },
  {
   "cell_type": "code",
   "execution_count": 46,
   "metadata": {},
   "outputs": [],
   "source": [
    "X_new = t3f.get_variable('X_new', initializer=x_train_tf)"
   ]
  },
  {
   "cell_type": "code",
   "execution_count": 47,
   "metadata": {},
   "outputs": [],
   "source": [
    "tf_zeros = tf.get_variable('tf_zeros', initializer=ten_zeros, trainable=False)\n",
    "tf_zeros = tf.cast(tf_zeros,tf.float32)"
   ]
  },
  {
   "cell_type": "code",
   "execution_count": 48,
   "metadata": {},
   "outputs": [],
   "source": [
    "L = t3f.get_variable('L', initializer=ground_truth_tf)\n",
    "Lnew = t3f.get_variable('Lnew', initializer=ground_truth_tf)\n",
    "S = tf.get_variable('S', initializer=tf_zeros)\n",
    "G = tf.get_variable('G', initializer=tf_zeros)"
   ]
  },
  {
   "cell_type": "code",
   "execution_count": null,
   "metadata": {},
   "outputs": [],
   "source": []
  },
  {
   "cell_type": "code",
   "execution_count": 49,
   "metadata": {},
   "outputs": [
    {
     "name": "stdout",
     "output_type": "stream",
     "text": [
      "A Tensor Train variable of shape (53, 63, 46, 144), TT-ranks: (1, 53, 63, 63, 1)\n"
     ]
    }
   ],
   "source": [
    "print X"
   ]
  },
  {
   "cell_type": "code",
   "execution_count": 50,
   "metadata": {},
   "outputs": [],
   "source": [
    "def train_it_rel_cost(cost_hist, k):\n",
    "    res = np.abs(cost_hist[k] - cost_hist[k-1])/np.abs(cost_hist[k])\n",
    "    return res"
   ]
  },
  {
   "cell_type": "code",
   "execution_count": 51,
   "metadata": {},
   "outputs": [],
   "source": [
    "counter = tf.get_variable('counter', initializer=0)"
   ]
  },
  {
   "cell_type": "code",
   "execution_count": 52,
   "metadata": {},
   "outputs": [],
   "source": [
    "one = tf.constant(1)\n",
    "zero_point1 = tf.constant(0.1)"
   ]
  },
  {
   "cell_type": "code",
   "execution_count": 53,
   "metadata": {},
   "outputs": [],
   "source": [
    "tf_ones = tf.get_variable('tf_ones', initializer=ten_ones, trainable=False)\n",
    "tf_ones = tf.cast(tf_ones,tf.float32)\n"
   ]
  },
  {
   "cell_type": "code",
   "execution_count": 54,
   "metadata": {},
   "outputs": [
    {
     "name": "stdout",
     "output_type": "stream",
     "text": [
      "Tensor(\"Cast_2:0\", shape=(53, 63, 46, 144), dtype=float32)\n"
     ]
    }
   ],
   "source": [
    "print tf_ones"
   ]
  },
  {
   "cell_type": "code",
   "execution_count": 55,
   "metadata": {},
   "outputs": [],
   "source": [
    "tt_zeros = initializers.tensor_zeros([53, 63, 46, 144])"
   ]
  },
  {
   "cell_type": "code",
   "execution_count": 56,
   "metadata": {},
   "outputs": [],
   "source": [
    "denom_tsc_tf = tf.get_variable('denom_tsc_tf', initializer=denom_tsc, trainable=False)\n",
    "denom_tsc_tf = tf.cast(denom_tsc_tf,tf.float32)"
   ]
  },
  {
   "cell_type": "code",
   "execution_count": null,
   "metadata": {},
   "outputs": [],
   "source": []
  },
  {
   "cell_type": "code",
   "execution_count": 57,
   "metadata": {},
   "outputs": [],
   "source": [
    "#eta_t3f_old = t3f.get_variable('eta_t3f_old', initializer=tt_zeros)\n",
    "#grad_t3f_old = t3f.get_variable('grad_t3f_old', initializer=tt_zeros)"
   ]
  },
  {
   "cell_type": "code",
   "execution_count": 58,
   "metadata": {},
   "outputs": [],
   "source": [
    "eta_old = tf.get_variable('eta_old', shape = (53, 63, 46, 144), validate_shape=False)\n",
    "grad_old = tf.get_variable('grad_old', shape = (53, 63, 46, 144), validate_shape=False)"
   ]
  },
  {
   "cell_type": "code",
   "execution_count": 59,
   "metadata": {},
   "outputs": [],
   "source": [
    "one = tf.constant(1)\n",
    "zero_point1 = tf.constant(0.1)"
   ]
  },
  {
   "cell_type": "code",
   "execution_count": 60,
   "metadata": {},
   "outputs": [],
   "source": [
    "\n",
    "\n",
    "def gradient(x):\n",
    "    return np.multiply(x,mask_indices) - a_omega\n",
    "    \n",
    "def cost_func(x):\n",
    "    return 0.5*(np.linalg.norm(np.multiply(x,mask_indices)-a_omega)** 2)\n",
    "\n",
    "def find_step_size(x,g,d, old_cost):\n",
    "    step_size = optimize.line_search(cost_func,gradient,x,d,gfk=None, old_fval=old_cost)"
   ]
  },
  {
   "cell_type": "code",
   "execution_count": 61,
   "metadata": {},
   "outputs": [],
   "source": [
    "# Algorithm\n",
    "#grad_full = (t3f.full(X)*t3f.full(sparse_observation_tf3) - t3f.full(sparse_observation_tf3))\n",
    "#counter_step = tf.assign(counter, counter + 1)\n",
    "\n",
    "#grad_trans = t3f.riemannian.project(grad_t3f_old, X)\n",
    "#eta_trans = t3f.riemannian.project(eta_t3f_old, X)\n",
    "    \n",
    "#grad_full = sparsity_mask * t3f.full(X) - sparse_observation\n",
    "#grad_t3f = t3f.to_tt_tensor(grad_full, max_tt_rank=63)\n",
    "\n",
    "#loss = 0.5 * t3f.frobenius_norm_squared(grad_t3f)\n",
    "#gradnorm_omega = t3f.frobenius_norm(grad_t3f)/(normAOmegavar)\n",
    "\n",
    "#riemannian_grad = t3f.riemannian.project(grad_t3f, X)\n",
    "\n",
    "\n",
    "#eta_omega = sparsity_mask * t3f.full(-riemannian_grad)\n",
    "#alpha = compute_step_size(eta_omega, grad_full)\n",
    "\n",
    "\n",
    "\n",
    "#riemannian_grad_norm = t3f.flat_inner(riemannian_grad, riemannian_grad)\n",
    "\n",
    "\n",
    "\n",
    "#rel_error1 = relative_error1(t3f.full(X), t3f.full(sparse_observation))\n",
    "\n",
    "\n"
   ]
  },
  {
   "cell_type": "code",
   "execution_count": 62,
   "metadata": {},
   "outputs": [],
   "source": [
    "eps = 1e-15\n",
    "epsilon_train=1e-15"
   ]
  },
  {
   "cell_type": "code",
   "execution_count": 63,
   "metadata": {},
   "outputs": [],
   "source": [
    "#print grad_full"
   ]
  },
  {
   "cell_type": "code",
   "execution_count": 64,
   "metadata": {},
   "outputs": [],
   "source": [
    "#print grad_t3f"
   ]
  },
  {
   "cell_type": "code",
   "execution_count": 65,
   "metadata": {},
   "outputs": [
    {
     "name": "stdout",
     "output_type": "stream",
     "text": [
      "1e-15\n"
     ]
    }
   ],
   "source": [
    "print eps"
   ]
  },
  {
   "cell_type": "code",
   "execution_count": 66,
   "metadata": {},
   "outputs": [],
   "source": [
    "#alpha = 0.3\n"
   ]
  },
  {
   "cell_type": "code",
   "execution_count": 67,
   "metadata": {},
   "outputs": [],
   "source": [
    "def cost_with_treshold(x, thresh = 0.03):\n",
    "    res = tf.abs(x)\n",
    "    zeros = tf.zeros_like(x)\n",
    "    masked = tf.greater(res, thresh)\n",
    "    new_tensor = tf.where(masked, x, zeros)\n",
    "    return new_tensor"
   ]
  },
  {
   "cell_type": "code",
   "execution_count": 68,
   "metadata": {},
   "outputs": [],
   "source": [
    "def compute_loss(x, x_true):\n",
    "    return frobenius_norm_tf_squared(x_true - cost_with_treshold(x_true - t3f.full(x)))"
   ]
  },
  {
   "cell_type": "code",
   "execution_count": 69,
   "metadata": {},
   "outputs": [],
   "source": [
    "def reconstruct_tf(x_hat):\n",
    "    x_reconstruct = sparse_observation + (tf_ones - sparsity_mask)*x_hat\n",
    "    return x_reconstruct"
   ]
  },
  {
   "cell_type": "code",
   "execution_count": null,
   "metadata": {},
   "outputs": [],
   "source": [
    " "
   ]
  },
  {
   "cell_type": "code",
   "execution_count": 70,
   "metadata": {},
   "outputs": [],
   "source": [
    "def tsc_tf(x_hat,x_true_omega, mask):\n",
    "    x_rec = reconstruct_tf(x_hat)\n",
    "    nomin = frobenius_norm_tf((tf_ones - sparsity_mask)*(x_rec - sparse_observation))\n",
    "    #denom = frobenius_norm_tf(tf.multiply(tf_ones - sparsity_mask),(sparse_observation))\n",
    "    score = nomin/denom_tsc_tf\n",
    "    return score  \n"
   ]
  },
  {
   "cell_type": "code",
   "execution_count": null,
   "metadata": {},
   "outputs": [],
   "source": []
  },
  {
   "cell_type": "code",
   "execution_count": null,
   "metadata": {},
   "outputs": [],
   "source": []
  },
  {
   "cell_type": "code",
   "execution_count": 71,
   "metadata": {},
   "outputs": [],
   "source": [
    "#first step"
   ]
  },
  {
   "cell_type": "code",
   "execution_count": 72,
   "metadata": {},
   "outputs": [
    {
     "name": "stdout",
     "output_type": "stream",
     "text": [
      "[1, 53, 1, 1, 1] 0 (1, 53, 53)\n",
      "[1, 53, 63, 1, 1] 1 (53, 63, 63)\n",
      "[1, 53, 63, 63, 1] 2 (63, 46, 63)\n",
      "ranks: [1, 53, 63, 63, 1]\n",
      "Max_TT rank63\n",
      "[1, 53, 63, 63, 1]\n",
      "Max_TT rank63\n",
      "[1, 53, 63, 63, 1]\n"
     ]
    }
   ],
   "source": [
    "zero_point1 = tf.constant(0.1)\n",
    "backtack_const = tf.constant(1e-4)\n",
    "\n",
    "initial_cost = compute_loss(L, ground_truth)\n",
    "cost = tf.get_variable('cost', initializer=initial_cost)\n",
    "cost_new = tf.get_variable('cost_new', initializer=0.0)\n",
    "\n",
    "#tsc_score_curr = tsc_tf(t3f.full(X),ground_truth, sparse_observation)\n",
    "completion_score = tf.get_variable('completion_score', initializer=tsc_score_init, dtype = tf.float32)\n",
    "\n",
    "grad_full_0 = ground_truth - cost_with_treshold(ground_truth - t3f.full(L))\n",
    "grad_t3f_0 = t3f.to_tt_tensor(grad_full_0, max_tt_rank=63)\n",
    "gradnorm_omega_0 = t3f.frobenius_norm(grad_t3f_0)/(frobenius_norm_tf(ground_truth))\n",
    "\n",
    "riemannian_grad_0 = t3f.riemannian.project(grad_t3f_0, L)\n",
    "riemannian_grad_0 = t3f.round(riemannian_grad_0, max_tt_rank =63, epsilon = 1e-15)\n",
    "\n",
    "grad_t3f_old = t3f.get_variable('grad_t3f_old', initializer=riemannian_grad_0)\n",
    "\n",
    "#grad_t3f_old_op = t3f.assign(grad_t3f_old, riemannian_grad_0, validate_shape=False)\n",
    "riemannian_grad_full_0 = t3f.full(riemannian_grad_0)\n",
    "riemannian_grad_init_op = tf.assign(grad_old,riemannian_grad_full_0)\n",
    "\n",
    "eta_t3f_0 = -riemannian_grad_0\n",
    "eta_t3f_old = t3f.get_variable('eta_t3f_old', initializer=eta_t3f_0)\n",
    "\n",
    "eta_0 = -riemannian_grad_init_op\n",
    "eta_omega_0 = sparsity_mask * t3f.full(-riemannian_grad_0)\n",
    "\n",
    "alpha_0 = compute_step_size(eta_omega_0, riemannian_grad_init_op)\n",
    "eta_op_0 = tf.assign(eta_old,eta_0, validate_shape=False)\n",
    "\n",
    "eta_norm = tf.get_variable('eta_norm', initializer=0.0)\n",
    "eta_norm_init_op = tf.assign(eta_norm, frobenius_norm_tf(eta_op_0))\n",
    "\n",
    "alpha_old = tf.get_variable('alpha_old', initializer=0.0)\n",
    "\n",
    "train_step_0 = t3f.assign(L, t3f.round(L - alpha_0 * eta_t3f_0, max_tt_rank=63))\n",
    "train_step_s0 = tf.assign(S, cost_with_treshold(ground_truth - t3f.full(train_step_0)))\n",
    "\n"
   ]
  },
  {
   "cell_type": "code",
   "execution_count": 73,
   "metadata": {},
   "outputs": [
    {
     "name": "stdout",
     "output_type": "stream",
     "text": [
      "Rim 0:A Tensor Train of shape (53, 63, 46, 144), TT-ranks: (1, 53, 63, 63, 1)\n"
     ]
    }
   ],
   "source": [
    "print \"Rim 0:\" + str(riemannian_grad_0)"
   ]
  },
  {
   "cell_type": "code",
   "execution_count": 74,
   "metadata": {},
   "outputs": [
    {
     "name": "stdout",
     "output_type": "stream",
     "text": [
      "Eta 0: A Tensor Train of shape (53, 63, 46, 144), TT-ranks: (1, 53, 63, 63, 1)\n"
     ]
    }
   ],
   "source": [
    "print \"Eta 0: \" + str(eta_t3f_0)"
   ]
  },
  {
   "cell_type": "code",
   "execution_count": 75,
   "metadata": {},
   "outputs": [],
   "source": [
    "#tt = t3f.round(eta_t3f_old, max_tt_rank =63, epsilon = 1e-15"
   ]
  },
  {
   "cell_type": "code",
   "execution_count": null,
   "metadata": {},
   "outputs": [],
   "source": []
  },
  {
   "cell_type": "code",
   "execution_count": null,
   "metadata": {},
   "outputs": [],
   "source": []
  },
  {
   "cell_type": "code",
   "execution_count": 76,
   "metadata": {},
   "outputs": [],
   "source": [
    "# new\n",
    "#t3f.assign(eta_t3f_old, t3f.round(eta_t3f_old, max_tt_rank =63, epsilon = 1e-15))\n"
   ]
  },
  {
   "cell_type": "code",
   "execution_count": 77,
   "metadata": {},
   "outputs": [
    {
     "name": "stdout",
     "output_type": "stream",
     "text": [
      "[1, 53, 1, 1, 1] 0 (1, 53, 53)\n",
      "[1, 53, 63, 1, 1] 1 (53, 63, 63)\n",
      "[1, 53, 63, 63, 1] 2 (63, 46, 63)\n",
      "ranks: [1, 53, 63, 63, 1]\n",
      "Max_TT rank63\n",
      "[1, 53, 63, 63, 1]\n",
      "Rim Grad shape: A Tensor Train of shape (53, 63, 46, 144), TT-ranks: (1, 53, 63, 63, 1)\n",
      "eta_trans: A Tensor Train of shape (53, 63, 46, 144), TT-ranks: (1, 106, 126, 126, 1)\n",
      "steepest descent\n",
      "conjugate gradient\n",
      "Max_TT rank63\n",
      "[1, 53, 63, 63, 1]\n",
      "[1, 53, 1, 1, 1] 0 (1, 53, 53)\n",
      "[1, 53, 63, 1, 1] 1 (53, 63, 63)\n",
      "[1, 53, 63, 63, 1] 2 (63, 46, 63)\n",
      "ranks: [1, 53, 63, 63, 1]\n",
      "eta: A Tensor Train of shape (53, 63, 46, 144), TT-ranks: (1, 53, 63, 63, 1)\n"
     ]
    }
   ],
   "source": [
    "counter_step = tf.assign(counter, counter + 1)\n",
    "\n",
    "grad_trans = t3f.riemannian.project(grad_t3f_old, L)\n",
    "eta_trans = t3f.riemannian.project(eta_t3f_old, L)\n",
    "    \n",
    "grad_full = ground_truth - cost_with_treshold(ground_truth - t3f.full(L))\n",
    "grad_t3f = t3f.to_tt_tensor(grad_full, max_tt_rank=63)\n",
    "\n",
    "loss = t3f.frobenius_norm_squared(grad_t3f)\n",
    "gradnorm_omega = t3f.frobenius_norm(grad_t3f)/(frobenius_norm_tf(ground_truth))\n",
    "\n",
    "riemannian_grad =  t3f.round(t3f.riemannian.project(grad_t3f, L),max_tt_rank =63)\n",
    "#riemannian_grad = t3f.round(riemannian_grad, max_tt_rank =63, epsilon = 1e-15)\n",
    "riemannian_grad_norm = t3f.frobenius_norm(riemannian_grad)\n",
    "\n",
    "inner_product_rim_grad = t3f.flat_inner(riemannian_grad, riemannian_grad)\n",
    "ip_xitrans_xi = t3f.flat_inner(grad_trans,riemannian_grad)\n",
    "theta = ip_xitrans_xi / inner_product_rim_grad\n",
    "\n",
    "def get_theta():\n",
    "    return t3f.full(ip_xitrans_xi / inner_product_rim_grad)\n",
    "\n",
    "def get_value_zero_point1():\n",
    "    return zero_point1\n",
    "    \n",
    "def get_conj_dir():\n",
    "    print \"conjugate gradient\"\n",
    "    tf.Print(zero_point1,[zero_point1],message=\"conjugate gradient\")\n",
    "    return t3f.full(approximate.add_n([-riemannian_grad, beta*eta_trans], max_tt_rank=63))\n",
    "\n",
    "def get_rim_grad():\n",
    "    print \"steepest descent\"\n",
    "    tf.Print(zero_point1,[zero_point1],message=\"steepest descent\")\n",
    "    return t3f.full(-riemannian_grad)\n",
    "\n",
    "# compute beta\n",
    "inner_product_rim_grad_old = t3f.flat_inner(grad_t3f_old, grad_t3f_old)\n",
    "beta = tf.maximum(0.0, (inner_product_rim_grad - ip_xitrans_xi)/inner_product_rim_grad_old)\n",
    "#eta = -riemannian_grad + beta*eta_trans\n",
    "\n",
    "print \"Rim Grad shape: \" + str(riemannian_grad)\n",
    "print \"eta_trans: \" + str(eta_trans)\n",
    "\n",
    "eta_cond = tf.cond((tf.abs(theta) >= zero_point1), get_rim_grad, get_conj_dir)\n",
    "eta_norm_update_op = tf.assign(eta_norm, frobenius_norm_tf(eta_cond))\n",
    "\n",
    "#eta = tf.case([(tf.greater_equal(theta_full,zero_point1), get_rim_grad)], default=get_conj_dir, exclusive=True)\n",
    "#eta = approximate.add_n([-riemannian_grad, beta*eta_trans], max_tt_rank=63)\n",
    "eta = t3f.to_tt_tensor(eta_cond, max_tt_rank=63)\n",
    "\n",
    "inprod_grad_eta = t3f.flat_inner(riemannian_grad,eta)\n",
    "#\n",
    "#eta_full = t3f.full(eta)\n",
    "\n",
    "print \"eta: \" + str(eta)\n",
    "#print \"eta1: \" + str(eta1)\n",
    "                                            \n",
    "#(1, 106, 126, 126, 1)\n",
    "\n",
    "eta_omega = sparsity_mask * t3f.full(eta)\n",
    "alpha = compute_step_size(eta_omega, grad_full)\n",
    "\n",
    "#two = tf.constant(2.0)\n",
    "#alpha1 =tf.maximum(0.0,two*(cost_new - cost)/inprod_grad_eta)"
   ]
  },
  {
   "cell_type": "code",
   "execution_count": null,
   "metadata": {},
   "outputs": [],
   "source": []
  },
  {
   "cell_type": "code",
   "execution_count": 78,
   "metadata": {},
   "outputs": [],
   "source": [
    "#eta1 = tf.cond((theta > zero_point1), get_rim_grad, get_conj_dir)"
   ]
  },
  {
   "cell_type": "code",
   "execution_count": 79,
   "metadata": {},
   "outputs": [
    {
     "name": "stdout",
     "output_type": "stream",
     "text": [
      "A Tensor Train of shape (53, 63, 46, 144), TT-ranks: (1, 53, 63, 63, 1)\n"
     ]
    }
   ],
   "source": [
    "print eta"
   ]
  },
  {
   "cell_type": "code",
   "execution_count": null,
   "metadata": {},
   "outputs": [],
   "source": []
  },
  {
   "cell_type": "code",
   "execution_count": null,
   "metadata": {},
   "outputs": [],
   "source": []
  },
  {
   "cell_type": "code",
   "execution_count": null,
   "metadata": {},
   "outputs": [],
   "source": []
  },
  {
   "cell_type": "code",
   "execution_count": null,
   "metadata": {},
   "outputs": [],
   "source": []
  },
  {
   "cell_type": "code",
   "execution_count": null,
   "metadata": {},
   "outputs": [],
   "source": [
    "    "
   ]
  },
  {
   "cell_type": "code",
   "execution_count": null,
   "metadata": {},
   "outputs": [],
   "source": []
  },
  {
   "cell_type": "code",
   "execution_count": null,
   "metadata": {},
   "outputs": [],
   "source": [
    " "
   ]
  },
  {
   "cell_type": "code",
   "execution_count": null,
   "metadata": {},
   "outputs": [],
   "source": []
  },
  {
   "cell_type": "code",
   "execution_count": null,
   "metadata": {},
   "outputs": [],
   "source": []
  },
  {
   "cell_type": "code",
   "execution_count": null,
   "metadata": {},
   "outputs": [],
   "source": []
  },
  {
   "cell_type": "code",
   "execution_count": null,
   "metadata": {},
   "outputs": [],
   "source": []
  },
  {
   "cell_type": "code",
   "execution_count": null,
   "metadata": {},
   "outputs": [],
   "source": []
  },
  {
   "cell_type": "code",
   "execution_count": null,
   "metadata": {},
   "outputs": [],
   "source": []
  },
  {
   "cell_type": "code",
   "execution_count": null,
   "metadata": {},
   "outputs": [],
   "source": []
  },
  {
   "cell_type": "code",
   "execution_count": null,
   "metadata": {},
   "outputs": [],
   "source": []
  },
  {
   "cell_type": "code",
   "execution_count": null,
   "metadata": {},
   "outputs": [],
   "source": []
  },
  {
   "cell_type": "code",
   "execution_count": 80,
   "metadata": {},
   "outputs": [],
   "source": [
    "#cost_old_update = compute_loss(X)\n",
    "#cost_old_op = tf.assign(cost_old,cost_old_update)"
   ]
  },
  {
   "cell_type": "code",
   "execution_count": null,
   "metadata": {},
   "outputs": [],
   "source": []
  },
  {
   "cell_type": "code",
   "execution_count": 81,
   "metadata": {},
   "outputs": [
    {
     "name": "stdout",
     "output_type": "stream",
     "text": [
      "Max_TT rank63\n",
      "[1, 53, 63, 63, 1]\n"
     ]
    }
   ],
   "source": [
    "train_new_step = t3f.assign(Lnew, t3f.round(L + alpha * eta, max_tt_rank=63))"
   ]
  },
  {
   "cell_type": "code",
   "execution_count": 82,
   "metadata": {},
   "outputs": [],
   "source": [
    "updated_cost_new = compute_loss(train_new_step, ground_truth)\n",
    "cost_new_op = tf.assign(cost_new,updated_cost_new)"
   ]
  },
  {
   "cell_type": "code",
   "execution_count": null,
   "metadata": {},
   "outputs": [],
   "source": []
  },
  {
   "cell_type": "code",
   "execution_count": null,
   "metadata": {},
   "outputs": [],
   "source": []
  },
  {
   "cell_type": "code",
   "execution_count": 83,
   "metadata": {},
   "outputs": [
    {
     "name": "stdout",
     "output_type": "stream",
     "text": [
      "Max_TT rank63\n",
      "[1, 53, 63, 63, 1]\n"
     ]
    }
   ],
   "source": [
    "train_step = t3f.assign(L, t3f.round(L + alpha * eta, max_tt_rank=63))"
   ]
  },
  {
   "cell_type": "code",
   "execution_count": 84,
   "metadata": {},
   "outputs": [],
   "source": [
    "train_step_s = tf.assign(S, cost_with_treshold(ground_truth - t3f.full(train_step)))"
   ]
  },
  {
   "cell_type": "code",
   "execution_count": null,
   "metadata": {},
   "outputs": [],
   "source": []
  },
  {
   "cell_type": "code",
   "execution_count": 85,
   "metadata": {},
   "outputs": [],
   "source": [
    "updated_cost = compute_loss(train_step, ground_truth)\n",
    "cost_op = tf.assign(cost,updated_cost)"
   ]
  },
  {
   "cell_type": "code",
   "execution_count": 86,
   "metadata": {},
   "outputs": [],
   "source": [
    "eta_update_op = t3f.assign(eta_t3f_old, eta,use_locking = True)"
   ]
  },
  {
   "cell_type": "code",
   "execution_count": 87,
   "metadata": {},
   "outputs": [],
   "source": [
    "grad_update_op = t3f.assign(grad_t3f_old, riemannian_grad)"
   ]
  },
  {
   "cell_type": "code",
   "execution_count": 88,
   "metadata": {},
   "outputs": [
    {
     "name": "stdout",
     "output_type": "stream",
     "text": [
      "Tensor(\"div_1:0\", shape=(), dtype=float32)\n"
     ]
    }
   ],
   "source": [
    "print alpha_0"
   ]
  },
  {
   "cell_type": "code",
   "execution_count": 89,
   "metadata": {},
   "outputs": [
    {
     "name": "stdout",
     "output_type": "stream",
     "text": [
      "Tensor(\"div_3:0\", shape=(), dtype=float32)\n"
     ]
    }
   ],
   "source": [
    "print theta"
   ]
  },
  {
   "cell_type": "code",
   "execution_count": 90,
   "metadata": {},
   "outputs": [
    {
     "name": "stdout",
     "output_type": "stream",
     "text": [
      "Tensor(\"Const_7:0\", shape=(), dtype=float32)\n"
     ]
    }
   ],
   "source": [
    "print zero_point1"
   ]
  },
  {
   "cell_type": "code",
   "execution_count": 91,
   "metadata": {},
   "outputs": [],
   "source": [
    "tsc_score_history = []"
   ]
  },
  {
   "cell_type": "code",
   "execution_count": 92,
   "metadata": {},
   "outputs": [],
   "source": [
    "sess = tf.Session()\n",
    "sess.run(tf.global_variables_initializer())"
   ]
  },
  {
   "cell_type": "code",
   "execution_count": 93,
   "metadata": {},
   "outputs": [
    {
     "name": "stdout",
     "output_type": "stream",
     "text": [
      "1.0001159 1.0 1.0001111 0.0 1.0000606\n"
     ]
    }
   ],
   "source": [
    "log = []\n",
    "train_loss_hist = []\n",
    "#for i in range(1000):\n",
    "gradnorm_val, alpha_val, eta_op_0_val,cost_val, cost_new_val, eta_norm_val,_,_ = sess.run([gradnorm_omega_0, alpha_0, eta_op_0, cost, cost_new, eta_norm,train_step_0.op, eta_norm_init_op.op])\n",
    "print gradnorm_val, alpha_val,cost_val, cost_new_val, eta_norm_val"
   ]
  },
  {
   "cell_type": "code",
   "execution_count": 94,
   "metadata": {},
   "outputs": [
    {
     "name": "stdout",
     "output_type": "stream",
     "text": [
      "A Tensor Train of shape (53, 63, 46, 144), TT-ranks: (1, 106, 126, 126, 1)\n"
     ]
    }
   ],
   "source": [
    "print grad_trans"
   ]
  },
  {
   "cell_type": "code",
   "execution_count": null,
   "metadata": {},
   "outputs": [],
   "source": [
    "    "
   ]
  },
  {
   "cell_type": "code",
   "execution_count": null,
   "metadata": {},
   "outputs": [],
   "source": []
  },
  {
   "cell_type": "code",
   "execution_count": 95,
   "metadata": {},
   "outputs": [],
   "source": [
    "def loss_func(x, y):\n",
    "    return 0.5*(np.linalg.norm(x - y)** 2)\n",
    "    "
   ]
  },
  {
   "cell_type": "code",
   "execution_count": 96,
   "metadata": {},
   "outputs": [],
   "source": [
    "def is_nan(x):\n",
    "    return (x is np.nan or x != x)"
   ]
  },
  {
   "cell_type": "code",
   "execution_count": 97,
   "metadata": {},
   "outputs": [],
   "source": [
    "backtrack_const = 1e-4 "
   ]
  },
  {
   "cell_type": "code",
   "execution_count": null,
   "metadata": {},
   "outputs": [],
   "source": []
  },
  {
   "cell_type": "code",
   "execution_count": 98,
   "metadata": {},
   "outputs": [],
   "source": [
    "cost_history = []\n"
   ]
  },
  {
   "cell_type": "code",
   "execution_count": 99,
   "metadata": {},
   "outputs": [],
   "source": [
    "#sess.run([loss, gradnorm_omega, alpha, theta, eta_update_op, grad_update_op, train_step.op])"
   ]
  },
  {
   "cell_type": "code",
   "execution_count": 100,
   "metadata": {},
   "outputs": [
    {
     "name": "stdout",
     "output_type": "stream",
     "text": [
      "alpha_val: 0.9999973\n",
      "theta_val: 1.000007\n",
      "inprod_grad_eta_val: -1.0003424\n",
      "rim_grad_norm: 1.0001731\n",
      "eta_norm_val: 1.0000539\n",
      "Cost New: 1.0001111\n",
      "Cost Old: 1.0001111\n",
      "armijo: False\n",
      "proposed_initial_alpha: -0.0\n",
      "Backtracking\n",
      "Learning Rate: 0.49999865889549255\n",
      "Max_TT rank63\n",
      "[1, 53, 63, 63, 1]\n",
      "proposed_initial_alpha: -0.0\n",
      "proposed_step_size: 0.0\n",
      "Cost New: 0.10225698670752736\n",
      "Cost Old: 1.0001111\n",
      "backtrackiter_count: 1\n",
      "updating X: initial cost: 1.0001111; New Cost: 0.10225698670752736\n",
      "(1.0003328, 1, 1.0001159, 0.9999973, 1.000007, 0.0, 1.0001111, 1.0001111)\n",
      "alpha_val: 0.99999607\n",
      "theta_val: 0.9999995\n",
      "inprod_grad_eta_val: -1.0003451\n",
      "rim_grad_norm: 1.0001746\n",
      "eta_norm_val: 1.0000556\n",
      "Cost New: 1.0001111\n",
      "Cost Old: 0.10225698\n",
      "armijo: False\n",
      "proposed_initial_alpha: -1.7950886748178485\n",
      "Backtracking\n",
      "Learning Rate: 0.4999980330467224\n",
      "Max_TT rank63\n",
      "[1, 53, 63, 63, 1]\n",
      "proposed_initial_alpha: -1.7950886748178485\n",
      "proposed_step_size: 1.7944693838858667\n",
      "Cost New: 4.0965033416644734e-06\n",
      "Cost Old: 0.10225698\n",
      "backtrackiter_count: 1\n",
      "updating X: initial cost: 0.10225698; New Cost: 4.0965033416644734e-06\n",
      "(1.0003328, 2, 1.0001159, 0.0, 0.99999607, 0.9999995, 4.7667407e-07, 0.10225698, 1.0001111)\n",
      "Breaking after 2 iterations. Training Error Diffrence less than train_epsilon\n"
     ]
    }
   ],
   "source": [
    "\n",
    "\n",
    "\n",
    "i = 0\n",
    "cost_nan = False\n",
    "while gradnorm_val > eps:   \n",
    "#for k in range(10):\n",
    "    i = i + 1\n",
    "    #F_v, gradnorm_val, alpha_val,theta_val, beta_val, cost_new_val, cost_val,tsc_score_val, eta_norm_val, inprod_grad_eta_val, riemannian_grad_norm_val,_, _,_,_,_,_ = sess.run([loss, gradnorm_omega, alpha, theta, beta, cost_new, cost, completion_score, eta_norm, inprod_grad_eta, riemannian_grad_norm,eta_norm_update_op.op, cost_new_op.op, train_new_step.op, tsc_score_op.op, eta_update_op.op, grad_update_op.op])\n",
    "    #tsc_score_update_op\n",
    "    #eta_old_val, grad_update_val,_ = sess.run([eta_update_op, grad_update_op])\n",
    "    F_v, gradnorm_val, alpha_val,theta_val, beta_val, cost_new_val, cost_val,eta_norm_val, inprod_grad_eta_val, riemannian_grad_norm_val,_, _,_,_,_ = sess.run([loss, gradnorm_omega, alpha, theta, beta, cost_new, cost, eta_norm, inprod_grad_eta, riemannian_grad_norm,eta_norm_update_op.op, cost_new_op.op, train_new_step.op, eta_update_op.op, grad_update_op.op])\n",
    "    \n",
    "    print \"alpha_val: \" + str(alpha_val)\n",
    "    print \"theta_val: \" + str(theta_val)\n",
    "    print \"inprod_grad_eta_val: \" + str(inprod_grad_eta_val)\n",
    "    print \"rim_grad_norm: \" + str(riemannian_grad_norm_val)\n",
    "    print \"eta_norm_val: \" + str(eta_norm_val)\n",
    "    \n",
    "    lr = alpha_val\n",
    "    cost_prev_value = cost_val\n",
    "    cost_new_value = cost_new_val\n",
    "    cost_0 = cost_val\n",
    "    \n",
    "    print \"Cost New: \" +str(cost_new_value)\n",
    "    print \"Cost Old: \" +str(cost_prev_value)\n",
    "        \n",
    "          \n",
    "    backtrackiter = 0\n",
    "\n",
    "    max_iter_count = 10\n",
    "    #armijo = (cost_new_val <= cost_prev_value + backtrack_const*(lr)*inprod_grad_eta_val)\n",
    "    armijo = (cost_new_val <= cost_prev_value + backtrack_const*(lr)*inprod_grad_eta_val)\n",
    "    print \"armijo: \" + str(armijo)\n",
    "    \n",
    "    proposed_initial_alpha = 2*(cost_new_value - cost_prev_value)/inprod_grad_eta_val\n",
    "    print \"proposed_initial_alpha: \" + str(proposed_initial_alpha)\n",
    "    \n",
    "    #diff_train = np.abs(train_loss_hist[i - 1] - train_loss_hist[i-2])\n",
    "    \n",
    "    #while (cost_prev - cost_new) <= -backtrack_const*(-lr)*inprod_grad_eta_val:\n",
    "    #while (not (cost_new <= cost_prev + backtrack_const*(lr)*inprod_grad_eta_val)):\n",
    "    while ((cost_new_value > cost_prev_value + backtrack_const*(lr)*inprod_grad_eta_val)):\n",
    "    #while ((tsc_score_new > tsc_score_old) or (cost_new_value > cost_prev_value + backtrack_const*(lr)*inprod_grad_eta_val)):\n",
    "        \n",
    "        print \"Backtracking\"\n",
    "        lr = 0.5*lr\n",
    "        print \"Learning Rate: \" + str(lr)\n",
    "        sess.run(t3f.assign(Lnew, t3f.round(L + lr * eta_t3f_old, max_tt_rank=63)).op)\n",
    "        x_new_val = sess.run(t3f.full(Lnew))\n",
    "        x_new_val[mask_indices==0] = 0.0\n",
    "        \n",
    "               \n",
    "        print \"proposed_initial_alpha: \" + str(proposed_initial_alpha)\n",
    "        proposed_step_size = proposed_initial_alpha /inprod_grad_eta_val\n",
    "        print \"proposed_step_size: \" + str(proposed_step_size)\n",
    "        proposed_initial_alpha = 0.5* proposed_step_size\n",
    "        \n",
    "        cost_new_value = loss_func(x_new_val, a_omega)\n",
    "        sess.run(tf.assign(cost_new,cost_new_value).op)\n",
    "        \n",
    "        if is_nan(cost_new):\n",
    "            cost_nan = True\n",
    "            break\n",
    "        \n",
    "        print \"Cost New: \" +str(cost_new_value)\n",
    "        print \"Cost Old: \" +str(cost_prev_value)\n",
    "        backtrackiter = backtrackiter + 1\n",
    "        print \"backtrackiter_count: \" + str(backtrackiter)\n",
    "    \n",
    "        if cost_nan:\n",
    "            print \"Cost is Nan. Breaking after \" + str(i) + \"; iterations\"\n",
    "            break\n",
    "        \n",
    "        if backtrackiter>= max_iter_count:\n",
    "           print \"Breaking after \" + str(i) + \"; iterations\"\n",
    "           break\n",
    "    \n",
    "    \n",
    "    if (cost_new_value < cost_prev_value):\n",
    "    #if (cost_new_value < cost_prev_value or (tsc_score_new <= tsc_score_old)):\n",
    "        # update x\n",
    "        print \"updating X: initial cost: \" + str(cost_prev_value) + \"; New Cost: \" +  str(cost_new_value)\n",
    "        sess.run([t3f.assign(L, Lnew).op, tf.assign(cost,cost_new_value).op])\n",
    "    else:\n",
    "        print \"Reject Step: not updating X: initial cost: \" + str(cost_prev_value) + \"; New Cost: \" +  str(cost_new_value)\n",
    "              \n",
    "    train_loss_hist.append(gradnorm_val)\n",
    "    cost_history.append(cost_new_value)\n",
    "    \n",
    "    if i > 1:\n",
    "        diff_train = np.abs(train_loss_hist[i - 1] - train_loss_hist[i-2])/np.abs(train_loss_hist[i-1])\n",
    "        print (F_v, i, gradnorm_val, diff_train, alpha_val, theta_val, beta_val, cost_val, cost_new_val)\n",
    "        if diff_train <= epsilon_train:\n",
    "            print \"Breaking after \" + str(i) + \" iterations. Training Error Diffrence less than train_epsilon\"\n",
    "            break\n",
    "    else:\n",
    "        print (F_v, i, gradnorm_val, alpha_val, theta_val, beta_val, cost_val, cost_new_val)\n",
    "    log.append(F_v)"
   ]
  },
  {
   "cell_type": "code",
   "execution_count": null,
   "metadata": {},
   "outputs": [],
   "source": []
  },
  {
   "cell_type": "code",
   "execution_count": null,
   "metadata": {},
   "outputs": [],
   "source": []
  },
  {
   "cell_type": "code",
   "execution_count": 101,
   "metadata": {},
   "outputs": [
    {
     "name": "stdout",
     "output_type": "stream",
     "text": [
      "Tensor(\"Maximum:0\", shape=(), dtype=float32)\n"
     ]
    }
   ],
   "source": [
    "print beta"
   ]
  },
  {
   "cell_type": "code",
   "execution_count": 102,
   "metadata": {},
   "outputs": [],
   "source": [
    "#sess.run([eta_update_op.op, grad_update_op.op])"
   ]
  },
  {
   "cell_type": "code",
   "execution_count": 103,
   "metadata": {},
   "outputs": [
    {
     "name": "stdout",
     "output_type": "stream",
     "text": [
      "A Tensor Train variable of shape (53, 63, 46, 144), TT-ranks: (1, 53, 63, 63, 1)\n"
     ]
    }
   ],
   "source": [
    "print X"
   ]
  },
  {
   "cell_type": "code",
   "execution_count": 104,
   "metadata": {},
   "outputs": [],
   "source": [
    "estimated_val = sess.run(t3f.full(L))"
   ]
  },
  {
   "cell_type": "code",
   "execution_count": 105,
   "metadata": {},
   "outputs": [],
   "source": [
    "ground_truth_val = sess.run(ground_truth)\n"
   ]
  },
  {
   "cell_type": "code",
   "execution_count": 106,
   "metadata": {},
   "outputs": [],
   "source": [
    "x_reconstr = estimated_val\n"
   ]
  },
  {
   "cell_type": "code",
   "execution_count": 107,
   "metadata": {},
   "outputs": [],
   "source": [
    "def relative_error(x_hat,x_true):\n",
    "    percent_error = np.linalg.norm(x_hat - x_true) / np.linalg.norm(x_true)\n",
    "    return percent_error"
   ]
  },
  {
   "cell_type": "code",
   "execution_count": 108,
   "metadata": {},
   "outputs": [],
   "source": [
    "rel_error = relative_error(estimated_val,ground_truth_val)"
   ]
  },
  {
   "cell_type": "code",
   "execution_count": 109,
   "metadata": {},
   "outputs": [
    {
     "name": "stdout",
     "output_type": "stream",
     "text": [
      "0.0029983828\n"
     ]
    }
   ],
   "source": [
    "print rel_error"
   ]
  },
  {
   "cell_type": "code",
   "execution_count": 110,
   "metadata": {},
   "outputs": [],
   "source": [
    "rel_error_rec = relative_error(x_reconstr,ground_truth_val)"
   ]
  },
  {
   "cell_type": "code",
   "execution_count": 111,
   "metadata": {},
   "outputs": [
    {
     "data": {
      "text/plain": [
       "0.0029983828"
      ]
     },
     "execution_count": 111,
     "metadata": {},
     "output_type": "execute_result"
    }
   ],
   "source": [
    "rel_error_rec"
   ]
  },
  {
   "cell_type": "code",
   "execution_count": 112,
   "metadata": {},
   "outputs": [],
   "source": [
    "x_miss_img = mt.reconstruct_image_affine(x_true_org, x_train)"
   ]
  },
  {
   "cell_type": "code",
   "execution_count": 113,
   "metadata": {},
   "outputs": [],
   "source": [
    "x_miss = image.index_img(x_miss_img,1)"
   ]
  },
  {
   "cell_type": "code",
   "execution_count": 114,
   "metadata": {},
   "outputs": [
    {
     "data": {
      "image/png": "[encoded data removed]",
      "text/plain": [
       "<matplotlib.figure.Figure at 0x15ddf8f50>"
      ]
     },
     "metadata": {},
     "output_type": "display_data"
    }
   ],
   "source": [
    "x_miss_image = plotting.plot_epi(x_miss, bg_img=None,black_bg=True, cmap='jet', cut_coords=[1, -13, 32]) "
   ]
  },
  {
   "cell_type": "code",
   "execution_count": 115,
   "metadata": {},
   "outputs": [
    {
     "data": {
      "image/png": "[encoded data removed]",
      "text/plain": [
       "<matplotlib.figure.Figure at 0x16a754e50>"
      ]
     },
     "metadata": {},
     "output_type": "display_data"
    }
   ],
   "source": [
    "x_hat_img = mt.reconstruct_image_affine(x_true_org, x_reconstr)\n",
    "x_hat = image.index_img(x_hat_img,1)\n",
    "recovered_image = plotting.plot_epi(x_hat, bg_img=None,black_bg=True, cmap='jet', cut_coords=None)"
   ]
  },
  {
   "cell_type": "code",
   "execution_count": 116,
   "metadata": {},
   "outputs": [
    {
     "data": {
      "image/png": "[encoded data removed]",
      "text/plain": [
       "<matplotlib.figure.Figure at 0x1744ee7d0>"
      ]
     },
     "metadata": {},
     "output_type": "display_data"
    }
   ],
   "source": [
    "x_org = mt.reconstruct_image_affine(x_true_org, x_true_img)\n",
    "x_org_img = image.index_img(x_org,1)\n",
    "#x_true_org_img = image.index_img(x_true_org,1)\n",
    "org_image = plotting.plot_epi(x_org_img, bg_img=None,black_bg=True, cmap='jet', cut_coords=None)"
   ]
  },
  {
   "cell_type": "code",
   "execution_count": 117,
   "metadata": {},
   "outputs": [],
   "source": [
    "#x_true_org_img = image.index_img(x_true_org,1)\n",
    "#org_image = plotting.plot_epi(x_true_org_img, bg_img=None,black_bg=True, cmap='jet', cut_coords=None)"
   ]
  },
  {
   "cell_type": "code",
   "execution_count": 118,
   "metadata": {},
   "outputs": [
    {
     "name": "stdout",
     "output_type": "stream",
     "text": [
      "('Saving figure', '/work/scratch/tt3/1/missing_ratio_20.00.png')\n",
      "Called from mrd\n"
     ]
    }
   ],
   "source": [
    "images_folder = \"/work/scratch/tt3/1\"\n",
    "mrd.draw_original_vs_reconstructed_rim(image.index_img(x_true_org,1),x_hat, image.index_img(x_miss_img,1), \"4D fMRI Tensor Completion\",\n",
    "                                             rel_error_rec, observed_ratio, coord=None, folder=images_folder)"
   ]
  },
  {
   "cell_type": "code",
   "execution_count": null,
   "metadata": {},
   "outputs": [],
   "source": [
    "estimated_val_img = mt.reconstruct_image_affine(x_true_org, estimated_val)"
   ]
  },
  {
   "cell_type": "code",
   "execution_count": null,
   "metadata": {},
   "outputs": [],
   "source": [
    "estimated_val_hat = image.index_img(estimated_val_img,1)"
   ]
  },
  {
   "cell_type": "code",
   "execution_count": null,
   "metadata": {},
   "outputs": [],
   "source": [
    "images_folder = \"/work/scratch/tt3/2\"\n",
    "mrd.draw_original_vs_reconstructed_rim(image.index_img(x_true_org,1),estimated_val_hat,image.index_img(x_miss_img,1), \"4D fMRI Tensor Completion\",\n",
    "                                             rel_error_rec, observed_ratio, coord=None, folder=images_folder)"
   ]
  },
  {
   "cell_type": "code",
   "execution_count": null,
   "metadata": {},
   "outputs": [],
   "source": []
  },
  {
   "cell_type": "code",
   "execution_count": null,
   "metadata": {},
   "outputs": [],
   "source": [
    "tsc_score1 = tsc(x_reconstr,ground_truth_val, ten_ones, mask_indices)"
   ]
  },
  {
   "cell_type": "code",
   "execution_count": null,
   "metadata": {},
   "outputs": [],
   "source": [
    "tsc_score1"
   ]
  },
  {
   "cell_type": "code",
   "execution_count": null,
   "metadata": {},
   "outputs": [],
   "source": [
    "tsc_score = tsc(estimated_val,ground_truth_val, ten_ones, mask_indices)"
   ]
  },
  {
   "cell_type": "code",
   "execution_count": null,
   "metadata": {},
   "outputs": [],
   "source": [
    "tsc_score"
   ]
  },
  {
   "cell_type": "code",
   "execution_count": null,
   "metadata": {},
   "outputs": [],
   "source": [
    "x_miss"
   ]
  },
  {
   "cell_type": "code",
   "execution_count": null,
   "metadata": {},
   "outputs": [],
   "source": [
    "print x_miss"
   ]
  },
  {
   "cell_type": "code",
   "execution_count": null,
   "metadata": {},
   "outputs": [],
   "source": [
    "output_cost = OrderedDict()\n",
    "indices = []\n",
    "\n",
    "cost_arr = []\n",
    "tsc_arr = []\n",
    "\n",
    "counter = 0\n",
    "for item in cost_history:\n",
    "    print item\n",
    "    cost_arr.append(item)\n",
    "    indices.append(counter)\n",
    "    counter = counter + 1\n",
    "    \n",
    "output_cost['k'] = indices\n",
    "output_cost['cost'] = cost_arr\n",
    "    \n",
    "output_df = pd.DataFrame(output_cost, index=indices)\n",
    "\n",
    "folder = '/work/rs1/'\n",
    "fig_id = 'solution_cost'    \n",
    "mrd.save_csv_by_path(output_df,folder,fig_id)  \n",
    "\n",
    "tsc_score_output = OrderedDict()\n",
    "tsc_score_indices = []\n",
    "\n",
    "counter = 0\n",
    "for item in tsc_score_history:\n",
    "    tsc_arr.append(item)\n",
    "    tsc_score_indices.append(counter)\n",
    "    counter = counter + 1\n",
    "\n",
    "tsc_score_output['k'] = tsc_score_indices\n",
    "tsc_score_output['tsc_cost'] = tsc_arr\n",
    "    \n",
    "output_tsc_df = pd.DataFrame(tsc_score_output, index=tsc_score_indices)\n",
    "fig_id = 'tsc_cost' \n",
    "mrd.save_csv_by_path(output_tsc_df,folder,fig_id)  "
   ]
  },
  {
   "cell_type": "code",
   "execution_count": null,
   "metadata": {},
   "outputs": [],
   "source": [
    "cost_history[1]"
   ]
  },
  {
   "cell_type": "code",
   "execution_count": null,
   "metadata": {},
   "outputs": [],
   "source": [
    "import nibabel as nib\n",
    "import os\n",
    "\n",
    "suffix = int(round((missing_ratio)*100.0, 0))\n",
    "print \"Missing Ratio: \" + str(missing_ratio)\n",
    "x_true_path = os.path.join(folder,\"x_true_img_\" + str(suffix))\n",
    "x_hat_path = os.path.join(folder,\"x_hat_img_\" + str(suffix))\n",
    "x_miss_path = os.path.join(folder,\"x_miss_img_\" + str(suffix))\n",
    "        \n",
    "print(\"x_true_path:\" + str(x_true_path))\n",
    "nib.save(x_hat_img, x_hat_path)"
   ]
  },
  {
   "cell_type": "code",
   "execution_count": null,
   "metadata": {},
   "outputs": [],
   "source": []
  },
  {
   "cell_type": "code",
   "execution_count": null,
   "metadata": {},
   "outputs": [],
   "source": [
    "std_img = math_img(\"np.std(img)\", img=x_true_org)\n",
    "mean_img = image.mean_img(x_true_org)\n",
    "z_scored_image = math_img(\"(yt - np.mean(yt))/np.std(yt)\", yt=x_true_org)"
   ]
  },
  {
   "cell_type": "code",
   "execution_count": null,
   "metadata": {},
   "outputs": [],
   "source": [
    "ground_truth_z_score = stats.zscore(z_scored_image.get_data())\n",
    "mask_z_score_indices = (abs(ground_truth_z_score) > 2).astype('int') "
   ]
  },
  {
   "cell_type": "code",
   "execution_count": null,
   "metadata": {},
   "outputs": [],
   "source": [
    "mask_z_indices_count = np.count_nonzero(mask_z_score_indices==1)\n",
    "#x_train[mask_indices==0] = 0.0"
   ]
  },
  {
   "cell_type": "code",
   "execution_count": null,
   "metadata": {},
   "outputs": [],
   "source": [
    "mask_z_indices_count"
   ]
  },
  {
   "cell_type": "code",
   "execution_count": null,
   "metadata": {},
   "outputs": [],
   "source": [
    "def tsc_z_score(x_hat,x_true, ten_ones, mask, z_score_mask):\n",
    "    x_true_ind = np.multiply(x_true, z_score_mask)\n",
    "    x_hat_ind = np.multiply(x_hat, z_score_mask)\n",
    "    nomin = np.linalg.norm(np.multiply((ten_ones - mask), (x_true_ind -  x_hat_ind)))\n",
    "    denom = np.linalg.norm(np.multiply((ten_ones - mask), x_true_ind))\n",
    "    score = nomin/denom\n",
    "    return score "
   ]
  },
  {
   "cell_type": "code",
   "execution_count": null,
   "metadata": {},
   "outputs": [],
   "source": [
    "mask_z_indices_count"
   ]
  },
  {
   "cell_type": "code",
   "execution_count": null,
   "metadata": {},
   "outputs": [],
   "source": [
    "mask_z_score_indices.shape"
   ]
  },
  {
   "cell_type": "code",
   "execution_count": null,
   "metadata": {},
   "outputs": [],
   "source": [
    "z_scored_tsc = tsc_z_score(x_reconstr,ground_truth_val, ten_ones, mask_indices, mask_z_score_indices)"
   ]
  },
  {
   "cell_type": "code",
   "execution_count": null,
   "metadata": {},
   "outputs": [],
   "source": [
    "z_scored_tsc"
   ]
  },
  {
   "cell_type": "code",
   "execution_count": null,
   "metadata": {},
   "outputs": [],
   "source": [
    "len(tsc_score_history)"
   ]
  },
  {
   "cell_type": "code",
   "execution_count": null,
   "metadata": {},
   "outputs": [],
   "source": [
    "tsc_score_history[len(tsc_score_history) -1]"
   ]
  },
  {
   "cell_type": "code",
   "execution_count": null,
   "metadata": {},
   "outputs": [],
   "source": []
  }
 ],
 "metadata": {
  "kernelspec": {
   "display_name": "Python 2",
   "language": "python",
   "name": "python2"
  },
  "language_info": {
   "codemirror_mode": {
    "name": "ipython",
    "version": 2
   },
   "file_extension": ".py",
   "mimetype": "text/x-python",
   "name": "python",
   "nbconvert_exporter": "python",
   "pygments_lexer": "ipython2",
   "version": "2.7.13"
  }
 },
 "nbformat": 4,
 "nbformat_minor": 2
}
