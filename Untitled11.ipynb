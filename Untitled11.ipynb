{
 "cells": [
  {
   "cell_type": "code",
   "execution_count": 1,
   "metadata": {},
   "outputs": [],
   "source": [
    "import numpy as np\n",
    "import os\n",
    "import configparser\n",
    "from os import path\n",
    "import pandas as pd\n",
    "from collections import OrderedDict\n",
    "import mri_draw_utils as mrd\n",
    "\n",
    "results_path = \"/work/project/cmsc655/results/alternate_min/\"\n",
    "richian_noise = \"/work/project/cmsc655/results/alternate_min/richian\"\n",
    "guassian_noise = \"/work/project/cmsc655/results/alternate_min/guassian/\"\n",
    "raleign_noise = \"/work/project/cmsc655/results/alternate_min/raleign/\"\n",
    "\n",
    "\n",
    "files = []\n",
    "files.append(\"solution_cost_1000.csv\")\n",
    "files.append(\"solution_cost_1500.csv\")\n",
    "files.append(\"solution_cost_2000.csv\")\n",
    "files.append(\"solution_cost_2500.csv\")\n",
    "files.append(\"solution_cost_1000.csv\")\n",
    "files.append(\"solution_cost_1000.csv\")\n",
    "files.append(\"solution_cost_1000.csv\")\n",
    "files.append(\"solution_cost_1000.csv\")\n",
    "files.append(\"solution_cost_1000.csv\")\n",
    "files.append(\"solution_cost_1000.csv\")\n",
    "\n",
    "\n",
    "def get_resuts_path(folder_path, result_path):\n",
    "    result_path = os.path.join(folder_path, result_path)\n",
    "    return result_path\n",
    "\n",
    "def save_csv_by_path_adv(df, file_path, dataset_id, index = False):\n",
    "    path = os.path.join(file_path, dataset_id + \".csv\")\n",
    "    print(\"Saving dataset\", path)\n",
    "    df.to_csv(path, index = index)\n",
    "    \n",
    "def read_dataset(folder_path, noise_type):\n",
    "    \n",
    "    datasets = []\n",
    "    ctr = 0\n",
    "    for item in files:\n",
    "        dataset =  read_results(get_resuts_path(folder_path, item))\n",
    "        dataset['noise_type'] = noise_type\n",
    "        sol_list = dataset['solution_grad']\n",
    "        #values = {'sol': sol_list}                    \n",
    "        #dataset['sol3'] = values\n",
    "        datasets.append(dataset)\n",
    "        ctr = ctr + 1\n",
    "        \n",
    "    solution_datasets = pd.concat(datasets, axis = 0)\n",
    "    return solution_datasets\n",
    "\n",
    "def read_results(file_path):\n",
    "    result = pd.read_csv(file_path, sep=',')\n",
    "    return result\n",
    "\n",
    "def combine_datasets():\n",
    "    col_names = ['k','snr','noise_type','low_rank_rse','sparse_rank_rse',' rel_solution_cost', 'solution_cost', 'initial_snr', 'corruption_error', 'solution_grad', 'solution_snr']\n",
    "    all_datasets = []\n",
    "\n",
    "    richian_solution = read_dataset(richian_noise, 'richian')\n",
    "    \n",
    "    \n",
    "    \n"
   ]
  },
  {
   "cell_type": "code",
   "execution_count": 20,
   "metadata": {},
   "outputs": [],
   "source": [
    "datasets = []\n",
    "ctr = 0\n",
    "dataset =  read_results(get_resuts_path(richian_noise,\"solution_cost_1000.csv\"))"
   ]
  },
  {
   "cell_type": "code",
   "execution_count": 3,
   "metadata": {},
   "outputs": [
    {
     "ename": "NameError",
     "evalue": "name 'head' is not defined",
     "output_type": "error",
     "traceback": [
      "\u001b[0;31m---------------------------------------------------------------------------\u001b[0m",
      "\u001b[0;31mNameError\u001b[0m                                 Traceback (most recent call last)",
      "\u001b[0;32m<ipython-input-3-6856a38735c8>\u001b[0m in \u001b[0;36m<module>\u001b[0;34m()\u001b[0m\n\u001b[0;32m----> 1\u001b[0;31m \u001b[0mhead\u001b[0m\u001b[0;34m(\u001b[0m\u001b[0mdataset\u001b[0m\u001b[0;34m)\u001b[0m\u001b[0;34m\u001b[0m\u001b[0m\n\u001b[0m",
      "\u001b[0;31mNameError\u001b[0m: name 'head' is not defined"
     ]
    }
   ],
   "source": [
    "head(dataset)"
   ]
  },
  {
   "cell_type": "code",
   "execution_count": 21,
   "metadata": {},
   "outputs": [],
   "source": [
    "x = dataset.solution_grad.values"
   ]
  },
  {
   "cell_type": "code",
   "execution_count": 27,
   "metadata": {},
   "outputs": [],
   "source": [
    "x3 = x.tolist()"
   ]
  },
  {
   "cell_type": "code",
   "execution_count": 33,
   "metadata": {},
   "outputs": [],
   "source": [
    "row = x3[0]"
   ]
  },
  {
   "cell_type": "code",
   "execution_count": 36,
   "metadata": {},
   "outputs": [
    {
     "data": {
      "text/plain": [
       "'[0.0031625833, 0.0031623486, 0.003162363, 0.003162392, 0.003162401, 0.0031623605, 0.0031624048, 0.003162401, 0.0031623994, 0.0031624248, 0.0031624353, 0.0031624222, 0.0031624406, 0.0031624387, 0.0031623964, 0.0031624166, 0.0031624387, 0.0031624276, 0.0031624245, 0.0031624297, 0.0031624292, 0.003162421]'"
      ]
     },
     "execution_count": 36,
     "metadata": {},
     "output_type": "execute_result"
    }
   ],
   "source": [
    "row\n",
    "\n"
   ]
  },
  {
   "cell_type": "code",
   "execution_count": 30,
   "metadata": {},
   "outputs": [
    {
     "data": {
      "text/plain": [
       "'[0.0031625833, 0.0031623486, 0.003162363, 0.003162392, 0.003162401, 0.0031623605, 0.0031624048, 0.003162401, 0.0031623994, 0.0031624248, 0.0031624353, 0.0031624222, 0.0031624406, 0.0031624387, 0.0031623964, 0.0031624166, 0.0031624387, 0.0031624276, 0.0031624245, 0.0031624297, 0.0031624292, 0.003162421]'"
      ]
     },
     "execution_count": 30,
     "metadata": {},
     "output_type": "execute_result"
    }
   ],
   "source": [
    "x3[0].astype(li)"
   ]
  },
  {
   "cell_type": "code",
   "execution_count": 16,
   "metadata": {},
   "outputs": [],
   "source": [
    "x1 = np.array(x[0])"
   ]
  },
  {
   "cell_type": "code",
   "execution_count": 18,
   "metadata": {},
   "outputs": [],
   "source": [
    "dataset['sol3'] = x1"
   ]
  },
  {
   "cell_type": "code",
   "execution_count": 19,
   "metadata": {},
   "outputs": [
    {
     "data": {
      "text/plain": [
       "0     [0.0031625833, 0.0031623486, 0.003162363, 0.00...\n",
       "1     [0.0031625833, 0.0031623486, 0.003162363, 0.00...\n",
       "2     [0.0031625833, 0.0031623486, 0.003162363, 0.00...\n",
       "3     [0.0031625833, 0.0031623486, 0.003162363, 0.00...\n",
       "4     [0.0031625833, 0.0031623486, 0.003162363, 0.00...\n",
       "5     [0.0031625833, 0.0031623486, 0.003162363, 0.00...\n",
       "6     [0.0031625833, 0.0031623486, 0.003162363, 0.00...\n",
       "7     [0.0031625833, 0.0031623486, 0.003162363, 0.00...\n",
       "8     [0.0031625833, 0.0031623486, 0.003162363, 0.00...\n",
       "9     [0.0031625833, 0.0031623486, 0.003162363, 0.00...\n",
       "10    [0.0031625833, 0.0031623486, 0.003162363, 0.00...\n",
       "11    [0.0031625833, 0.0031623486, 0.003162363, 0.00...\n",
       "12    [0.0031625833, 0.0031623486, 0.003162363, 0.00...\n",
       "13    [0.0031625833, 0.0031623486, 0.003162363, 0.00...\n",
       "14    [0.0031625833, 0.0031623486, 0.003162363, 0.00...\n",
       "15    [0.0031625833, 0.0031623486, 0.003162363, 0.00...\n",
       "16    [0.0031625833, 0.0031623486, 0.003162363, 0.00...\n",
       "17    [0.0031625833, 0.0031623486, 0.003162363, 0.00...\n",
       "18    [0.0031625833, 0.0031623486, 0.003162363, 0.00...\n",
       "19    [0.0031625833, 0.0031623486, 0.003162363, 0.00...\n",
       "20    [0.0031625833, 0.0031623486, 0.003162363, 0.00...\n",
       "21    [0.0031625833, 0.0031623486, 0.003162363, 0.00...\n",
       "Name: sol3, dtype: object"
      ]
     },
     "execution_count": 19,
     "metadata": {},
     "output_type": "execute_result"
    }
   ],
   "source": [
    "dataset.sol3"
   ]
  },
  {
   "cell_type": "code",
   "execution_count": 17,
   "metadata": {},
   "outputs": [
    {
     "data": {
      "text/plain": [
       "array('[0.0031625833, 0.0031623486, 0.003162363, 0.003162392, 0.003162401, 0.0031623605, 0.0031624048, 0.003162401, 0.0031623994, 0.0031624248, 0.0031624353, 0.0031624222, 0.0031624406, 0.0031624387, 0.0031623964, 0.0031624166, 0.0031624387, 0.0031624276, 0.0031624245, 0.0031624297, 0.0031624292, 0.003162421]',\n",
       "      dtype='|S303')"
      ]
     },
     "execution_count": 17,
     "metadata": {},
     "output_type": "execute_result"
    }
   ],
   "source": [
    "x1"
   ]
  },
  {
   "cell_type": "code",
   "execution_count": null,
   "metadata": {},
   "outputs": [],
   "source": [
    "se = pd.Series(mylist)"
   ]
  },
  {
   "cell_type": "code",
   "execution_count": 37,
   "metadata": {},
   "outputs": [],
   "source": [
    "  def computeTicks (x, step = 5):\n",
    "    \"\"\"\n",
    "    Computes domain with given step encompassing series x\n",
    "    @ params\n",
    "    x    - Required - A list-like object of integers or floats\n",
    "    step - Optional - Tick frequency\n",
    "    \"\"\"\n",
    "    import math as Math\n",
    "    xMax, xMin = Math.ceil(max(x)), Math.floor(min(x))\n",
    "    dMax, dMin = xMax + abs((xMax % step) - step) + (step if (xMax % step != 0) else 0), xMin - abs((xMin % step))\n",
    "    return range(dMin, dMax, step)"
   ]
  },
  {
   "cell_type": "code",
   "execution_count": 39,
   "metadata": {},
   "outputs": [
    {
     "ename": "TypeError",
     "evalue": "integer argument expected, got float",
     "output_type": "error",
     "traceback": [
      "\u001b[0;31m---------------------------------------------------------------------------\u001b[0m",
      "\u001b[0;31mTypeError\u001b[0m                                 Traceback (most recent call last)",
      "\u001b[0;32m<ipython-input-39-88af47b251a1>\u001b[0m in \u001b[0;36m<module>\u001b[0;34m()\u001b[0m\n\u001b[0;32m----> 1\u001b[0;31m \u001b[0mxmarks\u001b[0m \u001b[0;34m=\u001b[0m \u001b[0mxrange\u001b[0m\u001b[0;34m(\u001b[0m\u001b[0;36m0.003162391\u001b[0m\u001b[0;34m,\u001b[0m \u001b[0;36m0.003162298\u001b[0m\u001b[0;34m,\u001b[0m \u001b[0;36m0.000001\u001b[0m\u001b[0;34m)\u001b[0m\u001b[0;34m\u001b[0m\u001b[0m\n\u001b[0m",
      "\u001b[0;31mTypeError\u001b[0m: integer argument expected, got float"
     ]
    }
   ],
   "source": [
    "xmarks = xrange(0.003162391, 0.003162298, 0.000001)"
   ]
  },
  {
   "cell_type": "code",
   "execution_count": 40,
   "metadata": {},
   "outputs": [
    {
     "data": {
      "text/plain": [
       "-2.499997206618401"
      ]
     },
     "execution_count": 40,
     "metadata": {},
     "output_type": "execute_result"
    }
   ],
   "source": [
    "np.log10(0.003162298)"
   ]
  },
  {
   "cell_type": "code",
   "execution_count": 41,
   "metadata": {},
   "outputs": [
    {
     "data": {
      "text/plain": [
       "array([1.00000000e-04, 1.45634848e-04, 2.12095089e-04, 3.08884360e-04,\n",
       "       4.49843267e-04, 6.55128557e-04, 9.54095476e-04, 1.38949549e-03,\n",
       "       2.02358965e-03, 2.94705170e-03, 4.29193426e-03, 6.25055193e-03,\n",
       "       9.10298178e-03, 1.32571137e-02, 1.93069773e-02, 2.81176870e-02,\n",
       "       4.09491506e-02, 5.96362332e-02, 8.68511374e-02, 1.26485522e-01,\n",
       "       1.84206997e-01, 2.68269580e-01, 3.90693994e-01, 5.68986603e-01,\n",
       "       8.28642773e-01, 1.20679264e+00, 1.75751062e+00, 2.55954792e+00,\n",
       "       3.72759372e+00, 5.42867544e+00, 7.90604321e+00, 1.15139540e+01,\n",
       "       1.67683294e+01, 2.44205309e+01, 3.55648031e+01, 5.17947468e+01,\n",
       "       7.54312006e+01, 1.09854114e+02, 1.59985872e+02, 2.32995181e+02,\n",
       "       3.39322177e+02, 4.94171336e+02, 7.19685673e+02, 1.04811313e+03,\n",
       "       1.52641797e+03, 2.22299648e+03, 3.23745754e+03, 4.71486636e+03,\n",
       "       6.86648845e+03, 1.00000000e+04])"
      ]
     },
     "execution_count": 41,
     "metadata": {},
     "output_type": "execute_result"
    }
   ],
   "source": [
    "np.logspace(-4,4)"
   ]
  },
  {
   "cell_type": "code",
   "execution_count": null,
   "metadata": {},
   "outputs": [],
   "source": []
  }
 ],
 "metadata": {
  "kernelspec": {
   "display_name": "Python 2",
   "language": "python",
   "name": "python2"
  },
  "language_info": {
   "codemirror_mode": {
    "name": "ipython",
    "version": 2
   },
   "file_extension": ".py",
   "mimetype": "text/x-python",
   "name": "python",
   "nbconvert_exporter": "python",
   "pygments_lexer": "ipython2",
   "version": "2.7.13"
  }
 },
 "nbformat": 4,
 "nbformat_minor": 2
}
