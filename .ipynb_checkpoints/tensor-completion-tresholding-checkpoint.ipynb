{
 "cells": [
  {
   "cell_type": "code",
   "execution_count": 1,
   "metadata": {},
   "outputs": [
    {
     "name": "stderr",
     "output_type": "stream",
     "text": [
      "/usr/local/lib/python2.7/site-packages/matplotlib/__init__.py:1405: UserWarning: \n",
      "This call to matplotlib.use() has no effect because the backend has already\n",
      "been chosen; matplotlib.use() must be called *before* pylab, matplotlib.pyplot,\n",
      "or matplotlib.backends is imported for the first time.\n",
      "\n",
      "  warnings.warn(_use_error_msg)\n"
     ]
    }
   ],
   "source": [
    "import numpy as np\n",
    "import tensorflow as tf\n",
    "import t3f\n",
    "tf.set_random_seed(0)\n",
    "np.random.seed(0)\n",
    "%matplotlib inline\n",
    "import matplotlib.pyplot as plt\n",
    "import metric_util as mt\n",
    "import data_util as du\n",
    "from t3f import shapes\n",
    "from nilearn import image\n",
    "import nibabel as nib\n",
    "from math import sqrt\n",
    "import metric_util\n"
   ]
  },
  {
   "cell_type": "markdown",
   "metadata": {},
   "source": [
    "# Tensor completion\n",
    "\n",
    "In this example we will see how can we do tensor completion with t3f, i.e. observe a fraction of values in a tensor and recover the rest by assuming that the original tensor has low TT-rank.\n",
    "Mathematically it means that we have a binary mask $P$ and a ground truth tensor $A$, but we observe only a noisy and sparsified version of $A$: $P \\odot (\\hat{A})$, where $\\odot$ is the elementwise product (applying the binary mask) and $\\hat{A} = A + \\text{noise}$. In this case our task reduces to the following optimization problem:\n",
    "\\begin{equation*}\n",
    "\\begin{aligned}\n",
    "& \\underset{X}{\\text{minimize}} \n",
    "& & \\|P \\odot (X - \\hat{A})\\|_F^2 \\\\\n",
    "& \\text{subject to} \n",
    "& & \\text{tt_rank}(X) \\leq r_0\n",
    "\\end{aligned}\n",
    "\\end{equation*}\n",
    "\n"
   ]
  },
  {
   "cell_type": "markdown",
   "metadata": {},
   "source": [
    "### Generating problem instance,\n",
    "Lets generate a random matrix $A$, noise, and mask $P$."
   ]
  },
  {
   "cell_type": "code",
   "execution_count": 2,
   "metadata": {},
   "outputs": [
    {
     "name": "stdout",
     "output_type": "stream",
     "text": [
      "Subject Path: /work/pl/sch/analysis/data/COBRE001/swaAMAYER+cobre01_63001+M87100944+20110309at135133+RSTpre_V01_R01+CM.nii\n"
     ]
    }
   ],
   "source": [
    "subject_scan_path = du.get_full_path_subject1()\n",
    "print \"Subject Path: \" + str(subject_scan_path)\n",
    "x_true_org = mt.read_image_abs_path(subject_scan_path)\n",
    "#x_true_org = image.index_img(x_true_org,1)\n",
    "x_true_org1 = mt.read_image_abs_path(subject_scan_path)"
   ]
  },
  {
   "cell_type": "code",
   "execution_count": 3,
   "metadata": {},
   "outputs": [],
   "source": [
    "x_true_img = np.array(x_true_org.get_data())"
   ]
  },
  {
   "cell_type": "code",
   "execution_count": 4,
   "metadata": {},
   "outputs": [],
   "source": [
    "#shape = (3, 4, 4, 5, 7, 5)\n",
    "shape = (53,63,46,144)\n",
    "# Fix random seed so the results are comparable between runs.\n",
    "tf.set_random_seed(0)\n",
    "# Generate ground truth tensor A. To make sure that it has low TT-rank,\n",
    "# let's generate a random tt-rank 5 tensor and apply t3f.full to it to convert to actual tensor.\n",
    "#ground_truth = t3f.full(t3f.random_tensor(shape, tt_rank=5))\n",
    "ground_truth = x_true_img\n",
    "# Make a (non trainable) variable out of ground truth. Otherwise, it will be randomly regenerated on each sess.run.\n",
    "ground_truth = tf.get_variable('ground_truth', initializer=ground_truth, trainable=False)\n",
    "noise = 1e-2 * tf.get_variable('noise', initializer=tf.random_normal(shape), trainable=False)\n",
    "noisy_ground_truth = ground_truth + noise\n",
    "ten_zeros = np.zeros_like(x_true_img)\n",
    "Lold = tf.get_variable('Lold', initializer=ground_truth)\n",
    "Sold = tf.get_variable('Sold', initializer=ten_zeros)\n",
    "\n",
    "# Observe 25% of the tensor values.\n",
    "sparsity_mask = tf.cast(tf.random_uniform(shape) <= 0.80, tf.float32)\n",
    "sparsity_mask = tf.get_variable('sparsity_mask', initializer=sparsity_mask, trainable=False)\n",
    "sparse_observation = noisy_ground_truth * sparsity_mask"
   ]
  },
  {
   "cell_type": "markdown",
   "metadata": {},
   "source": [
    "### Initialize the variable and compute the loss"
   ]
  },
  {
   "cell_type": "code",
   "execution_count": null,
   "metadata": {},
   "outputs": [],
   "source": []
  },
  {
   "cell_type": "code",
   "execution_count": 5,
   "metadata": {},
   "outputs": [],
   "source": [
    "def frobenius_norm_tf(x):\n",
    "    return tf.reduce_sum(x ** 2) ** 0.5"
   ]
  },
  {
   "cell_type": "code",
   "execution_count": 6,
   "metadata": {},
   "outputs": [],
   "source": [
    "def relative_error1(x_hat,x_true):\n",
    "    percent_error = frobenius_norm_tf(x_hat - x_true) / (frobenius_norm_tf(x_true))\n",
    "    return percent_error"
   ]
  },
  {
   "cell_type": "code",
   "execution_count": 7,
   "metadata": {},
   "outputs": [],
   "source": [
    "def cost_with_treshold(x, thresh = 0.03):\n",
    "    res = tf.abs(x)\n",
    "    zeros = tf.zeros_like(x)\n",
    "    masked = tf.greater(res, thresh)\n",
    "    new_tensor = tf.where(masked, x, zeros)\n",
    "    return new_tensor"
   ]
  },
  {
   "cell_type": "code",
   "execution_count": 8,
   "metadata": {},
   "outputs": [
    {
     "name": "stdout",
     "output_type": "stream",
     "text": [
      "[1, 53, 1, 1, 1] 0 (1, 53, 53)\n",
      "[1, 53, 144, 1, 1] 1 (53, 63, 144)\n",
      "[1, 53, 144, 144, 1] 2 (144, 46, 144)\n",
      "ranks: [1, 53, 144, 144, 1]\n",
      "[1, 53, 1, 1, 1] 0 (1, 53, 53)\n",
      "[1, 53, 144, 1, 1] 1 (53, 63, 144)\n",
      "[1, 53, 144, 144, 1] 2 (144, 46, 144)\n",
      "ranks: [1, 53, 144, 144, 1]\n",
      "[1, 53, 1, 1, 1] 0 (1, 53, 53)\n",
      "[1, 53, 63, 1, 1] 1 (53, 63, 63)\n",
      "[1, 53, 63, 63, 1] 2 (63, 46, 63)\n",
      "ranks: [1, 53, 63, 63, 1]\n"
     ]
    }
   ],
   "source": [
    "observed_total = tf.reduce_sum(sparsity_mask)\n",
    "total = np.prod(shape)\n",
    "ranks_a = np.array([53,63,46,144,1])\n",
    "tt_with_ranks = t3f.to_tt_tensor(x_true_img, max_tt_rank=144)\n",
    "ranks = shapes.tt_ranks(tt_with_ranks)\n",
    "initialization = t3f.random_tensor(shape, tt_rank=10)\n",
    "l_tf = t3f.to_tt_tensor(x_true_img, max_tt_rank=144)\n",
    "L = t3f.get_variable('L', initializer=l_tf)\n",
    "ground_truth_tf = t3f.to_tt_tensor(ground_truth, max_tt_rank=63)\n",
    "Lnew = ground_truth - cost_with_treshold(ground_truth - t3f.full(L))\n",
    "S = ground_truth - Lnew\n",
    "# Loss is MSE between the estimated and ground-truth tensor as computed in the observed cells.\n",
    "#loss = tf.reduce_sum((ground_truth - cost_with_treshold(ground_truth - t3f.full(L)))**2)/(tf.reduce_sum(ground_truth)**2)\n",
    "loss = tf.reduce_sum((ground_truth - Lnew - S)**2)/(tf.reduce_sum(ground_truth)**2)\n",
    "# Test loss is MSE between the estimated tensor and full (and not noisy) ground-truth tensor A."
   ]
  },
  {
   "cell_type": "code",
   "execution_count": 9,
   "metadata": {},
   "outputs": [
    {
     "data": {
      "text/plain": [
       "(53, 63, 46, 144)"
      ]
     },
     "execution_count": 9,
     "metadata": {},
     "output_type": "execute_result"
    }
   ],
   "source": [
    "shape"
   ]
  },
  {
   "cell_type": "markdown",
   "metadata": {},
   "source": [
    "# SGD optimization\n",
    "The simplest way to solve the optimization problem is Stochastic Gradient Descent: let TensorFlow differentiate the loss w.r.t. the factors (cores) of the TensorTrain decomposition of the estimated tensor and minimize the loss with your favourite SGD variation."
   ]
  },
  {
   "cell_type": "code",
   "execution_count": 10,
   "metadata": {},
   "outputs": [],
   "source": [
    "optimizer = tf.train.AdamOptimizer(learning_rate=0.01, epsilon=1e-18)\n",
    "step = optimizer.minimize(loss)"
   ]
  },
  {
   "cell_type": "code",
   "execution_count": 11,
   "metadata": {},
   "outputs": [
    {
     "name": "stdout",
     "output_type": "stream",
     "text": [
      "(0, 3.1231677e-20)\n",
      "(1, 3.1231677e-20)\n",
      "(2, 3.1231677e-20)\n",
      "(3, 3.1231677e-20)\n",
      "(4, 3.1231677e-20)\n",
      "(5, 3.1231677e-20)\n",
      "(6, 3.1231677e-20)\n",
      "(7, 3.1231677e-20)\n",
      "(8, 3.1231677e-20)\n",
      "(9, 3.1231677e-20)\n",
      "(10, 3.1231677e-20)\n",
      "(11, 3.1231677e-20)\n",
      "(12, 3.1231677e-20)\n",
      "(13, 3.1231677e-20)\n",
      "(14, 3.1231677e-20)\n",
      "(15, 3.1231677e-20)\n",
      "(16, 3.1231677e-20)\n",
      "(17, 3.1231677e-20)\n",
      "(18, 3.1231677e-20)\n",
      "(19, 3.1231677e-20)\n",
      "(20, 3.1231677e-20)\n",
      "(21, 3.1231677e-20)\n",
      "(22, 3.1231677e-20)\n",
      "(23, 3.1231677e-20)\n",
      "(24, 3.1231677e-20)\n",
      "(25, 3.1231677e-20)\n",
      "(26, 3.1231677e-20)\n",
      "(27, 3.1231677e-20)\n",
      "(28, 3.1231677e-20)\n",
      "(29, 3.1231677e-20)\n",
      "(30, 3.1231677e-20)\n",
      "(31, 3.1231677e-20)\n",
      "(32, 3.1231677e-20)\n",
      "(33, 3.1231677e-20)\n",
      "(34, 3.1231677e-20)\n",
      "(35, 3.1231677e-20)\n",
      "(36, 3.1231677e-20)\n",
      "(37, 3.1231677e-20)\n",
      "(38, 3.1231677e-20)\n",
      "(39, 3.1231677e-20)\n",
      "(40, 3.1231677e-20)\n",
      "(41, 3.1231677e-20)\n",
      "(42, 3.1231677e-20)\n",
      "(43, 3.1231677e-20)\n",
      "(44, 3.1231677e-20)\n",
      "(45, 3.1231677e-20)\n",
      "(46, 3.1231677e-20)\n",
      "(47, 3.1231677e-20)\n",
      "(48, 3.1231677e-20)\n",
      "(49, 3.1231677e-20)\n",
      "(50, 3.1231677e-20)\n",
      "(51, 3.1231677e-20)\n",
      "(52, 3.1231677e-20)\n",
      "(53, 3.1231677e-20)\n",
      "(54, 3.1231677e-20)\n",
      "(55, 3.1231677e-20)\n",
      "(56, 3.1231677e-20)\n",
      "(57, 3.1231677e-20)\n",
      "(58, 3.1231677e-20)\n",
      "(59, 3.1231677e-20)\n",
      "(60, 3.1231677e-20)\n",
      "(61, 3.1231677e-20)\n",
      "(62, 3.1231677e-20)\n",
      "(63, 3.1231677e-20)\n",
      "(64, 3.1231677e-20)\n",
      "(65, 3.1231677e-20)\n",
      "(66, 3.1231677e-20)\n",
      "(67, 3.1231677e-20)\n",
      "(68, 3.1231677e-20)\n",
      "(69, 3.1231677e-20)\n",
      "(70, 3.1231677e-20)\n",
      "(71, 3.1231677e-20)\n",
      "(72, 3.1231677e-20)\n",
      "(73, 3.1231677e-20)\n",
      "(74, 3.1231677e-20)\n",
      "(75, 3.1231677e-20)\n",
      "(76, 3.1231677e-20)\n",
      "(77, 3.1231677e-20)\n",
      "(78, 3.1231677e-20)\n",
      "(79, 3.1231677e-20)\n",
      "(80, 3.1231677e-20)\n",
      "(81, 3.1231677e-20)\n",
      "(82, 3.1231677e-20)\n",
      "(83, 3.1231677e-20)\n",
      "(84, 3.1231677e-20)\n",
      "(85, 3.1231677e-20)\n",
      "(86, 3.1231677e-20)\n",
      "(87, 3.1231677e-20)\n",
      "(88, 3.1231677e-20)\n",
      "(89, 3.1231677e-20)\n",
      "(90, 3.1231677e-20)\n",
      "(91, 3.1231677e-20)\n",
      "(92, 3.1231677e-20)\n",
      "(93, 3.1231677e-20)\n",
      "(94, 3.1231677e-20)\n",
      "(95, 3.1231677e-20)\n",
      "(96, 3.1231677e-20)\n",
      "(97, 3.1231677e-20)\n",
      "(98, 3.1231677e-20)\n",
      "(99, 3.1231677e-20)\n",
      "(100, 3.1231677e-20)\n",
      "(101, 3.1231677e-20)\n",
      "(102, 3.1231677e-20)\n",
      "(103, 3.1231677e-20)\n",
      "(104, 3.1231677e-20)\n",
      "(105, 3.1231677e-20)\n",
      "(106, 3.1231677e-20)\n",
      "(107, 3.1231677e-20)\n",
      "(108, 3.1231677e-20)\n",
      "(109, 3.1231677e-20)\n",
      "(110, 3.1231677e-20)\n",
      "(111, 3.1231677e-20)\n",
      "(112, 3.1231677e-20)\n",
      "(113, 3.1231677e-20)\n",
      "(114, 3.1231677e-20)\n",
      "(115, 3.1231677e-20)\n",
      "(116, 3.1231677e-20)\n",
      "(117, 3.1231677e-20)\n",
      "(118, 3.1231677e-20)\n",
      "(119, 3.1231677e-20)\n",
      "(120, 3.1231677e-20)\n",
      "(121, 3.1231677e-20)\n",
      "(122, 3.1231677e-20)\n",
      "(123, 3.1231677e-20)\n",
      "(124, 3.1231677e-20)\n",
      "(125, 3.1231677e-20)\n",
      "(126, 3.1231677e-20)\n",
      "(127, 3.1231677e-20)\n",
      "(128, 3.1231677e-20)\n",
      "(129, 3.1231677e-20)\n",
      "(130, 3.1231677e-20)\n",
      "(131, 3.1231677e-20)\n",
      "(132, 3.1231677e-20)\n",
      "(133, 3.1231677e-20)\n",
      "(134, 3.1231677e-20)\n",
      "(135, 3.1231677e-20)\n",
      "(136, 3.1231677e-20)\n",
      "(137, 3.1231677e-20)\n",
      "(138, 3.1231677e-20)\n",
      "(139, 3.1231677e-20)\n",
      "(140, 3.1231677e-20)\n",
      "(141, 3.1231677e-20)\n",
      "(142, 3.1231677e-20)\n",
      "(143, 3.1231677e-20)\n",
      "(144, 3.1231677e-20)\n",
      "(145, 3.1231677e-20)\n",
      "(146, 3.1231677e-20)\n",
      "(147, 3.1231677e-20)\n",
      "(148, 3.1231677e-20)\n",
      "(149, 3.1231677e-20)\n",
      "(150, 3.1231677e-20)\n",
      "(151, 3.1231677e-20)\n",
      "(152, 3.1231677e-20)\n",
      "(153, 3.1231677e-20)\n",
      "(154, 3.1231677e-20)\n",
      "(155, 3.1231677e-20)\n",
      "(156, 3.1231677e-20)\n",
      "(157, 3.1231677e-20)\n",
      "(158, 3.1231677e-20)\n",
      "(159, 3.1231677e-20)\n",
      "(160, 3.1231677e-20)\n",
      "(161, 3.1231677e-20)\n",
      "(162, 3.1231677e-20)\n",
      "(163, 3.1231677e-20)\n",
      "(164, 3.1231677e-20)\n",
      "(165, 3.1231677e-20)\n",
      "(166, 3.1231677e-20)\n",
      "(167, 3.1231677e-20)\n",
      "(168, 3.1231677e-20)\n",
      "(169, 3.1231677e-20)\n",
      "(170, 3.1231677e-20)\n",
      "(171, 3.1231677e-20)\n",
      "(172, 3.1231677e-20)\n",
      "(173, 3.1231677e-20)\n",
      "(174, 3.1231677e-20)\n",
      "(175, 3.1231677e-20)\n",
      "(176, 3.1231677e-20)\n",
      "(177, 3.1231677e-20)\n",
      "(178, 3.1231677e-20)\n",
      "(179, 3.1231677e-20)\n",
      "(180, 3.1231677e-20)\n",
      "(181, 3.1231677e-20)\n",
      "(182, 3.1231677e-20)\n",
      "(183, 3.1231677e-20)\n",
      "(184, 3.1231677e-20)\n",
      "(185, 3.1231677e-20)\n",
      "(186, 3.1231677e-20)\n",
      "(187, 3.1231677e-20)\n",
      "(188, 3.1231677e-20)\n",
      "(189, 3.1231677e-20)\n",
      "(190, 3.1231677e-20)\n",
      "(191, 3.1231677e-20)\n",
      "(192, 3.1231677e-20)\n",
      "(193, 3.1231677e-20)\n",
      "(194, 3.1231677e-20)\n",
      "(195, 3.1231677e-20)\n",
      "(196, 3.1231677e-20)\n",
      "(197, 3.1231677e-20)\n",
      "(198, 3.1231677e-20)\n",
      "(199, 3.1231677e-20)\n"
     ]
    }
   ],
   "source": [
    "sess = tf.Session()\n",
    "sess.run(tf.global_variables_initializer())\n",
    "train_loss_hist = []\n",
    "test_loss_hist = []\n",
    "for i in range(200):\n",
    "    _, tr_loss_v = sess.run([step, loss])\n",
    "    train_loss_hist.append(tr_loss_v)\n",
    "    print(i, tr_loss_v)\n",
    "    #if i % 1000 == 0:\n",
    "     #   print(i, tr_loss_v, test_loss_v, rel_error1_v)"
   ]
  },
  {
   "cell_type": "code",
   "execution_count": 12,
   "metadata": {},
   "outputs": [
    {
     "data": {
      "text/plain": [
       "<matplotlib.legend.Legend at 0x127cbcfd0>"
      ]
     },
     "execution_count": 12,
     "metadata": {},
     "output_type": "execute_result"
    },
    {
     "data": {
      "image/png": "[encoded data removed]",
      "text/plain": [
       "<matplotlib.figure.Figure at 0x127d2c510>"
      ]
     },
     "metadata": {},
     "output_type": "display_data"
    }
   ],
   "source": [
    "plt.loglog(train_loss_hist, label='train')\n",
    "#plt.loglog(test_loss_hist, label='test')\n",
    "plt.xlabel('Iteration')\n",
    "plt.ylabel('MSE Loss value')\n",
    "plt.title('SGD completion')\n",
    "plt.legend()\n"
   ]
  },
  {
   "cell_type": "code",
   "execution_count": 13,
   "metadata": {},
   "outputs": [],
   "source": [
    "#ground_truth_var = t3f.get_variable('ground_truth', initializer=ground_truth, reuse=True)"
   ]
  },
  {
   "cell_type": "code",
   "execution_count": null,
   "metadata": {},
   "outputs": [],
   "source": [
    "#ground_truth.read_value()\n",
    "ground_truth_val = ground_truth.eval(session=sess)"
   ]
  },
  {
   "cell_type": "code",
   "execution_count": null,
   "metadata": {},
   "outputs": [],
   "source": [
    "estimated_val = sess.run(t3f.full(estimated))"
   ]
  },
  {
   "cell_type": "code",
   "execution_count": null,
   "metadata": {},
   "outputs": [],
   "source": [
    "def relative_error(x_hat,x_true):\n",
    "    percent_error = np.linalg.norm(x_hat - x_true) / np.linalg.norm(x_true)\n",
    "    return percent_error"
   ]
  },
  {
   "cell_type": "code",
   "execution_count": null,
   "metadata": {},
   "outputs": [],
   "source": [
    "rel_error = relative_error(estimated_val,ground_truth_val)"
   ]
  },
  {
   "cell_type": "code",
   "execution_count": null,
   "metadata": {},
   "outputs": [],
   "source": [
    "rel_error"
   ]
  },
  {
   "cell_type": "code",
   "execution_count": null,
   "metadata": {},
   "outputs": [],
   "source": [
    "#ten_ones = np.ones_like(mask)\n",
    "#x_reconstr = mt.reconstruct(x_hat,x_true, ten_ones, mask)"
   ]
  },
  {
   "cell_type": "code",
   "execution_count": null,
   "metadata": {},
   "outputs": [],
   "source": [
    "estimated_val.shape"
   ]
  },
  {
   "cell_type": "code",
   "execution_count": null,
   "metadata": {},
   "outputs": [],
   "source": [
    "from nilearn import image"
   ]
  },
  {
   "cell_type": "code",
   "execution_count": null,
   "metadata": {},
   "outputs": [],
   "source": [
    "shape = (53,63,46,144)"
   ]
  },
  {
   "cell_type": "code",
   "execution_count": null,
   "metadata": {},
   "outputs": [],
   "source": [
    "sparse_observation_val=sparse_observation.eval(session=sess)"
   ]
  },
  {
   "cell_type": "code",
   "execution_count": null,
   "metadata": {},
   "outputs": [],
   "source": [
    "x_miss_img = mt.reconstruct_image_affine(x_true_org, sparse_observation_val)"
   ]
  },
  {
   "cell_type": "code",
   "execution_count": null,
   "metadata": {},
   "outputs": [],
   "source": [
    "#x_miss = x_miss_img\n",
    "x_miss = image.index_img(x_miss_img,1)"
   ]
  },
  {
   "cell_type": "code",
   "execution_count": null,
   "metadata": {},
   "outputs": [],
   "source": [
    "x_hat_img = mt.reconstruct_image_affine(x_true_org, estimated_val)\n"
   ]
  },
  {
   "cell_type": "code",
   "execution_count": null,
   "metadata": {},
   "outputs": [],
   "source": [
    "#x_hat = x_hat_img\n",
    "x_hat = image.index_img(x_hat_img,1)"
   ]
  },
  {
   "cell_type": "code",
   "execution_count": null,
   "metadata": {},
   "outputs": [],
   "source": [
    "from nilearn import plotting"
   ]
  },
  {
   "cell_type": "code",
   "execution_count": null,
   "metadata": {},
   "outputs": [],
   "source": []
  },
  {
   "cell_type": "code",
   "execution_count": null,
   "metadata": {},
   "outputs": [],
   "source": [
    "x_true_org = image.index_img(x_true_org,1)"
   ]
  },
  {
   "cell_type": "code",
   "execution_count": null,
   "metadata": {},
   "outputs": [],
   "source": [
    "recovered_image = plotting.plot_epi(x_hat, bg_img=None,black_bg=True, cmap='jet', cut_coords=None) "
   ]
  },
  {
   "cell_type": "code",
   "execution_count": null,
   "metadata": {},
   "outputs": [],
   "source": [
    "x_miss_image = plotting.plot_epi(x_miss, bg_img=None,black_bg=True, cmap='jet', cut_coords=None) "
   ]
  },
  {
   "cell_type": "code",
   "execution_count": null,
   "metadata": {},
   "outputs": [],
   "source": [
    "import ellipsoid_masker as elpm\n",
    "import ellipsoid_mask as em"
   ]
  },
  {
   "cell_type": "code",
   "execution_count": null,
   "metadata": {},
   "outputs": [],
   "source": [
    "def create_corrupted_image(x0,y0,z0, x_r, y_r):\n",
    "    pass"
   ]
  },
  {
   "cell_type": "code",
   "execution_count": null,
   "metadata": {},
   "outputs": [],
   "source": [
    "def generate_structural_missing_pattern(x0,y0,z0, x_r, y_r, frames_count, path_folder):\n",
    "    subject_scan_path = du.get_full_path_subject1()\n",
    "        \n",
    "    print (\"3D Random Missing Value Pattern Simulations has started...\")\n",
    "    print \"Subject Path: \" + str(subject_scan_path)\n",
    "    \n",
    "    n = 0\n",
    "    # type 1 (center is the center of the image), corrupt first 10 frames\n",
    "    #x0, y0, z0 = (0 ,-18 , 17)\n",
    "    #x_r, y_r, z_r = (20, 17, 15)\n",
    "    \n",
    "    print \"===Type 1 Experiments====\"\n",
    "    \n",
    "    target_img = image.index_img(subject_scan_path,n)\n",
    "    \n",
    "    type_1_folder_path = path_folder\n",
    "    masked_img_file_path  = type_1_folder_path + \"/\" + \"size_\" + str(x_r) + \"_\" + str(y_r) + \"_\" + str(z_r) + \"_scan_\" + str(n)\n",
    "    \n",
    "    corrupted_volumes_list = []\n",
    "    corrupted_volumes_list_scan_numbers = []\n",
    "    \n",
    "    for i in xrange(frames_count):\n",
    "        masked_img_file_path  = type_1_folder_path + \"/\" + \"size_\" + str(x_r) + \"_\" + str(y_r) + \"_\" + str(z_r) + \"_scan_\" + str(i)\n",
    "        target_img = image.index_img(subject_scan_path,i)\n",
    "        image_masked_by_ellipsoid = elpm.create_ellipsoid_mask(x0, y0, z0, x_r, y_r, z_r, target_img, masked_img_file_path)\n",
    "        \n",
    "        masked_img_file_path = masked_img_file_path + \".nii\"\n",
    "        ellipsoid = em.EllipsoidMask(x0, y0, z0, x_r, y_r, z_r, masked_img_file_path)\n",
    "        ellipsoid_volume = ellipsoid.volume()\n",
    "        observed_ratio = mt.compute_observed_ratio(image_masked_by_ellipsoid)\n",
    "        \n",
    "        corrupted_volumes_list.append(image_masked_by_ellipsoid)\n",
    "        corrupted_volumes_list_scan_numbers.append(i)\n",
    "        print (\"Ellipsoid Volume: \" + str(ellipsoid_volume) + \"; Missing Ratio: \" + str(observed_ratio))\n",
    "    \n",
    "    # now create corrupted 4d where fist 10 frames has ellipsoid missing across 10 frames\n",
    "    counter = 0\n",
    "    \n",
    "    volumes_list = []\n",
    "    for img in image.iter_img(subject_scan_path):\n",
    "        print \"Volume Index: \" + str(counter)\n",
    "        if counter in corrupted_volumes_list_scan_numbers:\n",
    "            print \"Adding corrupted volume to the list \" + str(counter)\n",
    "            volumes_list.append(corrupted_volumes_list[counter])\n",
    "        else:\n",
    "            print \"Adding normal volume to the list \" + str(counter)\n",
    "            volumes_list.append(img)\n",
    "        counter = counter + 1\n",
    "        \n",
    "    # now generate corrupted 4D from the list\n",
    "    corrupted4d_10 = image.concat_imgs(volumes_list)\n",
    "    print \"Corrupted 4D - 10 frames: \" + str(corrupted4d_10)\n",
    "    observed_ratio4D_10 = mt.compute_observed_ratio(corrupted4d_10)\n",
    "    print (\"Corrupted 4D - 10 Volume: \" + \"; Missing Ratio: \" + str(observed_ratio4D_10))\n",
    "    corr_file_path4D = du.corrupted4D_10_frames_path()\n",
    "    nib.save(corrupted4d_10, corr_file_path4D)\n",
    "    return corrupted4d_10"
   ]
  },
  {
   "cell_type": "code",
   "execution_count": null,
   "metadata": {},
   "outputs": [],
   "source": [
    "def get_xyz(i, j, k, epi_img):\n",
    "    M = epi_img.affine[:3, :3]\n",
    "    abc = epi_img.affine[:3, 3]\n",
    "    return M.dot([i, j, k]) + abc"
   ]
  },
  {
   "cell_type": "code",
   "execution_count": null,
   "metadata": {},
   "outputs": [],
   "source": [
    "coord = [26,31,23]\n",
    "path_folder3D = \"/work/el/3D\""
   ]
  },
  {
   "cell_type": "code",
   "execution_count": null,
   "metadata": {},
   "outputs": [],
   "source": [
    "x_true_org3D = image.index_img(subject_scan_path,0)\n",
    "nib.save(x_true_org3D,path_folder3D)"
   ]
  },
  {
   "cell_type": "code",
   "execution_count": null,
   "metadata": {},
   "outputs": [],
   "source": [
    "x_coord  = get_xyz(10,7,4, x_true_org3D)"
   ]
  },
  {
   "cell_type": "code",
   "execution_count": null,
   "metadata": {},
   "outputs": [],
   "source": [
    "x_coord"
   ]
  },
  {
   "cell_type": "code",
   "execution_count": null,
   "metadata": {},
   "outputs": [],
   "source": [
    "x_coord_center  = get_xyz(26,31,23, x_true_org3D)"
   ]
  },
  {
   "cell_type": "code",
   "execution_count": null,
   "metadata": {},
   "outputs": [],
   "source": [
    "x_coord_center"
   ]
  },
  {
   "cell_type": "code",
   "execution_count": null,
   "metadata": {},
   "outputs": [],
   "source": [
    "path_folder3D = \"/work/el/3D\""
   ]
  },
  {
   "cell_type": "code",
   "execution_count": null,
   "metadata": {},
   "outputs": [],
   "source": [
    "path_folder = \"/work/el/75\""
   ]
  },
  {
   "cell_type": "code",
   "execution_count": null,
   "metadata": {},
   "outputs": [],
   "source": []
  },
  {
   "cell_type": "code",
   "execution_count": null,
   "metadata": {},
   "outputs": [],
   "source": [
    "#x0, y0, z0 = (-10, -20,17)\n",
    "#x0, y0, z0 = (-5, -20,17)\n",
    "#x0, y0, z0 = (2, 32,22)\n",
    "#x_r, y_r, z_r = (20,17,15)\n",
    "x0, y0, z0 = (2, 32,22)\n",
    "# size 1\n",
    "#x_r, y_r, z_r = (7,10,8)\n",
    "# size 2\n",
    "#x_r, y_r, z_r = (9,10,8)\n",
    "#size 3\n",
    "x_r, y_r, z_r = (12,10,8)"
   ]
  },
  {
   "cell_type": "code",
   "execution_count": null,
   "metadata": {},
   "outputs": [],
   "source": [
    "x_miss_img = generate_structural_missing_pattern(x0,y0,z0, x_r, y_r, 1, path_folder)"
   ]
  },
  {
   "cell_type": "code",
   "execution_count": null,
   "metadata": {},
   "outputs": [],
   "source": [
    "x_miss_img"
   ]
  },
  {
   "cell_type": "code",
   "execution_count": null,
   "metadata": {},
   "outputs": [],
   "source": [
    "x_miss_img_data = np.array(x_miss_img.get_data())"
   ]
  },
  {
   "cell_type": "code",
   "execution_count": null,
   "metadata": {},
   "outputs": [],
   "source": []
  },
  {
   "cell_type": "code",
   "execution_count": null,
   "metadata": {},
   "outputs": [],
   "source": [
    "mask = elpm.ellipsoid_masker(x_r, y_r, z_r, x0, y0, z0, x_true_org3D)"
   ]
  },
  {
   "cell_type": "code",
   "execution_count": null,
   "metadata": {},
   "outputs": [],
   "source": [
    "mask_data = np.array(mask.get_data())"
   ]
  },
  {
   "cell_type": "code",
   "execution_count": null,
   "metadata": {},
   "outputs": [],
   "source": [
    "mask.shape"
   ]
  },
  {
   "cell_type": "code",
   "execution_count": null,
   "metadata": {},
   "outputs": [],
   "source": [
    "mask_data.shape"
   ]
  },
  {
   "cell_type": "code",
   "execution_count": null,
   "metadata": {},
   "outputs": [],
   "source": [
    "def generate_system_noise_roi_mask(img, snr_db, mask):\n",
    "    snr = sqrt(np.power(10.0, snr_db / 10.0))\n",
    "    print (\"snr: \" + str(snr))\n",
    "    data = np.array(img.get_data())\n",
    "    signal = data[mask > 0].reshape(-1)\n",
    "    sigma_n = signal.mean() / snr\n",
    "    print (\"sigma_n: \" + str(sigma_n))\n",
    "    n_1 = np.random.normal(size=data.shape, scale=sigma_n)\n",
    "    n_2 = np.random.normal(size=data.shape, scale=sigma_n)\n",
    "    stde_1 = n_1 / sqrt(2.0)\n",
    "    stde_2 = n_2 / sqrt(2.0)\n",
    "    im_noise = np.sqrt((data + stde_1)**2 + (stde_2)**2)\n",
    "    im_noise[mask == 0] = 0\n",
    "    noise_idxs = np.where(im_noise > 0)\n",
    "    data[noise_idxs] = im_noise[noise_idxs]\n",
    "    return data, im_noise"
   ]
  },
  {
   "cell_type": "code",
   "execution_count": null,
   "metadata": {},
   "outputs": [],
   "source": [
    "def create_noisy_image(x, snr_db, mask):\n",
    "    x_noisy, noise_mask = generate_system_noise_roi_mask(x, snr_db, mask)\n",
    "    x_noisy_img = mt.reconstruct_image_affine(x, x_noisy)\n",
    "    noise_mask_img = mt.reconstruct_image_affine(x, noise_mask)\n",
    "    return x_noisy_img, noise_mask_img"
   ]
  },
  {
   "cell_type": "code",
   "execution_count": null,
   "metadata": {},
   "outputs": [],
   "source": [
    "noisy_roi = generate_system_noise(x_true_org3D, 2, mask_data)"
   ]
  },
  {
   "cell_type": "code",
   "execution_count": null,
   "metadata": {},
   "outputs": [],
   "source": [
    "data_x = np.array(x_true_org3D.get_data())"
   ]
  },
  {
   "cell_type": "code",
   "execution_count": null,
   "metadata": {},
   "outputs": [],
   "source": [
    "data1 = data_x*(1./np.linalg.norm(data_x))"
   ]
  },
  {
   "cell_type": "code",
   "execution_count": null,
   "metadata": {},
   "outputs": [],
   "source": [
    "#1./np.linalg.norm(self.x_init)"
   ]
  },
  {
   "cell_type": "code",
   "execution_count": null,
   "metadata": {},
   "outputs": [],
   "source": []
  },
  {
   "cell_type": "code",
   "execution_count": null,
   "metadata": {},
   "outputs": [],
   "source": []
  },
  {
   "cell_type": "code",
   "execution_count": null,
   "metadata": {},
   "outputs": [],
   "source": []
  },
  {
   "cell_type": "code",
   "execution_count": null,
   "metadata": {},
   "outputs": [],
   "source": [
    "idxs = np.where(noisy_roi > 0)"
   ]
  },
  {
   "cell_type": "code",
   "execution_count": null,
   "metadata": {},
   "outputs": [],
   "source": [
    "data1[mask_data == 1] = 0 "
   ]
  },
  {
   "cell_type": "code",
   "execution_count": null,
   "metadata": {},
   "outputs": [],
   "source": [
    "ss = data1 + noisy_roi"
   ]
  },
  {
   "cell_type": "code",
   "execution_count": null,
   "metadata": {},
   "outputs": [],
   "source": []
  },
  {
   "cell_type": "code",
   "execution_count": null,
   "metadata": {},
   "outputs": [],
   "source": [
    "data1[x_r +2 , y_r +2, z_r +2]"
   ]
  },
  {
   "cell_type": "code",
   "execution_count": null,
   "metadata": {},
   "outputs": [],
   "source": [
    "noisy_roi_img = mt.reconstruct_image_affine(x_true_org3D, noisy_roi)"
   ]
  },
  {
   "cell_type": "code",
   "execution_count": null,
   "metadata": {},
   "outputs": [],
   "source": [
    "x_n, noise_mask = create_noisy_image(x_true_org3D, 2, mask_data)"
   ]
  },
  {
   "cell_type": "code",
   "execution_count": null,
   "metadata": {},
   "outputs": [],
   "source": [
    "ss[x_r +2 , y_r +2, z_r +2]"
   ]
  },
  {
   "cell_type": "code",
   "execution_count": null,
   "metadata": {},
   "outputs": [],
   "source": [
    "disp = plotting.plot_img(x_true_org3D, bg_img=None,black_bg=True, cmap='jet', cut_coords=[x0, y0, z0]) \n",
    "#disp.add_contours(mask, levels=[0.1, 0.3, 0.4, 0.5], filled=False, colors='b')\n",
    "disp.add_overlay(noise_mask, alpha = 0.7)"
   ]
  },
  {
   "cell_type": "code",
   "execution_count": null,
   "metadata": {},
   "outputs": [],
   "source": [
    "counter = 0\n",
    "volumes_list = []\n",
    "for img in image.iter_img(subject_scan_path):\n",
    "    print \"Volume Index: \" + str(counter)\n",
    "    if counter == 0:\n",
    "        print \"Adding corrupted volume to the list \" + str(counter)\n",
    "        volumes_list.append(x_n)\n",
    "    else:\n",
    "        print \"Adding normal volume to the list \" + str(counter)\n",
    "        volumes_list.append(img)\n",
    "        counter = counter + 1\n",
    "        \n",
    "    # now generate corrupted 4D from the list\n",
    "x_corr_img = image.concat_imgs(volumes_list)"
   ]
  },
  {
   "cell_type": "code",
   "execution_count": null,
   "metadata": {},
   "outputs": [],
   "source": [
    "mask_img_data = np.array(x_corr_img.get_data())\n"
   ]
  },
  {
   "cell_type": "code",
   "execution_count": null,
   "metadata": {},
   "outputs": [],
   "source": [
    "print mask_img_data.shape"
   ]
  },
  {
   "cell_type": "code",
   "execution_count": null,
   "metadata": {},
   "outputs": [],
   "source": [
    "print mask_indices_img"
   ]
  },
  {
   "cell_type": "code",
   "execution_count": null,
   "metadata": {},
   "outputs": [],
   "source": [
    "mask_indices = np.ones_like(mask_img_data)\n",
    "mask_indices[mask_img_data == 0] = 0.0\n",
    "mask_indices_img = mt.reconstruct_image_affine(x_true_org1, mask_indices)"
   ]
  },
  {
   "cell_type": "code",
   "execution_count": null,
   "metadata": {},
   "outputs": [],
   "source": [
    "from nilearn.masking import apply_mask\n",
    "masked_data = apply_mask(x_corr_img, mask)"
   ]
  },
  {
   "cell_type": "code",
   "execution_count": null,
   "metadata": {},
   "outputs": [],
   "source": [
    "print x_corr_img"
   ]
  },
  {
   "cell_type": "code",
   "execution_count": null,
   "metadata": {},
   "outputs": [],
   "source": [
    "masked_data.shape"
   ]
  },
  {
   "cell_type": "code",
   "execution_count": null,
   "metadata": {},
   "outputs": [],
   "source": [
    "import matplotlib.pyplot as plt\n",
    "plt.figure(figsize=(7, 5))\n",
    "plt.plot(masked_data[:148, :25])\n",
    "plt.xlabel('Time [TRs]', fontsize=16)\n",
    "plt.ylabel('Intensity', fontsize=16)\n",
    "plt.xlim(0, 143)\n",
    "plt.subplots_adjust(bottom=.12, top=.95, right=.95, left=.12)\n"
   ]
  },
  {
   "cell_type": "code",
   "execution_count": null,
   "metadata": {},
   "outputs": [],
   "source": []
  },
  {
   "cell_type": "code",
   "execution_count": null,
   "metadata": {},
   "outputs": [],
   "source": []
  },
  {
   "cell_type": "code",
   "execution_count": null,
   "metadata": {},
   "outputs": [],
   "source": []
  },
  {
   "cell_type": "code",
   "execution_count": null,
   "metadata": {},
   "outputs": [],
   "source": []
  },
  {
   "cell_type": "code",
   "execution_count": null,
   "metadata": {},
   "outputs": [],
   "source": [
    "x_miss_img_data.shape"
   ]
  },
  {
   "cell_type": "code",
   "execution_count": null,
   "metadata": {},
   "outputs": [],
   "source": [
    "print x_true_org"
   ]
  },
  {
   "cell_type": "code",
   "execution_count": null,
   "metadata": {},
   "outputs": [],
   "source": [
    "target_img = image.index_img(x_true_org1,0)"
   ]
  },
  {
   "cell_type": "code",
   "execution_count": null,
   "metadata": {},
   "outputs": [],
   "source": []
  },
  {
   "cell_type": "code",
   "execution_count": null,
   "metadata": {},
   "outputs": [],
   "source": [
    "masked_img_file_path  = \"/work/el\" + \"/\" + \"size_\" + str(x_r) + \"_\" + str(y_r) + \"_\" + str(z_r) + \"_scan_\" + str(i)"
   ]
  },
  {
   "cell_type": "code",
   "execution_count": null,
   "metadata": {},
   "outputs": [],
   "source": [
    "masked_img_file_path"
   ]
  },
  {
   "cell_type": "code",
   "execution_count": null,
   "metadata": {},
   "outputs": [],
   "source": [
    "image_masked_by_ellipsoid = elpm.create_ellipsoid_mask(x0, y0, z0, x_r, y_r, z_r, target_img, masked_img_file_path)"
   ]
  },
  {
   "cell_type": "code",
   "execution_count": null,
   "metadata": {},
   "outputs": [],
   "source": [
    "target_img"
   ]
  },
  {
   "cell_type": "code",
   "execution_count": null,
   "metadata": {},
   "outputs": [],
   "source": [
    "import nipy"
   ]
  },
  {
   "cell_type": "code",
   "execution_count": null,
   "metadata": {},
   "outputs": [],
   "source": [
    "image_masked_by_ellipsoid"
   ]
  },
  {
   "cell_type": "code",
   "execution_count": null,
   "metadata": {},
   "outputs": [],
   "source": [
    "n_spikes, out_spikes, out_fft, spikes_list = slice_wise_fft(subject_scan_path, spike_thres=4.)"
   ]
  },
  {
   "cell_type": "code",
   "execution_count": null,
   "metadata": {},
   "outputs": [],
   "source": [
    "out_fft"
   ]
  },
  {
   "cell_type": "code",
   "execution_count": null,
   "metadata": {},
   "outputs": [],
   "source": [
    "n_spikes"
   ]
  },
  {
   "cell_type": "code",
   "execution_count": null,
   "metadata": {},
   "outputs": [],
   "source": [
    "spiked_fft = mt.read_image_abs_path(out_fft)"
   ]
  },
  {
   "cell_type": "code",
   "execution_count": null,
   "metadata": {},
   "outputs": [],
   "source": [
    "print spiked_fft"
   ]
  },
  {
   "cell_type": "code",
   "execution_count": null,
   "metadata": {},
   "outputs": [],
   "source": []
  },
  {
   "cell_type": "code",
   "execution_count": null,
   "metadata": {},
   "outputs": [],
   "source": [
    "tr_6_img = image.index_img(x_true_org1, 39)"
   ]
  },
  {
   "cell_type": "code",
   "execution_count": null,
   "metadata": {},
   "outputs": [],
   "source": [
    "mean_fft_img = image.mean_img(spiked_fft)"
   ]
  },
  {
   "cell_type": "code",
   "execution_count": null,
   "metadata": {},
   "outputs": [],
   "source": [
    "spike_6_img = image.index_img(spiked_fft,39)"
   ]
  },
  {
   "cell_type": "code",
   "execution_count": null,
   "metadata": {},
   "outputs": [],
   "source": [
    "spike_6 = plotting.plot_img(spike_6_img, display_mode='z', bg_img=None,black_bg=True, cmap='Greys_r', cut_coords=[18])\n",
    "spike_6.add_contours(z_score_d_mask_img, levels=[0.5], filled=True, alpha=0.8, colors='r')"
   ]
  },
  {
   "cell_type": "code",
   "execution_count": null,
   "metadata": {},
   "outputs": [],
   "source": [
    "tr_6 = plotting.plot_epi(tr_6_img, display_mode='z', bg_img=None,black_bg=True,cut_coords=[18]) \n"
   ]
  },
  {
   "cell_type": "code",
   "execution_count": null,
   "metadata": {},
   "outputs": [],
   "source": [
    "#z_score_epi_mask = get_z_score_robust_spatial_mask(tr_6_img, 4) "
   ]
  },
  {
   "cell_type": "code",
   "execution_count": null,
   "metadata": {},
   "outputs": [],
   "source": []
  }
 ],
 "metadata": {
  "kernelspec": {
   "display_name": "Python 2",
   "language": "python",
   "name": "python2"
  },
  "language_info": {
   "codemirror_mode": {
    "name": "ipython",
    "version": 2
   },
   "file_extension": ".py",
   "mimetype": "text/x-python",
   "name": "python",
   "nbconvert_exporter": "python",
   "pygments_lexer": "ipython2",
   "version": "2.7.13"
  }
 },
 "nbformat": 4,
 "nbformat_minor": 2
}
