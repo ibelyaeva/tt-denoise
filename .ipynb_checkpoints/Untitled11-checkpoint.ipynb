{
 "cells": [
  {
   "cell_type": "code",
   "execution_count": 1,
   "metadata": {},
   "outputs": [],
   "source": [
    "import numpy as np\n",
    "import os\n",
    "import configparser\n",
    "from os import path\n",
    "import pandas as pd\n",
    "from collections import OrderedDict\n",
    "import mri_draw_utils as mrd\n",
    "\n",
    "results_path = \"/work/project/cmsc655/results/alternate_min/\"\n",
    "richian_noise = \"/work/project/cmsc655/results/alternate_min/richian\"\n",
    "guassian_noise = \"/work/project/cmsc655/results/alternate_min/guassian/\"\n",
    "raleign_noise = \"/work/project/cmsc655/results/alternate_min/raleign/\"\n",
    "\n",
    "\n",
    "files = []\n",
    "files.append(\"solution_cost_1000.csv\")\n",
    "files.append(\"solution_cost_1500.csv\")\n",
    "files.append(\"solution_cost_2000.csv\")\n",
    "files.append(\"solution_cost_2500.csv\")\n",
    "files.append(\"solution_cost_1000.csv\")\n",
    "files.append(\"solution_cost_1000.csv\")\n",
    "files.append(\"solution_cost_1000.csv\")\n",
    "files.append(\"solution_cost_1000.csv\")\n",
    "files.append(\"solution_cost_1000.csv\")\n",
    "files.append(\"solution_cost_1000.csv\")\n",
    "\n",
    "\n",
    "def get_resuts_path(folder_path, result_path):\n",
    "    result_path = os.path.join(folder_path, result_path)\n",
    "    return result_path\n",
    "\n",
    "def save_csv_by_path_adv(df, file_path, dataset_id, index = False):\n",
    "    path = os.path.join(file_path, dataset_id + \".csv\")\n",
    "    print(\"Saving dataset\", path)\n",
    "    df.to_csv(path, index = index)\n",
    "    \n",
    "def read_dataset(folder_path, noise_type):\n",
    "    \n",
    "    datasets = []\n",
    "    ctr = 0\n",
    "    for item in files:\n",
    "        dataset =  read_results(get_resuts_path(folder_path, item))\n",
    "        dataset['noise_type'] = noise_type\n",
    "        sol_list = dataset['solution_grad']\n",
    "        #values = {'sol': sol_list}                    \n",
    "        #dataset['sol3'] = values\n",
    "        datasets.append(dataset)\n",
    "        ctr = ctr + 1\n",
    "        \n",
    "    solution_datasets = pd.concat(datasets, axis = 0)\n",
    "    return solution_datasets\n",
    "\n",
    "def read_results(file_path):\n",
    "    result = pd.read_csv(file_path, sep=',')\n",
    "    return result\n",
    "\n",
    "def combine_datasets():\n",
    "    col_names = ['k','snr','noise_type','low_rank_rse','sparse_rank_rse',' rel_solution_cost', 'solution_cost', 'initial_snr', 'corruption_error', 'solution_grad', 'solution_snr']\n",
    "    all_datasets = []\n",
    "\n",
    "    richian_solution = read_dataset(richian_noise, 'richian')\n",
    "    \n",
    "    \n",
    "    \n"
   ]
  },
  {
   "cell_type": "code",
   "execution_count": null,
   "metadata": {},
   "outputs": [],
   "source": [
    "datasets = []\n",
    "ctr = 0\n",
    "dataset =  read_results(get_resuts_path(folder_path, item))"
   ]
  }
 ],
 "metadata": {
  "kernelspec": {
   "display_name": "Python 2",
   "language": "python",
   "name": "python2"
  },
  "language_info": {
   "codemirror_mode": {
    "name": "ipython",
    "version": 2
   },
   "file_extension": ".py",
   "mimetype": "text/x-python",
   "name": "python",
   "nbconvert_exporter": "python",
   "pygments_lexer": "ipython2",
   "version": "2.7.13"
  }
 },
 "nbformat": 4,
 "nbformat_minor": 2
}
