{
 "cells": [
  {
   "cell_type": "code",
   "execution_count": 1,
   "metadata": {},
   "outputs": [
    {
     "name": "stderr",
     "output_type": "stream",
     "text": [
      "/usr/local/lib/python2.7/site-packages/matplotlib/__init__.py:1405: UserWarning: \n",
      "This call to matplotlib.use() has no effect because the backend has already\n",
      "been chosen; matplotlib.use() must be called *before* pylab, matplotlib.pyplot,\n",
      "or matplotlib.backends is imported for the first time.\n",
      "\n",
      "  warnings.warn(_use_error_msg)\n"
     ]
    }
   ],
   "source": [
    "import tensorflow as tf\n",
    "import numpy as np\n",
    "import t3f\n",
    "tf.set_random_seed(0)\n",
    "np.random.seed(0)\n",
    "%matplotlib inline\n",
    "import matplotlib.pyplot as plt\n",
    "import metric_util as mt\n",
    "import data_util as du\n",
    "from t3f import shapes\n",
    "from nilearn import image\n",
    "from tensorflow.python.util import nest\n",
    "import copy\n",
    "from nilearn import plotting\n",
    "from t3f import ops\n",
    "import mri_draw_utils as mrd\n",
    "from t3f import initializers\n",
    "from t3f import approximate\n",
    "from scipy import optimize \n",
    "from nilearn.masking import compute_background_mask\n",
    "from nilearn.masking import compute_epi_mask\n",
    "from collections import OrderedDict\n",
    "import pandas as pd\n",
    "from scipy import stats\n",
    "from nilearn.image import math_img\n",
    "from t3f import initializers"
   ]
  },
  {
   "cell_type": "code",
   "execution_count": 2,
   "metadata": {},
   "outputs": [
    {
     "name": "stdout",
     "output_type": "stream",
     "text": [
      "Subject Path: /work/pl/sch/analysis/data/COBRE001/swaAMAYER+cobre01_63001+M87100944+20110309at135133+RSTpre_V01_R01+CM.nii\n"
     ]
    }
   ],
   "source": [
    "subject_scan_path = du.get_full_path_subject1()\n",
    "print \"Subject Path: \" + str(subject_scan_path)\n",
    "x_true_org = mt.read_image_abs_path(subject_scan_path)\n",
    "ground_truth = np.array(x_true_org.get_data()).astype('float32')\n",
    "ten_ones = np.ones_like(ground_truth).astype('float32')\n",
    "ten_zeros = np.zeros_like(ground_truth).astype('float32')"
   ]
  },
  {
   "cell_type": "code",
   "execution_count": 3,
   "metadata": {},
   "outputs": [],
   "source": [
    "def init_random(x):\n",
    "    init = (2*np.random.random_sample(x.shape) - 1).astype('float32')\n",
    "    return init"
   ]
  },
  {
   "cell_type": "code",
   "execution_count": 4,
   "metadata": {},
   "outputs": [],
   "source": [
    "def cost_with_treshold(x, thresh = 0.03):\n",
    "    res = tf.abs(x)\n",
    "    zeros = tf.zeros_like(x)\n",
    "    masked = tf.greater(res, thresh)\n",
    "    new_tensor = tf.where(masked, x, zeros)\n",
    "    return new_tensor"
   ]
  },
  {
   "cell_type": "code",
   "execution_count": 5,
   "metadata": {},
   "outputs": [],
   "source": [
    "#Initialize variables"
   ]
  },
  {
   "cell_type": "code",
   "execution_count": 6,
   "metadata": {},
   "outputs": [
    {
     "name": "stdout",
     "output_type": "stream",
     "text": [
      "[1, 53, 1, 1, 1] 0 (1, 53, 53)\n",
      "[1, 53, 63, 1, 1] 1 (53, 63, 63)\n",
      "[1, 53, 63, 63, 1] 2 (63, 46, 63)\n",
      "ranks: [1, 53, 63, 63, 1]\n",
      "[1, 53, 1, 1, 1] 0 (1, 53, 53)\n",
      "[1, 53, 63, 1, 1] 1 (53, 63, 63)\n",
      "[1, 53, 63, 63, 1] 2 (63, 46, 63)\n",
      "ranks: [1, 53, 63, 63, 1]\n"
     ]
    }
   ],
   "source": [
    "x_init = copy.deepcopy(ground_truth)\n",
    "norm_ground_x_init = np.linalg.norm(x_init)\n",
    "x_init = x_init * (1./norm_ground_x_init)\n",
    "tf_ten_zeros = t3f.to_tt_tensor(ten_zeros, max_tt_rank=63)\n",
    "tf_ten_ones = t3f.to_tt_tensor(ten_ones, max_tt_rank=63)"
   ]
  },
  {
   "cell_type": "code",
   "execution_count": 7,
   "metadata": {},
   "outputs": [
    {
     "name": "stdout",
     "output_type": "stream",
     "text": [
      "[1, 53, 1, 1, 1] 0 (1, 53, 53)\n",
      "[1, 53, 63, 1, 1] 1 (53, 63, 63)\n",
      "[1, 53, 63, 63, 1] 2 (63, 46, 63)\n",
      "ranks: [1, 53, 63, 63, 1]\n",
      "[1, 53, 1, 1, 1] 0 (1, 53, 53)\n",
      "[1, 53, 63, 1, 1] 1 (53, 63, 63)\n",
      "[1, 53, 63, 63, 1] 2 (63, 46, 63)\n",
      "ranks: [1, 53, 63, 63, 1]\n"
     ]
    }
   ],
   "source": [
    "ground_truth_tf = t3f.to_tt_tensor(x_init, max_tt_rank=63)\n",
    "#tf_zeros = t3f.get_variable('tf_zeros', initializer=tf_ten_zeros, trainable=False)\n",
    "#tf_ones = t3f.get_variable('tf_ones', initializer=tf_ten_ones, trainable=False)\n",
    "X = t3f.get_variable('X', initializer=ground_truth_tf, trainable=False)\n",
    "L = t3f.get_variable('L', initializer=ground_truth_tf)\n",
    "s_init = init_random(x_init)\n",
    "s_init.fill(0)\n",
    "s_init_tf = t3f.to_tt_tensor(s_init, max_tt_rank=63)\n",
    "S = t3f.get_variable('S',initializer=s_init_tf)\n",
    "\n",
    "#Sold = t3f.get_variable('Sold', initializer=tf_ten_zeros)\n",
    "#G = t3f.get_variable('G', initializer=tf_ten_zeros)\n"
   ]
  },
  {
   "cell_type": "code",
   "execution_count": 8,
   "metadata": {},
   "outputs": [
    {
     "name": "stdout",
     "output_type": "stream",
     "text": [
      "A Tensor Train variable of shape (53, 63, 46, 144), TT-ranks: (1, 53, 63, 63, 1)\n"
     ]
    }
   ],
   "source": [
    "print S\n",
    "#Initialize Gradienst"
   ]
  },
  {
   "cell_type": "code",
   "execution_count": 9,
   "metadata": {},
   "outputs": [],
   "source": [
    "gradLt3f = X - S\n",
    "gradSt3f = X - L"
   ]
  },
  {
   "cell_type": "code",
   "execution_count": 10,
   "metadata": {},
   "outputs": [],
   "source": [
    "rimGradS = t3f.riemannian.project(gradSt3f,S)\n",
    "rimGradL = t3f.riemannian.project(gradLt3f,L)"
   ]
  },
  {
   "cell_type": "code",
   "execution_count": 11,
   "metadata": {},
   "outputs": [
    {
     "name": "stdout",
     "output_type": "stream",
     "text": [
      "Max_TT rank63\n",
      "[1, 53, 63, 63, 1]\n",
      "Max_TT rank63\n",
      "[1, 53, 63, 63, 1]\n"
     ]
    }
   ],
   "source": [
    "alpha = 0.01\n",
    "\n",
    "train_step_tensor_s = t3f.assign(S, t3f.round(S + alpha * rimGradS, max_tt_rank=63))\n",
    "train_step_tensor_l = t3f.assign(L, t3f.round(L + alpha * rimGradL, max_tt_rank=63))\n",
    "normGradS = t3f.frobenius_norm(rimGradS)\n",
    "normGradL = t3f.frobenius_norm(rimGradL)\n",
    "\n"
   ]
  },
  {
   "cell_type": "code",
   "execution_count": 12,
   "metadata": {},
   "outputs": [],
   "source": [
    "loss = 0.5 * t3f.frobenius_norm_squared(L + S - X)\n",
    "normL_S = t3f.frobenius_norm(L + S - X)"
   ]
  },
  {
   "cell_type": "code",
   "execution_count": 13,
   "metadata": {},
   "outputs": [],
   "source": [
    "def solution_stopping_criterion(ll,ss,xx):\n",
    "    return (np.linalg.norm(ll + ss - xx)**2)/(np.linalg.norm(xx)**2)"
   ]
  },
  {
   "cell_type": "code",
   "execution_count": 14,
   "metadata": {},
   "outputs": [],
   "source": [
    "def relative_convergence_error(solution, k):\n",
    "    return np.linalg.norm(solution[k] - solution[k-1])/np.linalg.norm(solution[k-1])"
   ]
  },
  {
   "cell_type": "code",
   "execution_count": 15,
   "metadata": {},
   "outputs": [],
   "source": [
    "solution_S = []\n",
    "solution_L = []\n",
    "solution_L_S = []\n",
    "\n",
    "cost_S = []\n",
    "cost_L = []"
   ]
  },
  {
   "cell_type": "code",
   "execution_count": 16,
   "metadata": {},
   "outputs": [],
   "source": [
    "sess = tf.Session()\n",
    "sess.run(tf.global_variables_initializer())"
   ]
  },
  {
   "cell_type": "code",
   "execution_count": 17,
   "metadata": {},
   "outputs": [
    {
     "name": "stdout",
     "output_type": "stream",
     "text": [
      "loss: 2.7200735e-11; norm_gradL: 1.0001802; norm_gradS: 0.0031622776\n",
      "Residual Norm: 0.0031622862\n",
      "Solution Tolerance: 0.9999773615700057\n",
      "loss: 4.9448794e-05; norm_gradL: 1.0002234; norm_gradS: 0.007653216\n",
      "Residual Norm: 0.0104354005\n"
     ]
    },
    {
     "name": "stderr",
     "output_type": "stream",
     "text": [
      "/Library/Frameworks/Python.framework/Versions/2.7/lib/python2.7/site-packages/ipykernel_launcher.py:2: RuntimeWarning: divide by zero encountered in float_scalars\n",
      "  \n"
     ]
    },
    {
     "name": "stdout",
     "output_type": "stream",
     "text": [
      "S Relative Error: inf; L Relative Error: 0.010000326\n",
      "Total Solution Relative Error: 2.2999544\n",
      "Solution Tolerance: 0.9999773615700057\n",
      "loss: 0.0001949825; norm_gradL: 1.0004236; norm_gradS: 0.020252444\n",
      "Residual Norm: 0.019999124\n",
      "S Relative Error: 360616.8; L Relative Error: 0.009902432\n",
      "Total Solution Relative Error: 0.9164692\n",
      "Solution Tolerance: 0.9999773615700057\n",
      "loss: 0.00043371372; norm_gradL: 1.0007232; norm_gradS: 0.030174952\n",
      "Residual Norm: 0.029621402\n",
      "S Relative Error: 2.8704028; L Relative Error: 0.009806969\n",
      "Total Solution Relative Error: 0.48113495\n",
      "Solution Tolerance: 0.9999773615700057\n",
      "loss: 0.0007628705; norm_gradL: 1.0011228; norm_gradS: 0.04014111\n",
      "Residual Norm: 0.03918853\n",
      "S Relative Error: 1.1834428; L Relative Error: 0.0097147515\n",
      "Total Solution Relative Error: 0.32298028\n",
      "Solution Tolerance: 0.9999773615700057\n",
      "loss: 0.0011794352; norm_gradL: 1.0016232; norm_gradS: 0.050128065\n",
      "Residual Norm: 0.048671044\n",
      "S Relative Error: 0.7263008; L Relative Error: 0.009625344\n",
      "Total Solution Relative Error: 0.24197167\n",
      "Solution Tolerance: 0.9999773615700057\n",
      "loss: 0.001681142; norm_gradL: 1.0022241; norm_gradS: 0.060127705\n",
      "Residual Norm: 0.05807137\n",
      "S Relative Error: 0.526484; L Relative Error: 0.009538129\n",
      "Total Solution Relative Error: 0.19314003\n",
      "Solution Tolerance: 0.9999773615700057\n",
      "loss: 0.0022651595; norm_gradL: 1.0029237; norm_gradS: 0.07013855\n",
      "Residual Norm: 0.06738189\n",
      "S Relative Error: 0.41411877; L Relative Error: 0.009453996\n",
      "Total Solution Relative Error: 0.16032887\n",
      "Solution Tolerance: 0.9999773615700057\n",
      "loss: 0.002928809; norm_gradL: 1.0037248; norm_gradS: 0.08015933\n",
      "Residual Norm: 0.07660038\n",
      "S Relative Error: 0.34176615; L Relative Error: 0.009371837\n",
      "Total Solution Relative Error: 0.13680963\n",
      "Solution Tolerance: 0.9999773615700057\n",
      "loss: 0.0036698042; norm_gradL: 1.0046259; norm_gradS: 0.090189606\n",
      "Residual Norm: 0.08572986\n",
      "S Relative Error: 0.2911673; L Relative Error: 0.009292188\n",
      "Total Solution Relative Error: 0.11918321\n",
      "Solution Tolerance: 0.9999773615700057\n",
      "loss: 0.0044856174; norm_gradL: 1.0056283; norm_gradS: 0.10023066\n",
      "Residual Norm: 0.09476937\n",
      "S Relative Error: 0.25378743; L Relative Error: 0.0092147775\n",
      "Total Solution Relative Error: 0.10544184\n",
      "Solution Tolerance: 0.9999773615700057\n",
      "loss: 0.0053736465; norm_gradL: 1.0067307; norm_gradS: 0.11028309\n",
      "Residual Norm: 0.10371737\n",
      "S Relative Error: 0.22497939; L Relative Error: 0.00914005\n",
      "Total Solution Relative Error: 0.09441867\n",
      "Solution Tolerance: 0.9999773615700057\n",
      "loss: 0.006331996; norm_gradL: 1.0079334; norm_gradS: 0.12034635\n",
      "Residual Norm: 0.112578824\n",
      "S Relative Error: 0.20208512; L Relative Error: 0.009066809\n",
      "Total Solution Relative Error: 0.08543846\n",
      "Solution Tolerance: 0.9999773615700057\n",
      "loss: 0.0073579787; norm_gradL: 1.0092379; norm_gradS: 0.13042217\n",
      "Residual Norm: 0.12135056\n",
      "S Relative Error: 0.18348105; L Relative Error: 0.008995988\n",
      "Total Solution Relative Error: 0.07791636\n",
      "Solution Tolerance: 0.9999773615700057\n",
      "loss: 0.008449627; norm_gradL: 1.010642; norm_gradS: 0.14051212\n",
      "Residual Norm: 0.1300356\n",
      "S Relative Error: 0.16801862; L Relative Error: 0.00892749\n",
      "Total Solution Relative Error: 0.07156982\n",
      "Solution Tolerance: 0.9999773615700057\n",
      "loss: 0.009604702; norm_gradL: 1.0121479; norm_gradS: 0.15061618\n",
      "Residual Norm: 0.13863407\n",
      "S Relative Error: 0.15498619; L Relative Error: 0.008860545\n",
      "Total Solution Relative Error: 0.06612402\n",
      "Solution Tolerance: 0.9999773615700057\n",
      "loss: 0.010821001; norm_gradL: 1.0137551; norm_gradS: 0.16073596\n",
      "Residual Norm: 0.1471462\n",
      "S Relative Error: 0.14383414; L Relative Error: 0.008796109\n",
      "Total Solution Relative Error: 0.061399944\n",
      "Solution Tolerance: 0.9999773615700057\n",
      "loss: 0.012096877; norm_gradL: 1.0154636; norm_gradS: 0.17087138\n",
      "Residual Norm: 0.15557556\n",
      "S Relative Error: 0.13420981; L Relative Error: 0.008732769\n",
      "Total Solution Relative Error: 0.057285637\n",
      "Solution Tolerance: 0.9999773615700057\n",
      "loss: 0.013429512; norm_gradL: 1.017273; norm_gradS: 0.18102421\n",
      "Residual Norm: 0.16391774\n",
      "S Relative Error: 0.1257916; L Relative Error: 0.0086718\n",
      "Total Solution Relative Error: 0.053621385\n",
      "Solution Tolerance: 0.9999773615700057\n",
      "loss: 0.014817303; norm_gradL: 1.0191851; norm_gradS: 0.19119526\n",
      "Residual Norm: 0.1721761\n",
      "S Relative Error: 0.11837466; L Relative Error: 0.008612652\n",
      "Total Solution Relative Error: 0.050381113\n",
      "Solution Tolerance: 0.9999773615700057\n",
      "loss: 0.01625877; norm_gradL: 1.021199; norm_gradS: 0.20138533\n",
      "Residual Norm: 0.18035392\n",
      "S Relative Error: 0.111804485; L Relative Error: 0.00855491\n",
      "Total Solution Relative Error: 0.047496907\n",
      "Solution Tolerance: 0.9999773615700057\n",
      "loss: 0.017751474; norm_gradL: 1.0233147; norm_gradS: 0.21159673\n",
      "Residual Norm: 0.18844879\n",
      "S Relative Error: 0.10591197; L Relative Error: 0.0084995795\n",
      "Total Solution Relative Error: 0.044883203\n",
      "Solution Tolerance: 0.9999773615700057\n",
      "loss: 0.019293716; norm_gradL: 1.0255328; norm_gradS: 0.22182895\n",
      "Residual Norm: 0.19646229\n",
      "S Relative Error: 0.10062241; L Relative Error: 0.008445416\n",
      "Total Solution Relative Error: 0.0425235\n",
      "Solution Tolerance: 0.9999773615700057\n",
      "loss: 0.020883674; norm_gradL: 1.0278536; norm_gradS: 0.23208341\n",
      "Residual Norm: 0.20439507\n",
      "S Relative Error: 0.09585229; L Relative Error: 0.00839267\n",
      "Total Solution Relative Error: 0.040378142\n",
      "Solution Tolerance: 0.9999773615700057\n",
      "loss: 0.022520265; norm_gradL: 1.0302769; norm_gradS: 0.24236098\n",
      "Residual Norm: 0.2122511\n",
      "S Relative Error: 0.091512464; L Relative Error: 0.008341778\n",
      "Total Solution Relative Error: 0.038435496\n",
      "Solution Tolerance: 0.9999773615700057\n",
      "loss: 0.024200803; norm_gradL: 1.0328037; norm_gradS: 0.25266305\n",
      "Residual Norm: 0.22002637\n",
      "S Relative Error: 0.08755231; L Relative Error: 0.00829227\n",
      "Total Solution Relative Error: 0.036632445\n",
      "Solution Tolerance: 0.9999773615700057\n",
      "loss: 0.025924167; norm_gradL: 1.0354327; norm_gradS: 0.26299056\n",
      "Residual Norm: 0.22772424\n",
      "S Relative Error: 0.083925195; L Relative Error: 0.008243996\n",
      "Total Solution Relative Error: 0.0349861\n",
      "Solution Tolerance: 0.9999773615700057\n",
      "loss: 0.027688794; norm_gradL: 1.038166; norm_gradS: 0.27334452\n",
      "Residual Norm: 0.23534568\n",
      "S Relative Error: 0.080599986; L Relative Error: 0.008197576\n",
      "Total Solution Relative Error: 0.033467837\n",
      "Solution Tolerance: 0.9999773615700057\n",
      "loss: 0.029493032; norm_gradL: 1.0410025; norm_gradS: 0.28372595\n",
      "Residual Norm: 0.24289106\n",
      "S Relative Error: 0.077525325; L Relative Error: 0.008152385\n",
      "Total Solution Relative Error: 0.032060847\n",
      "Solution Tolerance: 0.9999773615700057\n",
      "loss: 0.03133444; norm_gradL: 1.043944; norm_gradS: 0.2941352\n",
      "Residual Norm: 0.2503575\n",
      "S Relative Error: 0.074673034; L Relative Error: 0.008108262\n",
      "Total Solution Relative Error: 0.030739915\n",
      "Solution Tolerance: 0.9999773615700057\n",
      "loss: 0.03321297; norm_gradL: 1.0469897; norm_gradS: 0.3045745\n",
      "Residual Norm: 0.2577517\n",
      "S Relative Error: 0.0720313; L Relative Error: 0.0080660535\n",
      "Total Solution Relative Error: 0.029534543\n",
      "Solution Tolerance: 0.9999773615700057\n",
      "loss: 0.035126437; norm_gradL: 1.05014; norm_gradS: 0.31504378\n",
      "Residual Norm: 0.26507145\n",
      "S Relative Error: 0.06957507; L Relative Error: 0.008024725\n",
      "Total Solution Relative Error: 0.028398449\n",
      "Solution Tolerance: 0.9999773615700057\n",
      "loss: 0.037073452; norm_gradL: 1.053395; norm_gradS: 0.32554463\n",
      "Residual Norm: 0.27231765\n",
      "S Relative Error: 0.06729124; L Relative Error: 0.0079848105\n",
      "Total Solution Relative Error: 0.027336767\n",
      "Solution Tolerance: 0.9999773615700057\n",
      "loss: 0.03905193; norm_gradL: 1.0567561; norm_gradS: 0.3360784\n",
      "Residual Norm: 0.27948856\n",
      "S Relative Error: 0.06515088; L Relative Error: 0.007946077\n",
      "Total Solution Relative Error: 0.026332907\n",
      "Solution Tolerance: 0.9999773615700057\n",
      "loss: 0.0410621; norm_gradL: 1.0602225; norm_gradS: 0.34664527\n",
      "Residual Norm: 0.28659067\n",
      "S Relative Error: 0.06314439; L Relative Error: 0.007908378\n",
      "Total Solution Relative Error: 0.025411066\n",
      "Solution Tolerance: 0.9999773615700057\n",
      "loss: 0.04310152; norm_gradL: 1.0637954; norm_gradS: 0.35724705\n",
      "Residual Norm: 0.29362056\n",
      "S Relative Error: 0.061261036; L Relative Error: 0.007872421\n",
      "Total Solution Relative Error: 0.024529379\n",
      "Solution Tolerance: 0.9999773615700057\n",
      "loss: 0.045169313; norm_gradL: 1.0674732; norm_gradS: 0.36788458\n",
      "Residual Norm: 0.30058047\n",
      "S Relative Error: 0.059489403; L Relative Error: 0.007837075\n",
      "Total Solution Relative Error: 0.023703773\n",
      "Solution Tolerance: 0.9999773615700057\n"
     ]
    },
    {
     "name": "stdout",
     "output_type": "stream",
     "text": [
      "loss: 0.047263045; norm_gradL: 1.0712601; norm_gradS: 0.37855873\n",
      "Residual Norm: 0.30746722\n",
      "S Relative Error: 0.057825033; L Relative Error: 0.007802842\n",
      "Total Solution Relative Error: 0.022911504\n",
      "Solution Tolerance: 0.9999773615700057\n",
      "loss: 0.049383197; norm_gradL: 1.0751519; norm_gradS: 0.38927135\n",
      "Residual Norm: 0.31428713\n",
      "S Relative Error: 0.056251783; L Relative Error: 0.007770228\n",
      "Total Solution Relative Error: 0.022180913\n",
      "Solution Tolerance: 0.9999773615700057\n",
      "loss: 0.05152815; norm_gradL: 1.0791525; norm_gradS: 0.4000231\n",
      "Residual Norm: 0.3210394\n",
      "S Relative Error: 0.05476344; L Relative Error: 0.007738236\n",
      "Total Solution Relative Error: 0.021484438\n",
      "Solution Tolerance: 0.9999773615700057\n",
      "loss: 0.053696085; norm_gradL: 1.0832598; norm_gradS: 0.41081458\n",
      "Residual Norm: 0.3277227\n",
      "S Relative Error: 0.053349685; L Relative Error: 0.0077074417\n",
      "Total Solution Relative Error: 0.020817662\n",
      "Solution Tolerance: 0.9999773615700057\n",
      "loss: 0.055885036; norm_gradL: 1.0874776; norm_gradS: 0.4216477\n",
      "Residual Norm: 0.33433527\n",
      "S Relative Error: 0.052012425; L Relative Error: 0.00767788\n",
      "Total Solution Relative Error: 0.02017733\n",
      "Solution Tolerance: 0.9999773615700057\n",
      "loss: 0.058097284; norm_gradL: 1.0918014; norm_gradS: 0.43252262\n",
      "Residual Norm: 0.3408879\n",
      "S Relative Error: 0.05074348; L Relative Error: 0.0076493206\n",
      "Total Solution Relative Error: 0.019599\n",
      "Solution Tolerance: 0.9999773615700057\n",
      "loss: 0.06032836; norm_gradL: 1.0962356; norm_gradS: 0.44344074\n",
      "Residual Norm: 0.34737116\n",
      "S Relative Error: 0.049537793; L Relative Error: 0.0076215053\n",
      "Total Solution Relative Error: 0.019018736\n",
      "Solution Tolerance: 0.9999773615700057\n",
      "loss: 0.06257918; norm_gradL: 1.1007794; norm_gradS: 0.45440385\n",
      "Residual Norm: 0.3537914\n",
      "S Relative Error: 0.04839546; L Relative Error: 0.007594772\n",
      "Total Solution Relative Error: 0.01848232\n",
      "Solution Tolerance: 0.9999773615700057\n",
      "loss: 0.06484672; norm_gradL: 1.1054338; norm_gradS: 0.46541223\n",
      "Residual Norm: 0.36014363\n",
      "S Relative Error: 0.047302697; L Relative Error: 0.0075689526\n",
      "Total Solution Relative Error: 0.017954778\n",
      "Solution Tolerance: 0.9999773615700057\n",
      "loss: 0.06713045; norm_gradL: 1.1101978; norm_gradS: 0.47646746\n",
      "Residual Norm: 0.36642992\n",
      "S Relative Error: 0.04626116; L Relative Error: 0.0075438265\n",
      "Total Solution Relative Error: 0.017454961\n",
      "Solution Tolerance: 0.9999773615700057\n",
      "loss: 0.069431655; norm_gradL: 1.1150752; norm_gradS: 0.48756975\n",
      "Residual Norm: 0.3726571\n",
      "S Relative Error: 0.045265626; L Relative Error: 0.0075193513\n",
      "Total Solution Relative Error: 0.01699415\n",
      "Solution Tolerance: 0.9999773615700057\n",
      "loss: 0.07174903; norm_gradL: 1.120061; norm_gradS: 0.49872103\n",
      "Residual Norm: 0.3788246\n",
      "S Relative Error: 0.044313546; L Relative Error: 0.0074956594\n",
      "Total Solution Relative Error: 0.016550072\n",
      "Solution Tolerance: 0.9999773615700057\n",
      "loss: 0.074078366; norm_gradL: 1.1251607; norm_gradS: 0.5099214\n",
      "Residual Norm: 0.38492432\n",
      "S Relative Error: 0.043403562; L Relative Error: 0.007473225\n",
      "Total Solution Relative Error: 0.01610173\n",
      "Solution Tolerance: 0.9999773615700057\n",
      "loss: 0.07642111; norm_gradL: 1.1303715; norm_gradS: 0.5211728\n",
      "Residual Norm: 0.3909632\n",
      "S Relative Error: 0.042531956; L Relative Error: 0.0074514244\n",
      "Total Solution Relative Error: 0.015688471\n",
      "Solution Tolerance: 0.9999773615700057\n",
      "loss: 0.07877658; norm_gradL: 1.1356964; norm_gradS: 0.5324762\n",
      "Residual Norm: 0.39694226\n",
      "S Relative Error: 0.04169782; L Relative Error: 0.007430169\n",
      "Total Solution Relative Error: 0.015293156\n",
      "Solution Tolerance: 0.9999773615700057\n",
      "loss: 0.0811436; norm_gradL: 1.1411363; norm_gradS: 0.54383343\n",
      "Residual Norm: 0.40286127\n",
      "S Relative Error: 0.040899698; L Relative Error: 0.0074098627\n",
      "Total Solution Relative Error: 0.014911513\n",
      "Solution Tolerance: 0.9999773615700057\n",
      "loss: 0.08352162; norm_gradL: 1.1466872; norm_gradS: 0.5552439\n",
      "Residual Norm: 0.40872148\n",
      "S Relative Error: 0.04013134; L Relative Error: 0.0073907254\n",
      "Total Solution Relative Error: 0.014546471\n",
      "Solution Tolerance: 0.9999773615700057\n",
      "loss: 0.085907385; norm_gradL: 1.1523539; norm_gradS: 0.56671\n",
      "Residual Norm: 0.41451752\n",
      "S Relative Error: 0.039390564; L Relative Error: 0.00737201\n",
      "Total Solution Relative Error: 0.014180916\n",
      "Solution Tolerance: 0.9999773615700057\n",
      "loss: 0.08830342; norm_gradL: 1.158137; norm_gradS: 0.5782331\n",
      "Residual Norm: 0.42025805\n",
      "S Relative Error: 0.038678713; L Relative Error: 0.0073540467\n",
      "Total Solution Relative Error: 0.013848687\n",
      "Solution Tolerance: 0.9999773615700057\n",
      "loss: 0.09070875; norm_gradL: 1.1640351; norm_gradS: 0.58981407\n",
      "Residual Norm: 0.42594308\n",
      "S Relative Error: 0.03799455; L Relative Error: 0.0073375246\n",
      "Total Solution Relative Error: 0.013527478\n",
      "Solution Tolerance: 0.9999773615700057\n",
      "loss: 0.09312016; norm_gradL: 1.1700507; norm_gradS: 0.60145485\n",
      "Residual Norm: 0.43156728\n",
      "S Relative Error: 0.03733647; L Relative Error: 0.007320885\n",
      "Total Solution Relative Error: 0.013204123\n",
      "Solution Tolerance: 0.9999773615700057\n",
      "loss: 0.095539235; norm_gradL: 1.1761805; norm_gradS: 0.6131546\n",
      "Residual Norm: 0.43713668\n",
      "S Relative Error: 0.03670285; L Relative Error: 0.0073050647\n",
      "Total Solution Relative Error: 0.012905053\n",
      "Solution Tolerance: 0.9999773615700057\n",
      "loss: 0.097963884; norm_gradL: 1.1824304; norm_gradS: 0.6249163\n",
      "Residual Norm: 0.4426486\n",
      "S Relative Error: 0.036091212; L Relative Error: 0.0072904304\n",
      "Total Solution Relative Error: 0.012609122\n",
      "Solution Tolerance: 0.9999773615700057\n",
      "loss: 0.1003935; norm_gradL: 1.1887965; norm_gradS: 0.6367404\n",
      "Residual Norm: 0.4481038\n",
      "S Relative Error: 0.03550226; L Relative Error: 0.007276061\n",
      "Total Solution Relative Error: 0.012323988\n",
      "Solution Tolerance: 0.9999773615700057\n",
      "loss: 0.10282963; norm_gradL: 1.1952822; norm_gradS: 0.6486284\n",
      "Residual Norm: 0.45350772\n",
      "S Relative Error: 0.03493658; L Relative Error: 0.0072625196\n",
      "Total Solution Relative Error: 0.012059563\n",
      "Solution Tolerance: 0.9999773615700057\n",
      "loss: 0.105270445; norm_gradL: 1.2018905; norm_gradS: 0.6605816\n",
      "Residual Norm: 0.45885825\n",
      "S Relative Error: 0.034388006; L Relative Error: 0.0072494214\n",
      "Total Solution Relative Error: 0.0117981015\n",
      "Solution Tolerance: 0.9999773615700057\n",
      "loss: 0.107712336; norm_gradL: 1.208617; norm_gradS: 0.6726009\n",
      "Residual Norm: 0.46414942\n",
      "S Relative Error: 0.033857286; L Relative Error: 0.007236921\n",
      "Total Solution Relative Error: 0.011531151\n",
      "Solution Tolerance: 0.9999773615700057\n",
      "loss: 0.11015687; norm_gradL: 1.2154621; norm_gradS: 0.68468666\n",
      "Residual Norm: 0.46938655\n",
      "S Relative Error: 0.03334498; L Relative Error: 0.00722524\n",
      "Total Solution Relative Error: 0.01128329\n",
      "Solution Tolerance: 0.9999773615700057\n",
      "loss: 0.11260598; norm_gradL: 1.2224302; norm_gradS: 0.6968413\n",
      "Residual Norm: 0.47457555\n",
      "S Relative Error: 0.03284852; L Relative Error: 0.007213844\n",
      "Total Solution Relative Error: 0.011054858\n",
      "Solution Tolerance: 0.9999773615700057\n",
      "loss: 0.11505552; norm_gradL: 1.2295207; norm_gradS: 0.70906514\n",
      "Residual Norm: 0.47970933\n",
      "S Relative Error: 0.032368455; L Relative Error: 0.007203798\n",
      "Total Solution Relative Error: 0.01081762\n",
      "Solution Tolerance: 0.9999773615700057\n",
      "loss: 0.117505655; norm_gradL: 1.2367342; norm_gradS: 0.7213604\n",
      "Residual Norm: 0.48478997\n",
      "S Relative Error: 0.031903103; L Relative Error: 0.007193088\n",
      "Total Solution Relative Error: 0.010591081\n",
      "Solution Tolerance: 0.9999773615700057\n",
      "loss: 0.11995653; norm_gradL: 1.244072; norm_gradS: 0.7337289\n",
      "Residual Norm: 0.4898194\n",
      "S Relative Error: 0.031452756; L Relative Error: 0.0071840263\n",
      "Total Solution Relative Error: 0.010374472\n",
      "Solution Tolerance: 0.9999773615700057\n",
      "loss: 0.12240812; norm_gradL: 1.2515349; norm_gradS: 0.7461684\n",
      "Residual Norm: 0.4947992\n",
      "S Relative Error: 0.03101607; L Relative Error: 0.0071747527\n",
      "Total Solution Relative Error: 0.010166582\n",
      "Solution Tolerance: 0.9999773615700057\n",
      "loss: 0.12485921; norm_gradL: 1.2591199; norm_gradS: 0.75868404\n",
      "Residual Norm: 0.49972835\n",
      "S Relative Error: 0.030593332; L Relative Error: 0.0071666506\n",
      "Total Solution Relative Error: 0.00996193\n",
      "Solution Tolerance: 0.9999773615700057\n",
      "loss: 0.12730807; norm_gradL: 1.2668333; norm_gradS: 0.7712759\n",
      "Residual Norm: 0.50460494\n",
      "S Relative Error: 0.03018485; L Relative Error: 0.0071586976\n",
      "Total Solution Relative Error: 0.00975847\n",
      "Solution Tolerance: 0.9999773615700057\n",
      "loss: 0.12975606; norm_gradL: 1.2746729; norm_gradS: 0.7839444\n",
      "Residual Norm: 0.50943315\n"
     ]
    },
    {
     "name": "stdout",
     "output_type": "stream",
     "text": [
      "S Relative Error: 0.0297873; L Relative Error: 0.007151392\n",
      "Total Solution Relative Error: 0.009568307\n",
      "Solution Tolerance: 0.9999773615700057\n",
      "loss: 0.1322043; norm_gradL: 1.2826406; norm_gradS: 0.7966913\n",
      "Residual Norm: 0.5142165\n",
      "S Relative Error: 0.029400218; L Relative Error: 0.0071445615\n",
      "Total Solution Relative Error: 0.009389519\n",
      "Solution Tolerance: 0.9999773615700057\n",
      "loss: 0.13464898; norm_gradL: 1.2907361; norm_gradS: 0.8095177\n",
      "Residual Norm: 0.5189489\n",
      "S Relative Error: 0.029024627; L Relative Error: 0.007138185\n",
      "Total Solution Relative Error: 0.009203186\n",
      "Solution Tolerance: 0.9999773615700057\n",
      "loss: 0.13708898; norm_gradL: 1.2989612; norm_gradS: 0.82242465\n",
      "Residual Norm: 0.5236296\n",
      "S Relative Error: 0.028658833; L Relative Error: 0.007131946\n",
      "Total Solution Relative Error: 0.009019565\n",
      "Solution Tolerance: 0.9999773615700057\n",
      "loss: 0.13952667; norm_gradL: 1.3073149; norm_gradS: 0.8354139\n",
      "Residual Norm: 0.52826446\n",
      "S Relative Error: 0.028304692; L Relative Error: 0.0071269753\n",
      "Total Solution Relative Error: 0.008851404\n",
      "Solution Tolerance: 0.9999773615700057\n",
      "loss: 0.1419626; norm_gradL: 1.3157983; norm_gradS: 0.84848714\n",
      "Residual Norm: 0.53285575\n",
      "S Relative Error: 0.027959181; L Relative Error: 0.007121771\n",
      "Total Solution Relative Error: 0.008691264\n",
      "Solution Tolerance: 0.9999773615700057\n",
      "loss: 0.14439335; norm_gradL: 1.3244156; norm_gradS: 0.8616462\n",
      "Residual Norm: 0.5373981\n",
      "S Relative Error: 0.027623923; L Relative Error: 0.0071175043\n",
      "Total Solution Relative Error: 0.008524541\n",
      "Solution Tolerance: 0.9999773615700057\n",
      "loss: 0.14681895; norm_gradL: 1.3331642; norm_gradS: 0.8748908\n",
      "Residual Norm: 0.5418929\n",
      "S Relative Error: 0.027298622; L Relative Error: 0.0071138814\n",
      "Total Solution Relative Error: 0.008363979\n",
      "Solution Tolerance: 0.9999773615700057\n",
      "loss: 0.14923851; norm_gradL: 1.3420463; norm_gradS: 0.88822335\n",
      "Residual Norm: 0.5463397\n",
      "S Relative Error: 0.026981201; L Relative Error: 0.007110032\n",
      "Total Solution Relative Error: 0.008206058\n",
      "Solution Tolerance: 0.9999773615700057\n",
      "loss: 0.15165508; norm_gradL: 1.3510623; norm_gradS: 0.90164316\n",
      "Residual Norm: 0.5507451\n",
      "S Relative Error: 0.026672786; L Relative Error: 0.0071068574\n",
      "Total Solution Relative Error: 0.008063553\n",
      "Solution Tolerance: 0.9999773615700057\n",
      "loss: 0.1540668; norm_gradL: 1.3602134; norm_gradS: 0.9151555\n",
      "Residual Norm: 0.5551069\n",
      "S Relative Error: 0.026372094; L Relative Error: 0.0071042036\n",
      "Total Solution Relative Error: 0.007919722\n",
      "Solution Tolerance: 0.9999773615700057\n",
      "loss: 0.15647233; norm_gradL: 1.369502; norm_gradS: 0.9287581\n",
      "Residual Norm: 0.5594235\n",
      "S Relative Error: 0.02607962; L Relative Error: 0.007101975\n",
      "Total Solution Relative Error: 0.0077762106\n",
      "Solution Tolerance: 0.9999773615700057\n",
      "loss: 0.15886931; norm_gradL: 1.3789268; norm_gradS: 0.9424533\n",
      "Residual Norm: 0.563692\n",
      "S Relative Error: 0.025796251; L Relative Error: 0.007099777\n",
      "Total Solution Relative Error: 0.007630118\n",
      "Solution Tolerance: 0.9999773615700057\n",
      "loss: 0.16126059; norm_gradL: 1.3884885; norm_gradS: 0.95624304\n",
      "Residual Norm: 0.5679183\n",
      "S Relative Error: 0.025518917; L Relative Error: 0.0070981295\n",
      "Total Solution Relative Error: 0.007497582\n",
      "Solution Tolerance: 0.9999773615700057\n",
      "loss: 0.16364513; norm_gradL: 1.3981907; norm_gradS: 0.97012824\n",
      "Residual Norm: 0.57210165\n",
      "S Relative Error: 0.025248; L Relative Error: 0.0070971153\n",
      "Total Solution Relative Error: 0.0073661157\n",
      "Solution Tolerance: 0.9999773615700057\n",
      "loss: 0.16602342; norm_gradL: 1.4080317; norm_gradS: 0.9841103\n",
      "Residual Norm: 0.57624376\n",
      "S Relative Error: 0.024984125; L Relative Error: 0.00709644\n",
      "Total Solution Relative Error: 0.0072401566\n",
      "Solution Tolerance: 0.9999773615700057\n",
      "loss: 0.16839471; norm_gradL: 1.4180125; norm_gradS: 0.9981917\n",
      "Residual Norm: 0.58034426\n",
      "S Relative Error: 0.024726277; L Relative Error: 0.0070960834\n",
      "Total Solution Relative Error: 0.007115915\n",
      "Solution Tolerance: 0.9999773615700057\n",
      "loss: 0.17075472; norm_gradL: 1.4281343; norm_gradS: 1.0123701\n",
      "Residual Norm: 0.58439666\n",
      "S Relative Error: 0.024475252; L Relative Error: 0.007095922\n",
      "Total Solution Relative Error: 0.006982753\n",
      "Solution Tolerance: 0.9999773615700057\n",
      "loss: 0.173109; norm_gradL: 1.4384029; norm_gradS: 1.0266525\n",
      "Residual Norm: 0.58841145\n",
      "S Relative Error: 0.024229636; L Relative Error: 0.0070967763\n",
      "Total Solution Relative Error: 0.0068699745\n",
      "Solution Tolerance: 0.9999773615700057\n",
      "loss: 0.17545466; norm_gradL: 1.4488119; norm_gradS: 1.0410371\n",
      "Residual Norm: 0.59238446\n",
      "S Relative Error: 0.023990093; L Relative Error: 0.0070971106\n",
      "Total Solution Relative Error: 0.00675209\n",
      "Solution Tolerance: 0.9999773615700057\n",
      "loss: 0.17778994; norm_gradL: 1.4593688; norm_gradS: 1.0555234\n",
      "Residual Norm: 0.5963136\n",
      "S Relative Error: 0.023756187; L Relative Error: 0.007097806\n",
      "Total Solution Relative Error: 0.0066327504\n",
      "Solution Tolerance: 0.9999773615700057\n",
      "loss: 0.18012045; norm_gradL: 1.4700705; norm_gradS: 1.0701181\n",
      "Residual Norm: 0.60020906\n",
      "S Relative Error: 0.023528181; L Relative Error: 0.0070997193\n",
      "Total Solution Relative Error: 0.006532572\n",
      "Solution Tolerance: 0.9999773615700057\n",
      "loss: 0.18243682; norm_gradL: 1.4809167; norm_gradS: 1.0848186\n",
      "Residual Norm: 0.604056\n",
      "S Relative Error: 0.023304926; L Relative Error: 0.0071012285\n",
      "Total Solution Relative Error: 0.006409339\n",
      "Solution Tolerance: 0.9999773615700057\n",
      "loss: 0.18474858; norm_gradL: 1.4919147; norm_gradS: 1.0996275\n",
      "Residual Norm: 0.607871\n",
      "S Relative Error: 0.02308689; L Relative Error: 0.0071031423\n",
      "Total Solution Relative Error: 0.006315632\n",
      "Solution Tolerance: 0.9999773615700057\n",
      "loss: 0.18705016; norm_gradL: 1.5030595; norm_gradS: 1.1145462\n",
      "Residual Norm: 0.6116456\n",
      "S Relative Error: 0.02287374; L Relative Error: 0.007105496\n",
      "Total Solution Relative Error: 0.0062095136\n",
      "Solution Tolerance: 0.9999773615700057\n",
      "loss: 0.18934113; norm_gradL: 1.5143542; norm_gradS: 1.1295766\n",
      "Residual Norm: 0.61537975\n",
      "S Relative Error: 0.022664405; L Relative Error: 0.007107974\n",
      "Total Solution Relative Error: 0.0061051226\n",
      "Solution Tolerance: 0.9999773615700057\n",
      "loss: 0.19162382; norm_gradL: 1.5258031; norm_gradS: 1.1447196\n",
      "Residual Norm: 0.6190781\n",
      "S Relative Error: 0.022461398; L Relative Error: 0.00711107\n",
      "Total Solution Relative Error: 0.0060098646\n",
      "Solution Tolerance: 0.9999773615700057\n",
      "loss: 0.19389288; norm_gradL: 1.5374031; norm_gradS: 1.1599777\n",
      "Residual Norm: 0.6227325\n",
      "S Relative Error: 0.0222628; L Relative Error: 0.007114206\n",
      "Total Solution Relative Error: 0.0059030037\n",
      "Solution Tolerance: 0.9999773615700057\n"
     ]
    }
   ],
   "source": [
    "for i in range (10):\n",
    "    S_val, norm_gradS_val,loss_val, L_val, norm_gradL_val, normL_S_val,_,_ = sess.run([t3f.full(S), normGradS, loss, t3f.full(L), normGradL, normL_S, train_step_tensor_s.op, train_step_tensor_l.op])\n",
    "    #loss_val, L_val, norm_gradL_val, normL_S_val,_ = sess.run([loss, t3f.full(L), normGradL, normL_S, train_step_tensor_l.op])\n",
    "    print \"Iteration#: \" + str(i) + \"; loss: \" + str(loss_val) + \"; norm_gradL: \" + str(norm_gradL_val) + \"; norm_gradS: \" + str(norm_gradS_val)\n",
    "    print \"Residual Norm: \" + str(normL_S_val)\n",
    "    solution_S.append(S_val)\n",
    "    solution_L.append(L_val)\n",
    "    solution_L_S.append(normL_S_val)\n",
    "    \n",
    "    solution_tolerance = solution_stopping_criterion(L_val, S_val, ground_truth)\n",
    "    \n",
    "    if i >= 1:\n",
    "        cost_s_sol = relative_convergence_error(solution_S, i)\n",
    "        cost_l_sol = relative_convergence_error(solution_L, i)\n",
    "        cost_ls_sol = relative_convergence_error(solution_L_S, i)\n",
    "        print \"S Relative Error: \" + str(cost_s_sol) + \"; L Relative Error: \" + str(cost_l_sol)\n",
    "        print \"Total Solution Relative Error: \" + str(cost_ls_sol)\n",
    "        \n",
    "    print \"Solution Tolerance: \" + str(solution_tolerance)\n",
    "        \n",
    "    "
   ]
  },
  {
   "cell_type": "code",
   "execution_count": 18,
   "metadata": {},
   "outputs": [],
   "source": [
    "#"
   ]
  },
  {
   "cell_type": "code",
   "execution_count": 28,
   "metadata": {},
   "outputs": [
    {
     "data": {
      "image/png": "[encoded data removed]",
      "text/plain": [
       "<matplotlib.figure.Figure at 0x188d3d690>"
      ]
     },
     "metadata": {},
     "output_type": "display_data"
    }
   ],
   "source": [
    "x_hat_img = mt.reconstruct_image_affine(x_true_org, x_init)\n",
    "x_hat = image.index_img(x_hat_img,1)\n",
    "recovered_image = plotting.plot_epi(x_hat, bg_img=None,black_bg=True, cmap='jet', cut_coords=None)"
   ]
  },
  {
   "cell_type": "code",
   "execution_count": 26,
   "metadata": {},
   "outputs": [
    {
     "data": {
      "image/png": "[encoded data removed]",
      "text/plain": [
       "<matplotlib.figure.Figure at 0x3a8aaaa10>"
      ]
     },
     "metadata": {},
     "output_type": "display_data"
    }
   ],
   "source": [
    "x_hat_img = mt.reconstruct_image_affine(x_true_org, L_val)\n",
    "x_hat = image.index_img(x_hat_img,1)\n",
    "recovered_image = plotting.plot_epi(x_hat, bg_img=None,black_bg=True, cmap='jet', cut_coords=None)"
   ]
  },
  {
   "cell_type": "code",
   "execution_count": null,
   "metadata": {},
   "outputs": [],
   "source": []
  },
  {
   "cell_type": "code",
   "execution_count": 27,
   "metadata": {},
   "outputs": [
    {
     "data": {
      "image/png": "[encoded data removed]",
      "text/plain": [
       "<matplotlib.figure.Figure at 0x10327d110>"
      ]
     },
     "metadata": {},
     "output_type": "display_data"
    }
   ],
   "source": [
    "x_hat_img = mt.reconstruct_image_affine(x_true_org, S_val)\n",
    "x_hat = image.index_img(x_hat_img,1)\n",
    "recovered_image = plotting.plot_epi(x_hat, bg_img=None,black_bg=True, cmap='jet', cut_coords=None)"
   ]
  },
  {
   "cell_type": "code",
   "execution_count": 23,
   "metadata": {},
   "outputs": [],
   "source": [
    "solution_tolerance = solution_stopping_criterion(L_val, S_val, x_init)"
   ]
  },
  {
   "cell_type": "code",
   "execution_count": 24,
   "metadata": {},
   "outputs": [
    {
     "data": {
      "text/plain": [
       "0.4022648338595282"
      ]
     },
     "execution_count": 24,
     "metadata": {},
     "output_type": "execute_result"
    }
   ],
   "source": [
    "solution_tolerance"
   ]
  },
  {
   "cell_type": "code",
   "execution_count": 29,
   "metadata": {},
   "outputs": [],
   "source": [
    "import numpy.testing as nps"
   ]
  },
  {
   "cell_type": "code",
   "execution_count": null,
   "metadata": {},
   "outputs": [],
   "source": [
    "G = xinit - L_val - S_val"
   ]
  },
  {
   "cell_type": "code",
   "execution_count": null,
   "metadata": {},
   "outputs": [],
   "source": [
    "x_hat_img = mt.reconstruct_image_affine(x_true_org, G)\n",
    "x_hat = image.index_img(x_hat_img,1)\n",
    "recovered_image = plotting.plot_epi(x_hat, bg_img=None,black_bg=True, cmap='jet', cut_coords=None)"
   ]
  },
  {
   "cell_type": "code",
   "execution_count": 30,
   "metadata": {},
   "outputs": [],
   "source": [
    "total = S_val + L_val + G"
   ]
  },
  {
   "cell_type": "code",
   "execution_count": 33,
   "metadata": {},
   "outputs": [
    {
     "ename": "AssertionError",
     "evalue": "\nNot equal to tolerance rtol=0.0001, atol=0\n\n(mismatch 99.9999954787%)\n x: array([[[[1.095457e-05, 1.111091e-05, 1.083910e-05, ..., 1.118155e-05,\n          1.107623e-05, 1.130198e-05],\n         [1.205299e-05, 1.227847e-05, 1.202366e-05, ..., 1.235270e-05,...\n y: array([[[[7.514730e-06, 7.051271e-06, 6.914573e-06, ..., 6.579808e-06,\n          6.544549e-06, 6.527539e-06],\n         [8.061578e-06, 7.588441e-06, 7.408013e-06, ..., 7.342454e-06,...",
     "output_type": "error",
     "traceback": [
      "\u001b[0;31m---------------------------------------------------------------------------\u001b[0m",
      "\u001b[0;31mAssertionError\u001b[0m                            Traceback (most recent call last)",
      "\u001b[0;32m<ipython-input-33-744c4c33cc34>\u001b[0m in \u001b[0;36m<module>\u001b[0;34m()\u001b[0m\n\u001b[0;32m----> 1\u001b[0;31m \u001b[0mnps\u001b[0m\u001b[0;34m.\u001b[0m\u001b[0massert_allclose\u001b[0m\u001b[0;34m(\u001b[0m\u001b[0mtotal\u001b[0m\u001b[0;34m,\u001b[0m \u001b[0mx_init\u001b[0m\u001b[0;34m,\u001b[0m \u001b[0mrtol\u001b[0m\u001b[0;34m=\u001b[0m\u001b[0;36m1e-4\u001b[0m\u001b[0;34m,\u001b[0m \u001b[0matol\u001b[0m\u001b[0;34m=\u001b[0m\u001b[0;36m0\u001b[0m\u001b[0;34m)\u001b[0m\u001b[0;34m\u001b[0m\u001b[0m\n\u001b[0m",
      "\u001b[0;32m/usr/local/lib/python2.7/site-packages/numpy/testing/nose_tools/utils.pyc\u001b[0m in \u001b[0;36massert_allclose\u001b[0;34m(actual, desired, rtol, atol, equal_nan, err_msg, verbose)\u001b[0m\n\u001b[1;32m   1394\u001b[0m     \u001b[0mheader\u001b[0m \u001b[0;34m=\u001b[0m \u001b[0;34m'Not equal to tolerance rtol=%g, atol=%g'\u001b[0m \u001b[0;34m%\u001b[0m \u001b[0;34m(\u001b[0m\u001b[0mrtol\u001b[0m\u001b[0;34m,\u001b[0m \u001b[0matol\u001b[0m\u001b[0;34m)\u001b[0m\u001b[0;34m\u001b[0m\u001b[0m\n\u001b[1;32m   1395\u001b[0m     assert_array_compare(compare, actual, desired, err_msg=str(err_msg),\n\u001b[0;32m-> 1396\u001b[0;31m                          verbose=verbose, header=header, equal_nan=equal_nan)\n\u001b[0m\u001b[1;32m   1397\u001b[0m \u001b[0;34m\u001b[0m\u001b[0m\n\u001b[1;32m   1398\u001b[0m \u001b[0;34m\u001b[0m\u001b[0m\n",
      "\u001b[0;32m/usr/local/lib/python2.7/site-packages/numpy/testing/nose_tools/utils.pyc\u001b[0m in \u001b[0;36massert_array_compare\u001b[0;34m(comparison, x, y, err_msg, verbose, header, precision, equal_nan, equal_inf)\u001b[0m\n\u001b[1;32m    777\u001b[0m                                 \u001b[0mverbose\u001b[0m\u001b[0;34m=\u001b[0m\u001b[0mverbose\u001b[0m\u001b[0;34m,\u001b[0m \u001b[0mheader\u001b[0m\u001b[0;34m=\u001b[0m\u001b[0mheader\u001b[0m\u001b[0;34m,\u001b[0m\u001b[0;34m\u001b[0m\u001b[0m\n\u001b[1;32m    778\u001b[0m                                 names=('x', 'y'), precision=precision)\n\u001b[0;32m--> 779\u001b[0;31m             \u001b[0;32mraise\u001b[0m \u001b[0mAssertionError\u001b[0m\u001b[0;34m(\u001b[0m\u001b[0mmsg\u001b[0m\u001b[0;34m)\u001b[0m\u001b[0;34m\u001b[0m\u001b[0m\n\u001b[0m\u001b[1;32m    780\u001b[0m     \u001b[0;32mexcept\u001b[0m \u001b[0mValueError\u001b[0m\u001b[0;34m:\u001b[0m\u001b[0;34m\u001b[0m\u001b[0m\n\u001b[1;32m    781\u001b[0m         \u001b[0;32mimport\u001b[0m \u001b[0mtraceback\u001b[0m\u001b[0;34m\u001b[0m\u001b[0m\n",
      "\u001b[0;31mAssertionError\u001b[0m: \nNot equal to tolerance rtol=0.0001, atol=0\n\n(mismatch 99.9999954787%)\n x: array([[[[1.095457e-05, 1.111091e-05, 1.083910e-05, ..., 1.118155e-05,\n          1.107623e-05, 1.130198e-05],\n         [1.205299e-05, 1.227847e-05, 1.202366e-05, ..., 1.235270e-05,...\n y: array([[[[7.514730e-06, 7.051271e-06, 6.914573e-06, ..., 6.579808e-06,\n          6.544549e-06, 6.527539e-06],\n         [8.061578e-06, 7.588441e-06, 7.408013e-06, ..., 7.342454e-06,..."
     ]
    }
   ],
   "source": [
    "nps.assert_allclose(total, x_init, rtol=1e-4, atol=0)"
   ]
  },
  {
   "cell_type": "code",
   "execution_count": null,
   "metadata": {},
   "outputs": [],
   "source": []
  }
 ],
 "metadata": {
  "kernelspec": {
   "display_name": "Python 2",
   "language": "python",
   "name": "python2"
  },
  "language_info": {
   "codemirror_mode": {
    "name": "ipython",
    "version": 2
   },
   "file_extension": ".py",
   "mimetype": "text/x-python",
   "name": "python",
   "nbconvert_exporter": "python",
   "pygments_lexer": "ipython2",
   "version": "2.7.13"
  }
 },
 "nbformat": 4,
 "nbformat_minor": 2
}
